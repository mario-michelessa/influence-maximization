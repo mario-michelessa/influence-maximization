{
 "cells": [
  {
   "cell_type": "code",
   "execution_count": 29,
   "metadata": {},
   "outputs": [],
   "source": [
    "import os\n",
    "import numpy as np\n",
    "import random\n",
    "import pandas as pd\n"
   ]
  },
  {
   "cell_type": "code",
   "execution_count": 2,
   "metadata": {},
   "outputs": [],
   "source": [
    "file_user = \"../data/weibo/userProfile.pkl\"\n",
    "file_labels = \"../data/weibo/labels_1000.pkl\""
   ]
  },
  {
   "cell_type": "markdown",
   "metadata": {},
   "source": [
    "Import of User data \n",
    "First approach : without categorical variables"
   ]
  },
  {
   "cell_type": "code",
   "execution_count": 3,
   "metadata": {},
   "outputs": [
    {
     "name": "stdout",
     "output_type": "stream",
     "text": [
      "Wall time: 0 ns\n"
     ]
    }
   ],
   "source": [
    "%%time\n",
    "\"\"\"\n",
    "creates the dataframe of user data and saves it in data/weibo/userProfile.pkl\n",
    "\"\"\"\n",
    "\n",
    "def convert_userProfile(path_input, path_output) : \n",
    "\n",
    "    with open(path_input, mode='r', encoding='gbk') as file : \n",
    "        lines = file.readlines()\n",
    "        df = [[] for _ in range(15)]\n",
    "        for i in range(len(lines)) : \n",
    "            df[i%15].append(lines[i].replace('\\n',''))\n",
    "        d = {}\n",
    "        for i in range(14) : \n",
    "            d[df[i][0]] = df[i][1:]\n",
    "\n",
    "    df = pd.DataFrame(d, columns=['id', 'bi_followers_count', 'city', 'verified', 'followers_count','location','province', 'friends_count','name','gender','created_at','verified_type','statuses_count', 'description'])\n",
    "\n",
    "    print(f\"Memory usage before processing : {df.memory_usage().sum()}\")\n",
    "\n",
    "    df = df.drop(columns=['location', 'name', 'description'])\n",
    "\n",
    "    df['created_at'] = pd.to_datetime(df['created_at'])\n",
    "    df  = df.astype({'id' : np.int64, \n",
    "                    'bi_followers_count' : np.int32, \n",
    "                    'city' : np.int16,\n",
    "                    'followers_count' : np.int16, \n",
    "                    'province' : \"category\",\n",
    "                    'friends_count' : np.int32,\n",
    "                    'gender' : \"category\",\n",
    "                    'verified_type' : \"category\",\n",
    "                    'statuses_count' : np.int16})\n",
    "    print(f\"Memory usage after processing : {df.memory_usage().sum()}\")\n",
    "    pd.to_pickle(df, path_output)\n",
    "\n",
    "#convert_userProfile(\"data/weibo/weibodata/userProfile/user_profile1.txt\", \"data/weibo/userProfile1.pkl\")\n",
    "#convert_userProfile(\"data/weibo/weibodata/userProfile/user_profile2.txt\", \"data/weibo/userProfile2.pkl\")"
   ]
  },
  {
   "cell_type": "code",
   "execution_count": 4,
   "metadata": {},
   "outputs": [],
   "source": [
    "def concat_userProfile():\n",
    "    df1 = pd.read_pickle(\"data/weibo/userProfile1.pkl\")\n",
    "    df2 = pd.read_pickle(\"data/weibo/userProfile2.pkl\")\n",
    "    df = pd.concat([df1, df2])\n",
    "        \n",
    "    print(\"userProfile : \\n\" + df.head(2).to_markdown())\n",
    "    print(f\"shape : {df.shape}\\n\")\n",
    "    pd.to_pickle(df, \"data/weibo/userProfile.pkl\")\n",
    "#concat_userProfile()"
   ]
  },
  {
   "cell_type": "code",
   "execution_count": 5,
   "metadata": {},
   "outputs": [
    {
     "name": "stderr",
     "output_type": "stream",
     "text": [
      "C:\\Users\\Mario\\AppData\\Local\\Temp\\ipykernel_14188\\3518084072.py:17: SettingWithCopyWarning: \n",
      "A value is trying to be set on a copy of a slice from a DataFrame.\n",
      "Try using .loc[row_indexer,col_indexer] = value instead\n",
      "\n",
      "See the caveats in the documentation: https://pandas.pydata.org/pandas-docs/stable/user_guide/indexing.html#returning-a-view-versus-a-copy\n",
      "  df_user_num['verified'] = df_user_num.verified.apply(lambda x : 1 if x =='True' else 0)\n"
     ]
    },
    {
     "name": "stdout",
     "output_type": "stream",
     "text": [
      "df_user_num : \n",
      "|    id |   bi_followers_count |   followers_count |   friends_count |   statuses_count |   verified |\n",
      "|------:|---------------------:|------------------:|----------------:|-----------------:|-----------:|\n",
      "| 10029 |                  142 |             11573 |             378 |             1226 |          1 |\n",
      "| 10057 |                   72 |               212 |             315 |              305 |          0 |\n",
      "| 10111 |                   93 |               322 |             252 |              619 |          0 |\n",
      "| 10145 |                  310 |              3264 |             540 |             1484 |          1 |\n",
      "| 10211 |                  123 |              5704 |             242 |              169 |          0 |\n",
      "shape : (1655678, 5)\n",
      "\n"
     ]
    }
   ],
   "source": [
    "df_user = pd.read_pickle(file_user)\n",
    "df_user.index = df_user['id'].astype(np.int64)\n",
    "\n",
    "def featvec(feat, clist):\n",
    "    \"\"\"\n",
    "    onehot encoding\n",
    "    \"\"\"\n",
    "    output = [0] * len(clist)\n",
    "    output[clist.index(feat)] = 1\n",
    "    return output\n",
    "\n",
    "DATE_VAR = ['created_at']\n",
    "NUM_VAR = ['bi_followers_count', 'followers_count', 'friends_count', 'statuses_count', 'verified']\n",
    "CAT_VAR = ['city', 'verified', 'province', 'verified_type']\n",
    "\n",
    "df_user_num = df_user[NUM_VAR]\n",
    "df_user_num['verified'] = df_user_num.verified.apply(lambda x : 1 if x =='True' else 0)\n",
    "df_user_num = df_user_num.groupby(df_user_num.index).max() #some userid were 2 time in the dataset 1681085 rows -> 1655678 rows\n",
    "\n",
    "print(\"df_user_num : \\n\" + df_user_num.head(5).to_markdown())\n",
    "print(f\"shape : {df_user_num.shape}\\n\" )\n"
   ]
  },
  {
   "cell_type": "markdown",
   "metadata": {},
   "source": [
    "Import of ground truths previously estimated"
   ]
  },
  {
   "cell_type": "code",
   "execution_count": 6,
   "metadata": {},
   "outputs": [
    {
     "name": "stdout",
     "output_type": "stream",
     "text": [
      "labels : \n",
      "|                      |               u |               v |   BT |   JI |   LP |\n",
      "|:---------------------|----------------:|----------------:|-----:|-----:|-----:|\n",
      "| (82768, 82768)       | 82768           | 82768           |  1   | 0.5  |  1   |\n",
      "| (7747002, 7747002)   |     7.747e+06   |     7.747e+06   |  1   | 0.5  |  1   |\n",
      "| (8060099, 8060099)   |     8.0601e+06  |     8.0601e+06  |  1   | 0.5  |  1   |\n",
      "| (15058618, 3023198)  |     1.50586e+07 |     3.0232e+06  |  1   | 0.5  |  1   |\n",
      "| (32821757, 32821757) |     3.28218e+07 |     3.28218e+07 |  0.5 | 0.25 |  0.5 |\n",
      "shape : (147693, 5)\n",
      "\n"
     ]
    }
   ],
   "source": [
    "labels = pd.read_pickle(file_labels)\n",
    "labels.u = labels.u.astype(np.int64)\n",
    "labels.v = labels.v.astype(np.int64)\n",
    "labels.index = pd.MultiIndex.from_tuples(zip(labels['u'],labels['v'])) #important to do .loc[(u,v)]\n",
    "labels = labels.sort_index() # infos are retreived faster\n",
    "labels = labels.drop_duplicates()\n",
    "labels = labels.drop((1637712471, 279405)) #1637712471 is not present in df_user_num (why ?)\n",
    "\n",
    "print(\"labels : \\n\" + labels.head(5).to_markdown())\n",
    "print(f\"shape : {labels.shape}\\n\" )"
   ]
  },
  {
   "cell_type": "markdown",
   "metadata": {},
   "source": [
    "It is not possible to create a matrix of #influencers x #targets x #features (=1.6Billions entries for only 158048 positive influences)\n",
    "\n",
    "So to create one instance we randomly sample 100 influencers and 1000 influencers\n",
    "\n",
    "Is it enough to have positive examples ? yes : roughly 100 / (100x1000) positive labels per prediction matrix"
   ]
  },
  {
   "cell_type": "code",
   "execution_count": 7,
   "metadata": {},
   "outputs": [
    {
     "name": "stdout",
     "output_type": "stream",
     "text": [
      "Total influencers : 823\n",
      "Total targets : 133678\n"
     ]
    }
   ],
   "source": [
    "influencers =set(labels.groupby('u').count().index)\n",
    "targets = set(labels.groupby('v').count().index)\n",
    "\n",
    "print(f\"Total influencers : {len(influencers)}\")\n",
    "print(f\"Total targets : {len(targets)}\")"
   ]
  },
  {
   "cell_type": "markdown",
   "metadata": {},
   "source": [
    "### PARAMETERS"
   ]
  },
  {
   "cell_type": "code",
   "execution_count": 8,
   "metadata": {},
   "outputs": [],
   "source": [
    "N_INFLUENCERS = 100\n",
    "N_TARGETS = 1000\n",
    "N_FEATURES = 2 * len(NUM_VAR)\n",
    "N_INSTANCES = 10"
   ]
  },
  {
   "cell_type": "code",
   "execution_count": 9,
   "metadata": {},
   "outputs": [],
   "source": [
    "sampled_influencers = random.sample(influencers, N_INFLUENCERS)\n",
    "sampled_targets = random.sample(targets, N_TARGETS)"
   ]
  },
  {
   "cell_type": "code",
   "execution_count": 30,
   "metadata": {},
   "outputs": [],
   "source": [
    "def fill_y(u,v) : \n",
    "    if (u,v) in labels.index : \n",
    "        return labels.loc[(u,v)]['BT']\n",
    "    else : \n",
    "        return 0\n",
    "\n",
    "def create_XY(sampled_influencers, sampled_targets) :\n",
    "    \"\"\"\n",
    "    from 2 sets of influencers and targets, creates features and labels according to the paper format\n",
    "    \"\"\"\n",
    "\n",
    "    X = np.zeros((N_INFLUENCERS, N_TARGETS, N_FEATURES))\n",
    "\n",
    "    for target in range(N_TARGETS):\n",
    "        X[:, target, :] = np.c_[np.array(df_user_num.loc[sampled_influencers]), np.tile(df_user_num.loc[sampled_targets[target]],(N_INFLUENCERS, 1))]\n",
    "\n",
    "    Y = np.zeros((N_INFLUENCERS, N_TARGETS))\n",
    "\n",
    "    for i in range(N_INFLUENCERS):\n",
    "        for j in range(N_TARGETS):\n",
    "            Y[i,j] = fill_y(sampled_influencers[i], sampled_targets[j])\n",
    "\n",
    "    Y = np.reshape(Y, (N_INFLUENCERS, N_TARGETS,1))\n",
    "\n",
    "    return np.concatenate((X,Y), axis = 2)\n"
   ]
  },
  {
   "cell_type": "code",
   "execution_count": 28,
   "metadata": {},
   "outputs": [
    {
     "name": "stderr",
     "output_type": "stream",
     "text": [
      "C:\\Users\\Mario\\AppData\\Local\\Temp\\ipykernel_14188\\1691731161.py:7: NumbaWarning: \u001b[1m\n",
      "Compilation is falling back to object mode WITH looplifting enabled because Function \"create_XY\" failed type inference due to: \u001b[1mUntyped global name 'df_user_num':\u001b[0m \u001b[1m\u001b[1mCannot determine Numba type of <class 'pandas.core.frame.DataFrame'>\u001b[0m\n",
      "\u001b[1m\n",
      "File \"C:\\Users\\Mario\\AppData\\Local\\Temp\\ipykernel_14188\\1691731161.py\", line 16:\u001b[0m\n",
      "\u001b[1mdef create_XY(sampled_influencers, sampled_targets) :\n",
      "    <source elided>\n",
      "    for target in range(N_TARGETS):\n",
      "\u001b[1m        X[:, target, :] = np.c_[np.array(df_user_num.loc[sampled_influencers]), np.tile(df_user_num.loc[sampled_targets[target]],(N_INFLUENCERS, 1))]\n",
      "\u001b[0m        \u001b[1m^\u001b[0m\u001b[0m\n",
      "\u001b[0m\u001b[0m\n",
      "  @jit\n",
      "C:\\Users\\Mario\\AppData\\Local\\Temp\\ipykernel_14188\\1691731161.py:7: NumbaWarning: \u001b[1m\n",
      "Compilation is falling back to object mode WITHOUT looplifting enabled because Function \"create_XY\" failed type inference due to: \u001b[1m\u001b[1mCannot determine Numba type of <class 'numba.core.dispatcher.LiftedLoop'>\u001b[0m\n",
      "\u001b[1m\n",
      "File \"C:\\Users\\Mario\\AppData\\Local\\Temp\\ipykernel_14188\\1691731161.py\", line 15:\u001b[0m\n",
      "\u001b[1mdef create_XY(sampled_influencers, sampled_targets) :\n",
      "    <source elided>\n",
      "\n",
      "\u001b[1m    for target in range(N_TARGETS):\n",
      "\u001b[0m    \u001b[1m^\u001b[0m\u001b[0m\n",
      "\u001b[0m\u001b[0m\n",
      "  @jit\n",
      "D:\\0. PROGRAMMES SSD\\Anaconda\\envs\\ml-IM\\lib\\site-packages\\numba\\core\\object_mode_passes.py:151: NumbaWarning: \u001b[1mFunction \"create_XY\" was compiled in object mode without forceobj=True, but has lifted loops.\n",
      "\u001b[1m\n",
      "File \"C:\\Users\\Mario\\AppData\\Local\\Temp\\ipykernel_14188\\1691731161.py\", line 13:\u001b[0m\n",
      "\u001b[1mdef create_XY(sampled_influencers, sampled_targets) :\n",
      "    <source elided>\n",
      "\n",
      "\u001b[1m    X = np.zeros((N_INFLUENCERS, N_TARGETS, N_FEATURES))\n",
      "\u001b[0m    \u001b[1m^\u001b[0m\u001b[0m\n",
      "\u001b[0m\n",
      "  warnings.warn(errors.NumbaWarning(warn_msg,\n",
      "D:\\0. PROGRAMMES SSD\\Anaconda\\envs\\ml-IM\\lib\\site-packages\\numba\\core\\object_mode_passes.py:161: NumbaDeprecationWarning: \u001b[1m\n",
      "Fall-back from the nopython compilation path to the object mode compilation path has been detected, this is deprecated behaviour.\n",
      "\n",
      "For more information visit https://numba.pydata.org/numba-doc/latest/reference/deprecation.html#deprecation-of-object-mode-fall-back-behaviour-when-using-jit\n",
      "\u001b[1m\n",
      "File \"C:\\Users\\Mario\\AppData\\Local\\Temp\\ipykernel_14188\\1691731161.py\", line 13:\u001b[0m\n",
      "\u001b[1mdef create_XY(sampled_influencers, sampled_targets) :\n",
      "    <source elided>\n",
      "\n",
      "\u001b[1m    X = np.zeros((N_INFLUENCERS, N_TARGETS, N_FEATURES))\n",
      "\u001b[0m    \u001b[1m^\u001b[0m\u001b[0m\n",
      "\u001b[0m\n",
      "  warnings.warn(errors.NumbaDeprecationWarning(msg,\n",
      "C:\\Users\\Mario\\AppData\\Local\\Temp\\ipykernel_14188\\1691731161.py:7: NumbaWarning: \u001b[1m\n",
      "Compilation is falling back to object mode WITHOUT looplifting enabled because Function \"create_XY\" failed type inference due to: \u001b[1mUntyped global name 'df_user_num':\u001b[0m \u001b[1m\u001b[1mCannot determine Numba type of <class 'pandas.core.frame.DataFrame'>\u001b[0m\n",
      "\u001b[1m\n",
      "File \"C:\\Users\\Mario\\AppData\\Local\\Temp\\ipykernel_14188\\1691731161.py\", line 16:\u001b[0m\n",
      "\u001b[1mdef create_XY(sampled_influencers, sampled_targets) :\n",
      "    <source elided>\n",
      "    for target in range(N_TARGETS):\n",
      "\u001b[1m        X[:, target, :] = np.c_[np.array(df_user_num.loc[sampled_influencers]), np.tile(df_user_num.loc[sampled_targets[target]],(N_INFLUENCERS, 1))]\n",
      "\u001b[0m        \u001b[1m^\u001b[0m\u001b[0m\n",
      "\u001b[0m\u001b[0m\n",
      "  @jit\n",
      "D:\\0. PROGRAMMES SSD\\Anaconda\\envs\\ml-IM\\lib\\site-packages\\numba\\core\\object_mode_passes.py:151: NumbaWarning: \u001b[1mFunction \"create_XY\" was compiled in object mode without forceobj=True.\n",
      "\u001b[1m\n",
      "File \"C:\\Users\\Mario\\AppData\\Local\\Temp\\ipykernel_14188\\1691731161.py\", line 15:\u001b[0m\n",
      "\u001b[1mdef create_XY(sampled_influencers, sampled_targets) :\n",
      "    <source elided>\n",
      "\n",
      "\u001b[1m    for target in range(N_TARGETS):\n",
      "\u001b[0m    \u001b[1m^\u001b[0m\u001b[0m\n",
      "\u001b[0m\n",
      "  warnings.warn(errors.NumbaWarning(warn_msg,\n",
      "D:\\0. PROGRAMMES SSD\\Anaconda\\envs\\ml-IM\\lib\\site-packages\\numba\\core\\object_mode_passes.py:161: NumbaDeprecationWarning: \u001b[1m\n",
      "Fall-back from the nopython compilation path to the object mode compilation path has been detected, this is deprecated behaviour.\n",
      "\n",
      "For more information visit https://numba.pydata.org/numba-doc/latest/reference/deprecation.html#deprecation-of-object-mode-fall-back-behaviour-when-using-jit\n",
      "\u001b[1m\n",
      "File \"C:\\Users\\Mario\\AppData\\Local\\Temp\\ipykernel_14188\\1691731161.py\", line 15:\u001b[0m\n",
      "\u001b[1mdef create_XY(sampled_influencers, sampled_targets) :\n",
      "    <source elided>\n",
      "\n",
      "\u001b[1m    for target in range(N_TARGETS):\n",
      "\u001b[0m    \u001b[1m^\u001b[0m\u001b[0m\n",
      "\u001b[0m\n",
      "  warnings.warn(errors.NumbaDeprecationWarning(msg,\n",
      "C:\\Users\\Mario\\AppData\\Local\\Temp\\ipykernel_14188\\1691731161.py:7: NumbaWarning: \u001b[1m\n",
      "Compilation is falling back to object mode WITHOUT looplifting enabled because Function \"create_XY\" failed type inference due to: \u001b[1mUntyped global name 'fill_y':\u001b[0m \u001b[1m\u001b[1mCannot determine Numba type of <class 'function'>\u001b[0m\n",
      "\u001b[1m\n",
      "File \"C:\\Users\\Mario\\AppData\\Local\\Temp\\ipykernel_14188\\1691731161.py\", line 22:\u001b[0m\n",
      "\u001b[1mdef create_XY(sampled_influencers, sampled_targets) :\n",
      "    <source elided>\n",
      "        for j in range(N_TARGETS):\n",
      "\u001b[1m            Y[i,j] = fill_y(sampled_influencers[i], sampled_targets[j])\n",
      "\u001b[0m            \u001b[1m^\u001b[0m\u001b[0m\n",
      "\u001b[0m\u001b[0m\n",
      "  @jit\n",
      "D:\\0. PROGRAMMES SSD\\Anaconda\\envs\\ml-IM\\lib\\site-packages\\numba\\core\\object_mode_passes.py:151: NumbaWarning: \u001b[1mFunction \"create_XY\" was compiled in object mode without forceobj=True.\n",
      "\u001b[1m\n",
      "File \"C:\\Users\\Mario\\AppData\\Local\\Temp\\ipykernel_14188\\1691731161.py\", line 18:\u001b[0m\n",
      "\u001b[1mdef create_XY(sampled_influencers, sampled_targets) :\n",
      "    <source elided>\n",
      "\n",
      "\u001b[1m    Y = np.zeros((N_INFLUENCERS, N_TARGETS))\n",
      "\u001b[0m    \u001b[1m^\u001b[0m\u001b[0m\n",
      "\u001b[0m\n",
      "  warnings.warn(errors.NumbaWarning(warn_msg,\n",
      "D:\\0. PROGRAMMES SSD\\Anaconda\\envs\\ml-IM\\lib\\site-packages\\numba\\core\\object_mode_passes.py:161: NumbaDeprecationWarning: \u001b[1m\n",
      "Fall-back from the nopython compilation path to the object mode compilation path has been detected, this is deprecated behaviour.\n",
      "\n",
      "For more information visit https://numba.pydata.org/numba-doc/latest/reference/deprecation.html#deprecation-of-object-mode-fall-back-behaviour-when-using-jit\n",
      "\u001b[1m\n",
      "File \"C:\\Users\\Mario\\AppData\\Local\\Temp\\ipykernel_14188\\1691731161.py\", line 18:\u001b[0m\n",
      "\u001b[1mdef create_XY(sampled_influencers, sampled_targets) :\n",
      "    <source elided>\n",
      "\n",
      "\u001b[1m    Y = np.zeros((N_INFLUENCERS, N_TARGETS))\n",
      "\u001b[0m    \u001b[1m^\u001b[0m\u001b[0m\n",
      "\u001b[0m\n",
      "  warnings.warn(errors.NumbaDeprecationWarning(msg,\n"
     ]
    },
    {
     "name": "stdout",
     "output_type": "stream",
     "text": [
      "Saving instance 0/10...\n",
      "Saving instance 1/10...\n"
     ]
    },
    {
     "ename": "KeyboardInterrupt",
     "evalue": "",
     "output_type": "error",
     "traceback": [
      "\u001b[1;31m---------------------------------------------------------------------------\u001b[0m",
      "\u001b[1;31mKeyboardInterrupt\u001b[0m                         Traceback (most recent call last)",
      "\u001b[1;32m~\\AppData\\Local\\Temp\\ipykernel_14188\\88723416.py\u001b[0m in \u001b[0;36m<module>\u001b[1;34m\u001b[0m\n\u001b[0;32m      5\u001b[0m     \u001b[0msampled_targets\u001b[0m \u001b[1;33m=\u001b[0m \u001b[0mrandom\u001b[0m\u001b[1;33m.\u001b[0m\u001b[0msample\u001b[0m\u001b[1;33m(\u001b[0m\u001b[0mtargets\u001b[0m\u001b[1;33m,\u001b[0m \u001b[0mN_TARGETS\u001b[0m\u001b[1;33m)\u001b[0m\u001b[1;33m\u001b[0m\u001b[1;33m\u001b[0m\u001b[0m\n\u001b[0;32m      6\u001b[0m \u001b[1;33m\u001b[0m\u001b[0m\n\u001b[1;32m----> 7\u001b[1;33m     \u001b[0mXY\u001b[0m \u001b[1;33m=\u001b[0m \u001b[0mcreate_XY\u001b[0m\u001b[1;33m(\u001b[0m\u001b[0msampled_influencers\u001b[0m\u001b[1;33m,\u001b[0m \u001b[0msampled_targets\u001b[0m\u001b[1;33m)\u001b[0m\u001b[1;33m\u001b[0m\u001b[1;33m\u001b[0m\u001b[0m\n\u001b[0m\u001b[0;32m      8\u001b[0m \u001b[1;33m\u001b[0m\u001b[0m\n\u001b[0;32m      9\u001b[0m     \u001b[1;32mif\u001b[0m \u001b[0minstance\u001b[0m \u001b[1;33m%\u001b[0m \u001b[1;33m(\u001b[0m\u001b[0mN_INSTANCES\u001b[0m \u001b[1;33m//\u001b[0m \u001b[1;36m10\u001b[0m\u001b[1;33m)\u001b[0m \u001b[1;33m==\u001b[0m \u001b[1;36m0\u001b[0m \u001b[1;33m:\u001b[0m \u001b[0mprint\u001b[0m\u001b[1;33m(\u001b[0m\u001b[1;34mf\"Saving instance {instance}/{N_INSTANCES}...\"\u001b[0m\u001b[1;33m)\u001b[0m\u001b[1;33m\u001b[0m\u001b[1;33m\u001b[0m\u001b[0m\n",
      "\u001b[1;32m~\\AppData\\Local\\Temp\\ipykernel_14188\\1691731161.py\u001b[0m in \u001b[0;36mfill_y\u001b[1;34m(u, v)\u001b[0m\n\u001b[0;32m      1\u001b[0m \u001b[1;32mdef\u001b[0m \u001b[0mfill_y\u001b[0m\u001b[1;33m(\u001b[0m\u001b[0mu\u001b[0m\u001b[1;33m,\u001b[0m\u001b[0mv\u001b[0m\u001b[1;33m)\u001b[0m \u001b[1;33m:\u001b[0m\u001b[1;33m\u001b[0m\u001b[1;33m\u001b[0m\u001b[0m\n\u001b[1;32m----> 2\u001b[1;33m     \u001b[1;32mif\u001b[0m \u001b[1;33m(\u001b[0m\u001b[0mu\u001b[0m\u001b[1;33m,\u001b[0m\u001b[0mv\u001b[0m\u001b[1;33m)\u001b[0m \u001b[1;32min\u001b[0m \u001b[0mlabels\u001b[0m\u001b[1;33m.\u001b[0m\u001b[0mindex\u001b[0m \u001b[1;33m:\u001b[0m\u001b[1;33m\u001b[0m\u001b[1;33m\u001b[0m\u001b[0m\n\u001b[0m\u001b[0;32m      3\u001b[0m         \u001b[1;32mreturn\u001b[0m \u001b[0mlabels\u001b[0m\u001b[1;33m.\u001b[0m\u001b[0mloc\u001b[0m\u001b[1;33m[\u001b[0m\u001b[1;33m(\u001b[0m\u001b[0mu\u001b[0m\u001b[1;33m,\u001b[0m\u001b[0mv\u001b[0m\u001b[1;33m)\u001b[0m\u001b[1;33m]\u001b[0m\u001b[1;33m[\u001b[0m\u001b[1;34m'BT'\u001b[0m\u001b[1;33m]\u001b[0m\u001b[1;33m\u001b[0m\u001b[1;33m\u001b[0m\u001b[0m\n\u001b[0;32m      4\u001b[0m     \u001b[1;32melse\u001b[0m \u001b[1;33m:\u001b[0m\u001b[1;33m\u001b[0m\u001b[1;33m\u001b[0m\u001b[0m\n\u001b[0;32m      5\u001b[0m         \u001b[1;32mreturn\u001b[0m \u001b[1;36m0\u001b[0m\u001b[1;33m\u001b[0m\u001b[1;33m\u001b[0m\u001b[0m\n",
      "\u001b[1;32mD:\\0. PROGRAMMES SSD\\Anaconda\\envs\\ml-IM\\lib\\site-packages\\pandas\\core\\indexes\\multi.py\u001b[0m in \u001b[0;36m__contains__\u001b[1;34m(self, key)\u001b[0m\n\u001b[0;32m   1206\u001b[0m         \u001b[0mhash\u001b[0m\u001b[1;33m(\u001b[0m\u001b[0mkey\u001b[0m\u001b[1;33m)\u001b[0m\u001b[1;33m\u001b[0m\u001b[1;33m\u001b[0m\u001b[0m\n\u001b[0;32m   1207\u001b[0m         \u001b[1;32mtry\u001b[0m\u001b[1;33m:\u001b[0m\u001b[1;33m\u001b[0m\u001b[1;33m\u001b[0m\u001b[0m\n\u001b[1;32m-> 1208\u001b[1;33m             \u001b[0mself\u001b[0m\u001b[1;33m.\u001b[0m\u001b[0mget_loc\u001b[0m\u001b[1;33m(\u001b[0m\u001b[0mkey\u001b[0m\u001b[1;33m)\u001b[0m\u001b[1;33m\u001b[0m\u001b[1;33m\u001b[0m\u001b[0m\n\u001b[0m\u001b[0;32m   1209\u001b[0m             \u001b[1;32mreturn\u001b[0m \u001b[1;32mTrue\u001b[0m\u001b[1;33m\u001b[0m\u001b[1;33m\u001b[0m\u001b[0m\n\u001b[0;32m   1210\u001b[0m         \u001b[1;32mexcept\u001b[0m \u001b[1;33m(\u001b[0m\u001b[0mLookupError\u001b[0m\u001b[1;33m,\u001b[0m \u001b[0mTypeError\u001b[0m\u001b[1;33m,\u001b[0m \u001b[0mValueError\u001b[0m\u001b[1;33m)\u001b[0m\u001b[1;33m:\u001b[0m\u001b[1;33m\u001b[0m\u001b[1;33m\u001b[0m\u001b[0m\n",
      "\u001b[1;32mD:\\0. PROGRAMMES SSD\\Anaconda\\envs\\ml-IM\\lib\\site-packages\\pandas\\core\\indexes\\multi.py\u001b[0m in \u001b[0;36mget_loc\u001b[1;34m(self, key, method)\u001b[0m\n\u001b[0;32m   2884\u001b[0m \u001b[1;33m\u001b[0m\u001b[0m\n\u001b[0;32m   2885\u001b[0m         \u001b[1;32mif\u001b[0m \u001b[0mkeylen\u001b[0m \u001b[1;33m==\u001b[0m \u001b[0mself\u001b[0m\u001b[1;33m.\u001b[0m\u001b[0mnlevels\u001b[0m \u001b[1;32mand\u001b[0m \u001b[0mself\u001b[0m\u001b[1;33m.\u001b[0m\u001b[0mis_unique\u001b[0m\u001b[1;33m:\u001b[0m\u001b[1;33m\u001b[0m\u001b[1;33m\u001b[0m\u001b[0m\n\u001b[1;32m-> 2886\u001b[1;33m             \u001b[1;32mreturn\u001b[0m \u001b[0mself\u001b[0m\u001b[1;33m.\u001b[0m\u001b[0m_engine\u001b[0m\u001b[1;33m.\u001b[0m\u001b[0mget_loc\u001b[0m\u001b[1;33m(\u001b[0m\u001b[0mkey\u001b[0m\u001b[1;33m)\u001b[0m\u001b[1;33m\u001b[0m\u001b[1;33m\u001b[0m\u001b[0m\n\u001b[0m\u001b[0;32m   2887\u001b[0m \u001b[1;33m\u001b[0m\u001b[0m\n\u001b[0;32m   2888\u001b[0m         \u001b[1;31m# -- partial selection or non-unique index\u001b[0m\u001b[1;33m\u001b[0m\u001b[1;33m\u001b[0m\u001b[1;33m\u001b[0m\u001b[0m\n",
      "\u001b[1;32mpandas\\_libs\\index.pyx\u001b[0m in \u001b[0;36mpandas._libs.index.BaseMultiIndexCodesEngine.get_loc\u001b[1;34m()\u001b[0m\n",
      "\u001b[1;32mD:\\0. PROGRAMMES SSD\\Anaconda\\envs\\ml-IM\\lib\\site-packages\\pandas\\core\\indexes\\multi.py\u001b[0m in \u001b[0;36m_codes_to_ints\u001b[1;34m(self, codes)\u001b[0m\n\u001b[0;32m    110\u001b[0m         \u001b[1;31m# composition of the (disjunct) significant bits of each level (i.e.\u001b[0m\u001b[1;33m\u001b[0m\u001b[1;33m\u001b[0m\u001b[1;33m\u001b[0m\u001b[0m\n\u001b[0;32m    111\u001b[0m         \u001b[1;31m# each column in \"codes\") in a single positive integer:\u001b[0m\u001b[1;33m\u001b[0m\u001b[1;33m\u001b[0m\u001b[1;33m\u001b[0m\u001b[0m\n\u001b[1;32m--> 112\u001b[1;33m         \u001b[1;32mif\u001b[0m \u001b[0mcodes\u001b[0m\u001b[1;33m.\u001b[0m\u001b[0mndim\u001b[0m \u001b[1;33m==\u001b[0m \u001b[1;36m1\u001b[0m\u001b[1;33m:\u001b[0m\u001b[1;33m\u001b[0m\u001b[1;33m\u001b[0m\u001b[0m\n\u001b[0m\u001b[0;32m    113\u001b[0m             \u001b[1;31m# Single key\u001b[0m\u001b[1;33m\u001b[0m\u001b[1;33m\u001b[0m\u001b[1;33m\u001b[0m\u001b[0m\n\u001b[0;32m    114\u001b[0m             \u001b[1;32mreturn\u001b[0m \u001b[0mnp\u001b[0m\u001b[1;33m.\u001b[0m\u001b[0mbitwise_or\u001b[0m\u001b[1;33m.\u001b[0m\u001b[0mreduce\u001b[0m\u001b[1;33m(\u001b[0m\u001b[0mcodes\u001b[0m\u001b[1;33m)\u001b[0m\u001b[1;33m\u001b[0m\u001b[1;33m\u001b[0m\u001b[0m\n",
      "\u001b[1;31mKeyboardInterrupt\u001b[0m: "
     ]
    }
   ],
   "source": [
    "path = '../decision_focused_learning_gpu/instances_weibo/'\n",
    "\n",
    "for instance in range(N_INSTANCES) : \n",
    "    sampled_influencers = random.sample(influencers, N_INFLUENCERS)\n",
    "    sampled_targets = random.sample(targets, N_TARGETS)\n",
    "\n",
    "    XY = create_XY(sampled_influencers, sampled_targets)\n",
    "    \n",
    "    if instance % (N_INSTANCES // 10) == 0 : print(f\"Saving instance {instance}/{N_INSTANCES}...\")\n",
    "    if os.path.exists(path + f'{instance}.npz') == False:\n",
    "        np.savez(path + f'{instance}.npz', XY)\n",
    "    \n",
    "    del(XY)\n",
    "print(\"End\")\n"
   ]
  },
  {
   "cell_type": "markdown",
   "metadata": {},
   "source": [
    "Reduce sparsity ?"
   ]
  },
  {
   "cell_type": "code",
   "execution_count": 21,
   "metadata": {},
   "outputs": [],
   "source": [
    "max_sampled_influencers = list(labels.groupby('u').count().sort_values(ascending=False, by='v')[:N_INFLUENCERS].index)\n",
    "max_sampled_targets = list(labels.groupby('v').count().sort_values(ascending=False, by='u')[:N_TARGETS].index)"
   ]
  },
  {
   "cell_type": "code",
   "execution_count": 32,
   "metadata": {},
   "outputs": [],
   "source": [
    "maxXY = create_XY(max_sampled_influencers, max_sampled_targets)\n"
   ]
  },
  {
   "cell_type": "code",
   "execution_count": 42,
   "metadata": {},
   "outputs": [
    {
     "data": {
      "text/plain": [
       "<seaborn.axisgrid.FacetGrid at 0x1d49194cd30>"
      ]
     },
     "execution_count": 42,
     "metadata": {},
     "output_type": "execute_result"
    },
    {
     "data": {
      "image/png": "[encoded data removed]",
      "text/plain": [
       "<Figure size 408.875x360 with 1 Axes>"
      ]
     },
     "metadata": {
      "needs_background": "light"
     },
     "output_type": "display_data"
    }
   ],
   "source": [
    "import seaborn as sns\n",
    "\n",
    "sns.displot(labels.groupby('u').count().sort_values(ascending=False, by='v'))"
   ]
  },
  {
   "cell_type": "code",
   "execution_count": null,
   "metadata": {},
   "outputs": [],
   "source": []
  }
 ],
 "metadata": {
  "interpreter": {
   "hash": "dc0f5465fe995d1bcad0eb0cccd8f49aa4a13151dec79867121107c7f441e047"
  },
  "kernelspec": {
   "display_name": "Python 3.8.12 ('ml-IM')",
   "language": "python",
   "name": "python3"
  },
  "language_info": {
   "codemirror_mode": {
    "name": "ipython",
    "version": 3
   },
   "file_extension": ".py",
   "mimetype": "text/x-python",
   "name": "python",
   "nbconvert_exporter": "python",
   "pygments_lexer": "ipython3",
   "version": "3.8.12"
  },
  "orig_nbformat": 4
 },
 "nbformat": 4,
 "nbformat_minor": 2
}
