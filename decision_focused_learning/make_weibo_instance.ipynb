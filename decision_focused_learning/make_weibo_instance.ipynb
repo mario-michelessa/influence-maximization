{
 "cells": [
  {
   "cell_type": "code",
   "execution_count": 1,
   "metadata": {},
   "outputs": [],
   "source": [
    "import os\n",
    "import torch\n",
    "import numpy as np\n",
    "import random\n",
    "import pandas as pd\n"
   ]
  },
  {
   "cell_type": "markdown",
   "metadata": {},
   "source": [
    "Parameters"
   ]
  },
  {
   "cell_type": "code",
   "execution_count": 2,
   "metadata": {},
   "outputs": [],
   "source": [
    "num_targets = 500\n",
    "num_items = 100\n",
    "\n",
    "num_instances = 100\n",
    "test_pct = 0.2\n",
    "num_random_iter = 30\n",
    "\n"
   ]
  },
  {
   "cell_type": "code",
   "execution_count": null,
   "metadata": {},
   "outputs": [],
   "source": [
    "\n"
   ]
  },
  {
   "cell_type": "markdown",
   "metadata": {},
   "source": [
    "Import of User data "
   ]
  },
  {
   "cell_type": "code",
   "execution_count": 9,
   "metadata": {},
   "outputs": [
    {
     "data": {
      "text/html": [
       "<div>\n",
       "<style scoped>\n",
       "    .dataframe tbody tr th:only-of-type {\n",
       "        vertical-align: middle;\n",
       "    }\n",
       "\n",
       "    .dataframe tbody tr th {\n",
       "        vertical-align: top;\n",
       "    }\n",
       "\n",
       "    .dataframe thead th {\n",
       "        text-align: right;\n",
       "    }\n",
       "</style>\n",
       "<table border=\"1\" class=\"dataframe\">\n",
       "  <thead>\n",
       "    <tr style=\"text-align: right;\">\n",
       "      <th></th>\n",
       "      <th>bi_followers_count</th>\n",
       "      <th>followers_count</th>\n",
       "      <th>friends_count</th>\n",
       "      <th>statuses_count</th>\n",
       "    </tr>\n",
       "    <tr>\n",
       "      <th>id</th>\n",
       "      <th></th>\n",
       "      <th></th>\n",
       "      <th></th>\n",
       "      <th></th>\n",
       "    </tr>\n",
       "  </thead>\n",
       "  <tbody>\n",
       "    <tr>\n",
       "      <th>1657151084</th>\n",
       "      <td>0</td>\n",
       "      <td>33</td>\n",
       "      <td>162</td>\n",
       "      <td>0</td>\n",
       "    </tr>\n",
       "    <tr>\n",
       "      <th>1657149732</th>\n",
       "      <td>0</td>\n",
       "      <td>16</td>\n",
       "      <td>27</td>\n",
       "      <td>11</td>\n",
       "    </tr>\n",
       "    <tr>\n",
       "      <th>1657148500</th>\n",
       "      <td>4</td>\n",
       "      <td>79</td>\n",
       "      <td>29</td>\n",
       "      <td>25</td>\n",
       "    </tr>\n",
       "    <tr>\n",
       "      <th>1657146942</th>\n",
       "      <td>1</td>\n",
       "      <td>14</td>\n",
       "      <td>11</td>\n",
       "      <td>3</td>\n",
       "    </tr>\n",
       "    <tr>\n",
       "      <th>1657150271</th>\n",
       "      <td>73</td>\n",
       "      <td>390</td>\n",
       "      <td>151</td>\n",
       "      <td>24</td>\n",
       "    </tr>\n",
       "    <tr>\n",
       "      <th>...</th>\n",
       "      <td>...</td>\n",
       "      <td>...</td>\n",
       "      <td>...</td>\n",
       "      <td>...</td>\n",
       "    </tr>\n",
       "    <tr>\n",
       "      <th>1837213080</th>\n",
       "      <td>91</td>\n",
       "      <td>880</td>\n",
       "      <td>130</td>\n",
       "      <td>1713</td>\n",
       "    </tr>\n",
       "    <tr>\n",
       "      <th>1837246162</th>\n",
       "      <td>15</td>\n",
       "      <td>246</td>\n",
       "      <td>230</td>\n",
       "      <td>915</td>\n",
       "    </tr>\n",
       "    <tr>\n",
       "      <th>1837251604</th>\n",
       "      <td>42</td>\n",
       "      <td>472</td>\n",
       "      <td>169</td>\n",
       "      <td>979</td>\n",
       "    </tr>\n",
       "    <tr>\n",
       "      <th>1837263013</th>\n",
       "      <td>179</td>\n",
       "      <td>3990</td>\n",
       "      <td>212</td>\n",
       "      <td>1759</td>\n",
       "    </tr>\n",
       "    <tr>\n",
       "      <th>1837256193</th>\n",
       "      <td>249</td>\n",
       "      <td>1257</td>\n",
       "      <td>651</td>\n",
       "      <td>2966</td>\n",
       "    </tr>\n",
       "  </tbody>\n",
       "</table>\n",
       "<p>1681085 rows × 4 columns</p>\n",
       "</div>"
      ],
      "text/plain": [
       "            bi_followers_count  followers_count  friends_count  statuses_count\n",
       "id                                                                            \n",
       "1657151084                   0               33            162               0\n",
       "1657149732                   0               16             27              11\n",
       "1657148500                   4               79             29              25\n",
       "1657146942                   1               14             11               3\n",
       "1657150271                  73              390            151              24\n",
       "...                        ...              ...            ...             ...\n",
       "1837213080                  91              880            130            1713\n",
       "1837246162                  15              246            230             915\n",
       "1837251604                  42              472            169             979\n",
       "1837263013                 179             3990            212            1759\n",
       "1837256193                 249             1257            651            2966\n",
       "\n",
       "[1681085 rows x 4 columns]"
      ]
     },
     "execution_count": 9,
     "metadata": {},
     "output_type": "execute_result"
    }
   ],
   "source": [
    "df_user = pd.read_pickle(\"../data/weibo/userProfile.pkl\")\n",
    "df_user.index = df_user['id']\n",
    "def featvec(feat, clist):\n",
    "    \"\"\"\n",
    "    onehot encoding\n",
    "    \"\"\"\n",
    "    output = [0] * len(clist)\n",
    "    output[clist.index(feat)] = 1\n",
    "    return output\n",
    "\n",
    "DATE_VAR = ['created_at']\n",
    "NUM_VAR = ['bi_followers_count', 'followers_count', 'friends_count', 'statuses_count']\n",
    "CAT_VAR = ['city', 'verified', 'province', 'statuses_count', 'verified_type']\n",
    "df_user_num = df_user[NUM_VAR]\n",
    "df_user_num"
   ]
  },
  {
   "cell_type": "code",
   "execution_count": 12,
   "metadata": {},
   "outputs": [
    {
     "data": {
      "text/plain": [
       "(1682, 943)"
      ]
     },
     "execution_count": 12,
     "metadata": {},
     "output_type": "execute_result"
    }
   ],
   "source": [
    "\n",
    "'''\n",
    "make link probability matrix\n",
    "'''\n",
    "\n",
    "f = open('ml-100k/u.data')\n",
    "data = f.readlines()\n",
    "f.close()\n",
    "\n",
    "data = np.array([list(map(int, d.split()[:-1])) for d in data])\n",
    "P_full = np.zeros([np.max(data[:,1]) , np.max(data[:,0])])\n",
    "for d in data: \n",
    "    P_full[d[1]-1, d[0]-1] = .02 * d[2] \n",
    "P_full.shape"
   ]
  },
  {
   "cell_type": "code",
   "execution_count": null,
   "metadata": {},
   "outputs": [],
   "source": [
    "\n",
    "\n",
    "'''\n",
    "make features\n",
    "'''\n",
    "num_movies, num_movie_features = item_df.shape\n",
    "num_users, num_user_features = user_df.shape\n",
    "num_features = num_movie_features + num_user_features\n",
    "\n",
    "features = np.zeros([num_movies, num_users, num_features])\n",
    "\n",
    "for u in range(num_users):\n",
    "    features[:, u, :] = np.c_[np.tile(user_df.iloc[u],(num_movies, 1)), np.array(item_df)]\n",
    "\n"
   ]
  },
  {
   "cell_type": "code",
   "execution_count": null,
   "metadata": {},
   "outputs": [],
   "source": [
    "\n",
    "'''\n",
    "make random instances\n",
    "'''\n",
    "\n",
    "Ps   = np.zeros([num_instances, num_items, num_targets])\n",
    "data = np.zeros([num_instances, num_items, num_targets, num_features])\n",
    "for t in range(num_instances):\n",
    "    m_idx = random.sample(range(np.shape(P_full)[1]), num_items)\n",
    "    u_idx = random.sample(range(np.shape(P_full)[1]), num_targets)\n",
    "    P_used  = P_full[m_idx,:]\n",
    "    Ps[t] = P_used[:, u_idx]\n",
    "    data[t] = features[m_idx, :, :][:, u_idx, :]\n",
    "\n"
   ]
  },
  {
   "cell_type": "code",
   "execution_count": null,
   "metadata": {},
   "outputs": [],
   "source": [
    "\n",
    "path = 'instances/'\n",
    "if os.path.exists(path + 'Ps.npz') == False:\n",
    "    np.savez(path + 'Ps.npz', Ps = Ps)\n",
    "if os.path.exists(path + 'data.npz') == False:\n",
    "    np.savez(path + 'data.npz', data = data)\n",
    "\n",
    "for i in range(num_random_iter):\n",
    "    test = random.sample(range(num_instances), int(test_pct*num_instances))\n",
    "    train = [i for i in range(num_instances) if i not in test]\n",
    "    if os.path.exists(path + '{}.npz'.format(i)) == False:\n",
    "        np.savez(path + '{}'.format(i), train = train, test = test)\n"
   ]
  }
 ],
 "metadata": {
  "interpreter": {
   "hash": "dc0f5465fe995d1bcad0eb0cccd8f49aa4a13151dec79867121107c7f441e047"
  },
  "kernelspec": {
   "display_name": "Python 3.8.12 ('ml-IM')",
   "language": "python",
   "name": "python3"
  },
  "language_info": {
   "codemirror_mode": {
    "name": "ipython",
    "version": 3
   },
   "file_extension": ".py",
   "mimetype": "text/x-python",
   "name": "python",
   "nbconvert_exporter": "python",
   "pygments_lexer": "ipython3",
   "version": "3.8.12"
  },
  "orig_nbformat": 4
 },
 "nbformat": 4,
 "nbformat_minor": 2
}
