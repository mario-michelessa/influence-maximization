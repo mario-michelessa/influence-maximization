{
 "cells": [
  {
   "cell_type": "code",
   "execution_count": 20,
   "metadata": {},
   "outputs": [],
   "source": [
    "import os\n",
    "import warnings\n",
    "warnings.simplefilter('ignore')\n",
    "\n",
    "import numpy as np\n",
    "import random\n",
    "from functools import partial\n",
    "\n",
    "import torch\n",
    "import torch.nn as nn\n",
    "\n",
    "from predictive_model import make_fc\n",
    "\n",
    "from greedy_coverage import set_func, marginal_vec, greedy\n",
    "from greedy_submodular import GreedyOptimizer \n",
    "\n",
    "import seaborn as sns\n",
    "import matplotlib.pyplot as plt\n",
    "\n",
    "from continuous_coverage import optimize_coverage_multilinear, CoverageInstanceMultilinear, dgrad_coverage, hessian_coverage\n",
    "from continuous_submodular import ContinuousOptimizer\n"
   ]
  },
  {
   "cell_type": "markdown",
   "metadata": {},
   "source": [
    "Parameters"
   ]
  },
  {
   "cell_type": "code",
   "execution_count": 8,
   "metadata": {},
   "outputs": [],
   "source": [
    "beta = 1\n",
    "sample_size = 10\n",
    "eps = 0.2\n",
    "k = 10\n",
    "\n",
    "num_epochs = 30\n",
    "batch_size = 100\n",
    "learning_rate = 1e-3\n",
    "\n",
    "num_layers = 2\n",
    "activation = 'relu'\n",
    "intermediate_size = 200\n",
    "\n",
    "def init_weights(m):\n",
    "    if type(m) == nn.Linear:\n",
    "        m.weight.data.uniform_(.0, .01)"
   ]
  },
  {
   "cell_type": "code",
   "execution_count": 9,
   "metadata": {},
   "outputs": [],
   "source": [
    "N_INFLUENCERS = 100\n",
    "N_TARGETS = 1000\n",
    "N_FEATURES = 8\n",
    "N_INSTANCES = 100 \n",
    "N_TRAIN = int(0.8 * N_INSTANCES)"
   ]
  },
  {
   "cell_type": "markdown",
   "metadata": {},
   "source": [
    "##### Instances definition\n",
    "\n",
    "For each X,Y -> making X_train, X_test, Y_train, Y_test\n"
   ]
  },
  {
   "cell_type": "code",
   "execution_count": 4,
   "metadata": {},
   "outputs": [],
   "source": [
    "path = \"instances_weibo/\"\n",
    "\n",
    "def create_train_test(train_id):\n",
    "    \"\"\"\n",
    "    input : train_id, test_id = partition of range(N_INSTANCES)\n",
    "    returns X_train, Y_train, X_test, Y_test\n",
    "    \"\"\"\n",
    "\n",
    "    X_train = np.zeros((N_TRAIN, N_INFLUENCERS, N_TARGETS, N_FEATURES))\n",
    "    Y_train = np.zeros((N_TRAIN, N_INFLUENCERS, N_TARGETS))\n",
    "    X_test = np.zeros((N_INSTANCES - N_TRAIN, N_INFLUENCERS, N_TARGETS, N_FEATURES))\n",
    "    Y_test = np.zeros((N_INSTANCES - N_TRAIN, N_INFLUENCERS, N_TARGETS))\n",
    "\n",
    "    c_train, c_test = 0, 0\n",
    "    for instance in range(N_INSTANCES) :\n",
    "        \n",
    "        if instance in train_id :\n",
    "            X_train[c_train] = np.load(path + f\"X{instance}.npz\")['arr_0']\n",
    "            Y_train[c_train] = np.load(path + f\"Y{instance}.npz\")['arr_0']\n",
    "            c_train += 1\n",
    "        else : \n",
    "            X_test[c_test] = np.load(path + f\"X{instance}.npz\")['arr_0']\n",
    "            Y_test[c_test] = np.load(path + f\"Y{instance}.npz\")['arr_0']\n",
    "            c_test += 1\n",
    "    \n",
    "    X_train = torch.from_numpy(X_train).float()\n",
    "    Y_train = torch.from_numpy(Y_train).float()\n",
    "    \n",
    "    X_test = torch.from_numpy(X_test).float()\n",
    "    Y_test = torch.from_numpy(Y_test).float()\n",
    "    \n",
    "    # test on random dense labels \n",
    "    # Y_train = torch.from_numpy(np.random.uniform(low=0, high=1, size=(N_TRAIN, N_INFLUENCERS, N_TARGETS))).float()\n",
    "    # Y_test = torch.from_numpy(np.random.uniform(low=0, high=1, size=(N_INSTANCES - N_TRAIN, N_INFLUENCERS, N_TARGETS))).float()\n",
    "    \n",
    "    \n",
    "    return X_train, Y_train, X_test, Y_test\n",
    "\n",
    "# train_id = list(range(N_INSTANCES))[:80]\n",
    "# X_train, Y_train, X_test, Y_test = create_train_test(train_id)\n",
    "w = np.ones(N_TARGETS, dtype=np.float32)\n"
   ]
  },
  {
   "cell_type": "code",
   "execution_count": 5,
   "metadata": {},
   "outputs": [],
   "source": [
    "def normalize_train(X) :\n",
    "    \"\"\"\n",
    "    The first 4 features are about influencers, which vary in dimension 1\n",
    "    The last 4 are about targets, which vary in dimension 2\n",
    "    \n",
    "    \"\"\" \n",
    "    X[:,:,:,:4] = torch.nn.functional.normalize(X[:,:,:,:4], dim=1)\n",
    "    X[:,:,:,4:] = torch.nn.functional.normalize(X[:,:,:,4:], dim=2)\n",
    "\n",
    "    return X\n",
    "\n",
    "\n",
    "train_id = random.sample(list(range(N_INSTANCES)), N_TRAIN)\n",
    "X_train, Y_train, X_test, Y_test = create_train_test(train_id)\n",
    "#X_train = normalize_train(X_train)\n",
    "dataset = torch.utils.data.TensorDataset(X_train, Y_train) \n"
   ]
  },
  {
   "cell_type": "markdown",
   "metadata": {},
   "source": [
    "### Decision focused"
   ]
  },
  {
   "cell_type": "code",
   "execution_count": 30,
   "metadata": {},
   "outputs": [
    {
     "name": "stdout",
     "output_type": "stream",
     "text": [
      "epoch | loss | train_score | test_score \n",
      "0 | -0.059670425951480865 | 0.00481007918715477 | 0.004397359490394592\n",
      "1 | -0.05821054056286812 | 0.004611024260520935 | 0.00639667809009552\n",
      "2 | -0.05672761797904968 | 0.004611024260520935 | 0.00405292809009552\n",
      "3 | -0.05708125978708267 | 0.004673337191343307 | 0.00405292809009552\n",
      "4 | -0.055170848965644836 | 0.004673337191343307 | 0.006912139058113098\n",
      "5 | -0.061828866600990295 | 0.0047547690570354465 | 0.00639667809009552\n",
      "6 | -0.06011433154344559 | 0.004673337191343307 | 0.00639667809009552\n",
      "7 | -0.05709736421704292 | 0.004611024260520935 | 0.00639667809009552\n"
     ]
    },
    {
     "ename": "RuntimeError",
     "evalue": "[enforce fail at ..\\c10\\core\\CPUAllocator.cpp:72] data. DefaultCPUAllocator: not enough memory: you tried to allocate 80000000 bytes. Buy new RAM!\n",
     "output_type": "error",
     "traceback": [
      "\u001b[1;31m---------------------------------------------------------------------------\u001b[0m",
      "\u001b[1;31mRuntimeError\u001b[0m                              Traceback (most recent call last)",
      "\u001b[1;32m<timed exec>\u001b[0m in \u001b[0;36m<module>\u001b[1;34m\u001b[0m\n",
      "\u001b[1;32mD:\\0. PROGRAMMES SSD\\Anaconda\\envs\\ml-IM\\lib\\site-packages\\torch\\tensor.py\u001b[0m in \u001b[0;36mbackward\u001b[1;34m(self, gradient, retain_graph, create_graph)\u001b[0m\n\u001b[0;32m    193\u001b[0m                 \u001b[0mproducts\u001b[0m\u001b[1;33m.\u001b[0m \u001b[0mDefaults\u001b[0m \u001b[0mto\u001b[0m\u001b[0;31m \u001b[0m\u001b[0;31m`\u001b[0m\u001b[0;31m`\u001b[0m\u001b[1;32mFalse\u001b[0m\u001b[0;31m`\u001b[0m\u001b[0;31m`\u001b[0m\u001b[1;33m.\u001b[0m\u001b[1;33m\u001b[0m\u001b[1;33m\u001b[0m\u001b[0m\n\u001b[0;32m    194\u001b[0m         \"\"\"\n\u001b[1;32m--> 195\u001b[1;33m         \u001b[0mtorch\u001b[0m\u001b[1;33m.\u001b[0m\u001b[0mautograd\u001b[0m\u001b[1;33m.\u001b[0m\u001b[0mbackward\u001b[0m\u001b[1;33m(\u001b[0m\u001b[0mself\u001b[0m\u001b[1;33m,\u001b[0m \u001b[0mgradient\u001b[0m\u001b[1;33m,\u001b[0m \u001b[0mretain_graph\u001b[0m\u001b[1;33m,\u001b[0m \u001b[0mcreate_graph\u001b[0m\u001b[1;33m)\u001b[0m\u001b[1;33m\u001b[0m\u001b[1;33m\u001b[0m\u001b[0m\n\u001b[0m\u001b[0;32m    196\u001b[0m \u001b[1;33m\u001b[0m\u001b[0m\n\u001b[0;32m    197\u001b[0m     \u001b[1;32mdef\u001b[0m \u001b[0mregister_hook\u001b[0m\u001b[1;33m(\u001b[0m\u001b[0mself\u001b[0m\u001b[1;33m,\u001b[0m \u001b[0mhook\u001b[0m\u001b[1;33m)\u001b[0m\u001b[1;33m:\u001b[0m\u001b[1;33m\u001b[0m\u001b[1;33m\u001b[0m\u001b[0m\n",
      "\u001b[1;32mD:\\0. PROGRAMMES SSD\\Anaconda\\envs\\ml-IM\\lib\\site-packages\\torch\\autograd\\__init__.py\u001b[0m in \u001b[0;36mbackward\u001b[1;34m(tensors, grad_tensors, retain_graph, create_graph, grad_variables)\u001b[0m\n\u001b[0;32m     95\u001b[0m         \u001b[0mretain_graph\u001b[0m \u001b[1;33m=\u001b[0m \u001b[0mcreate_graph\u001b[0m\u001b[1;33m\u001b[0m\u001b[1;33m\u001b[0m\u001b[0m\n\u001b[0;32m     96\u001b[0m \u001b[1;33m\u001b[0m\u001b[0m\n\u001b[1;32m---> 97\u001b[1;33m     Variable._execution_engine.run_backward(\n\u001b[0m\u001b[0;32m     98\u001b[0m         \u001b[0mtensors\u001b[0m\u001b[1;33m,\u001b[0m \u001b[0mgrad_tensors\u001b[0m\u001b[1;33m,\u001b[0m \u001b[0mretain_graph\u001b[0m\u001b[1;33m,\u001b[0m \u001b[0mcreate_graph\u001b[0m\u001b[1;33m,\u001b[0m\u001b[1;33m\u001b[0m\u001b[1;33m\u001b[0m\u001b[0m\n\u001b[0;32m     99\u001b[0m         allow_unreachable=True)  # allow_unreachable flag\n",
      "\u001b[1;31mRuntimeError\u001b[0m: [enforce fail at ..\\c10\\core\\CPUAllocator.cpp:72] data. DefaultCPUAllocator: not enough memory: you tried to allocate 80000000 bytes. Buy new RAM!\n"
     ]
    }
   ],
   "source": [
    "%%time\n",
    "train_scores = []\n",
    "test_scores  = []\n",
    "loss_f = []\n",
    "net = make_fc(N_FEATURES, num_layers, activation, intermediate_size)\n",
    "net.apply(init_weights)\n",
    "\n",
    "optimizer = torch.optim.Adam(net.parameters(), lr = learning_rate)\n",
    "\n",
    "def eval_grd(net, X, Y):\n",
    "    return np.mean([set_func(greedy(k, net(X[i,:,:,:]).view_as(Y_train[0]), w)[1], Y[i, :, :], w) for i in range(X.shape[0])])\n",
    "\n",
    "print(\"epoch | loss | train_score | test_score \")\n",
    "\n",
    "for epoch in range(num_epochs):\n",
    "    data_loader = torch.utils.data.DataLoader(dataset, batch_size = batch_size, shuffle = True)\n",
    "    for X_batch, P_batch in data_loader:\n",
    "        loss = 0 \n",
    "        for X, P in zip(X_batch, P_batch):\n",
    "            true_set_func = partial(set_func, P = P, w = w)\n",
    "            marginal_vec_pred = partial(marginal_vec, w = w)\n",
    "            pred = net(X).view_as(P)                \n",
    "            fn = GreedyOptimizer(true_set_func, marginal_vec_pred, n = N_INFLUENCERS, K = k, eps = eps, sample_size = sample_size, beta = beta)\n",
    "            loss -= fn(pred)\n",
    "        loss = loss / batch_size\n",
    "        optimizer.zero_grad()\n",
    "        loss.backward()\n",
    "        optimizer.step()\n",
    "        loss_f.append(loss.item())\n",
    "    \n",
    "    train_score = eval_grd(net, X_train, Y_train)\n",
    "    test_score  = eval_grd(net, X_test, Y_test)\n",
    "\n",
    "    print(f\"{epoch} | {loss} | {train_score} | {test_score}\")\n",
    "\n",
    "    train_scores.append(train_score)\n",
    "    test_scores.append(test_score)\n",
    "\n",
    "x = list(range(num_epochs))\n",
    "sns.lineplot(x, train_scores, label=\"train_score\")\n",
    "sns.lineplot(x, test_scores, label=\"test_score\")\n",
    "plt.legend()\n",
    "plt.xlabel(\"epoch\")\n",
    "plt.show()"
   ]
  },
  {
   "cell_type": "markdown",
   "metadata": {},
   "source": [
    "The model does not seem to learn anything. The loss does not decrease."
   ]
  },
  {
   "cell_type": "markdown",
   "metadata": {},
   "source": [
    "### 2 Stage"
   ]
  },
  {
   "cell_type": "code",
   "execution_count": 31,
   "metadata": {},
   "outputs": [
    {
     "name": "stdout",
     "output_type": "stream",
     "text": [
      "epoch | loss | train_score | test_score \n"
     ]
    },
    {
     "ename": "KeyboardInterrupt",
     "evalue": "",
     "output_type": "error",
     "traceback": [
      "\u001b[1;31m---------------------------------------------------------------------------\u001b[0m",
      "\u001b[1;31mKeyboardInterrupt\u001b[0m                         Traceback (most recent call last)",
      "\u001b[1;32m<timed exec>\u001b[0m in \u001b[0;36m<module>\u001b[1;34m\u001b[0m\n",
      "\u001b[1;32mD:\\0. PROGRAMMES SSD\\Anaconda\\envs\\ml-IM\\lib\\site-packages\\torch\\utils\\data\\dataloader.py\u001b[0m in \u001b[0;36m__next__\u001b[1;34m(self)\u001b[0m\n\u001b[0;32m    343\u001b[0m \u001b[1;33m\u001b[0m\u001b[0m\n\u001b[0;32m    344\u001b[0m     \u001b[1;32mdef\u001b[0m \u001b[0m__next__\u001b[0m\u001b[1;33m(\u001b[0m\u001b[0mself\u001b[0m\u001b[1;33m)\u001b[0m\u001b[1;33m:\u001b[0m\u001b[1;33m\u001b[0m\u001b[1;33m\u001b[0m\u001b[0m\n\u001b[1;32m--> 345\u001b[1;33m         \u001b[0mdata\u001b[0m \u001b[1;33m=\u001b[0m \u001b[0mself\u001b[0m\u001b[1;33m.\u001b[0m\u001b[0m_next_data\u001b[0m\u001b[1;33m(\u001b[0m\u001b[1;33m)\u001b[0m\u001b[1;33m\u001b[0m\u001b[1;33m\u001b[0m\u001b[0m\n\u001b[0m\u001b[0;32m    346\u001b[0m         \u001b[0mself\u001b[0m\u001b[1;33m.\u001b[0m\u001b[0m_num_yielded\u001b[0m \u001b[1;33m+=\u001b[0m \u001b[1;36m1\u001b[0m\u001b[1;33m\u001b[0m\u001b[1;33m\u001b[0m\u001b[0m\n\u001b[0;32m    347\u001b[0m         \u001b[1;32mif\u001b[0m \u001b[0mself\u001b[0m\u001b[1;33m.\u001b[0m\u001b[0m_dataset_kind\u001b[0m \u001b[1;33m==\u001b[0m \u001b[0m_DatasetKind\u001b[0m\u001b[1;33m.\u001b[0m\u001b[0mIterable\u001b[0m \u001b[1;32mand\u001b[0m\u001b[0;31m \u001b[0m\u001b[0;31m\\\u001b[0m\u001b[1;33m\u001b[0m\u001b[1;33m\u001b[0m\u001b[0m\n",
      "\u001b[1;32mD:\\0. PROGRAMMES SSD\\Anaconda\\envs\\ml-IM\\lib\\site-packages\\torch\\utils\\data\\dataloader.py\u001b[0m in \u001b[0;36m_next_data\u001b[1;34m(self)\u001b[0m\n\u001b[0;32m    383\u001b[0m     \u001b[1;32mdef\u001b[0m \u001b[0m_next_data\u001b[0m\u001b[1;33m(\u001b[0m\u001b[0mself\u001b[0m\u001b[1;33m)\u001b[0m\u001b[1;33m:\u001b[0m\u001b[1;33m\u001b[0m\u001b[1;33m\u001b[0m\u001b[0m\n\u001b[0;32m    384\u001b[0m         \u001b[0mindex\u001b[0m \u001b[1;33m=\u001b[0m \u001b[0mself\u001b[0m\u001b[1;33m.\u001b[0m\u001b[0m_next_index\u001b[0m\u001b[1;33m(\u001b[0m\u001b[1;33m)\u001b[0m  \u001b[1;31m# may raise StopIteration\u001b[0m\u001b[1;33m\u001b[0m\u001b[1;33m\u001b[0m\u001b[0m\n\u001b[1;32m--> 385\u001b[1;33m         \u001b[0mdata\u001b[0m \u001b[1;33m=\u001b[0m \u001b[0mself\u001b[0m\u001b[1;33m.\u001b[0m\u001b[0m_dataset_fetcher\u001b[0m\u001b[1;33m.\u001b[0m\u001b[0mfetch\u001b[0m\u001b[1;33m(\u001b[0m\u001b[0mindex\u001b[0m\u001b[1;33m)\u001b[0m  \u001b[1;31m# may raise StopIteration\u001b[0m\u001b[1;33m\u001b[0m\u001b[1;33m\u001b[0m\u001b[0m\n\u001b[0m\u001b[0;32m    386\u001b[0m         \u001b[1;32mif\u001b[0m \u001b[0mself\u001b[0m\u001b[1;33m.\u001b[0m\u001b[0m_pin_memory\u001b[0m\u001b[1;33m:\u001b[0m\u001b[1;33m\u001b[0m\u001b[1;33m\u001b[0m\u001b[0m\n\u001b[0;32m    387\u001b[0m             \u001b[0mdata\u001b[0m \u001b[1;33m=\u001b[0m \u001b[0m_utils\u001b[0m\u001b[1;33m.\u001b[0m\u001b[0mpin_memory\u001b[0m\u001b[1;33m.\u001b[0m\u001b[0mpin_memory\u001b[0m\u001b[1;33m(\u001b[0m\u001b[0mdata\u001b[0m\u001b[1;33m)\u001b[0m\u001b[1;33m\u001b[0m\u001b[1;33m\u001b[0m\u001b[0m\n",
      "\u001b[1;32mD:\\0. PROGRAMMES SSD\\Anaconda\\envs\\ml-IM\\lib\\site-packages\\torch\\utils\\data\\_utils\\fetch.py\u001b[0m in \u001b[0;36mfetch\u001b[1;34m(self, possibly_batched_index)\u001b[0m\n\u001b[0;32m     45\u001b[0m         \u001b[1;32melse\u001b[0m\u001b[1;33m:\u001b[0m\u001b[1;33m\u001b[0m\u001b[1;33m\u001b[0m\u001b[0m\n\u001b[0;32m     46\u001b[0m             \u001b[0mdata\u001b[0m \u001b[1;33m=\u001b[0m \u001b[0mself\u001b[0m\u001b[1;33m.\u001b[0m\u001b[0mdataset\u001b[0m\u001b[1;33m[\u001b[0m\u001b[0mpossibly_batched_index\u001b[0m\u001b[1;33m]\u001b[0m\u001b[1;33m\u001b[0m\u001b[1;33m\u001b[0m\u001b[0m\n\u001b[1;32m---> 47\u001b[1;33m         \u001b[1;32mreturn\u001b[0m \u001b[0mself\u001b[0m\u001b[1;33m.\u001b[0m\u001b[0mcollate_fn\u001b[0m\u001b[1;33m(\u001b[0m\u001b[0mdata\u001b[0m\u001b[1;33m)\u001b[0m\u001b[1;33m\u001b[0m\u001b[1;33m\u001b[0m\u001b[0m\n\u001b[0m",
      "\u001b[1;32mD:\\0. PROGRAMMES SSD\\Anaconda\\envs\\ml-IM\\lib\\site-packages\\torch\\utils\\data\\_utils\\collate.py\u001b[0m in \u001b[0;36mdefault_collate\u001b[1;34m(batch)\u001b[0m\n\u001b[0;32m     77\u001b[0m     \u001b[1;32melif\u001b[0m \u001b[0misinstance\u001b[0m\u001b[1;33m(\u001b[0m\u001b[0melem\u001b[0m\u001b[1;33m,\u001b[0m \u001b[0mcontainer_abcs\u001b[0m\u001b[1;33m.\u001b[0m\u001b[0mSequence\u001b[0m\u001b[1;33m)\u001b[0m\u001b[1;33m:\u001b[0m\u001b[1;33m\u001b[0m\u001b[1;33m\u001b[0m\u001b[0m\n\u001b[0;32m     78\u001b[0m         \u001b[0mtransposed\u001b[0m \u001b[1;33m=\u001b[0m \u001b[0mzip\u001b[0m\u001b[1;33m(\u001b[0m\u001b[1;33m*\u001b[0m\u001b[0mbatch\u001b[0m\u001b[1;33m)\u001b[0m\u001b[1;33m\u001b[0m\u001b[1;33m\u001b[0m\u001b[0m\n\u001b[1;32m---> 79\u001b[1;33m         \u001b[1;32mreturn\u001b[0m \u001b[1;33m[\u001b[0m\u001b[0mdefault_collate\u001b[0m\u001b[1;33m(\u001b[0m\u001b[0msamples\u001b[0m\u001b[1;33m)\u001b[0m \u001b[1;32mfor\u001b[0m \u001b[0msamples\u001b[0m \u001b[1;32min\u001b[0m \u001b[0mtransposed\u001b[0m\u001b[1;33m]\u001b[0m\u001b[1;33m\u001b[0m\u001b[1;33m\u001b[0m\u001b[0m\n\u001b[0m\u001b[0;32m     80\u001b[0m \u001b[1;33m\u001b[0m\u001b[0m\n\u001b[0;32m     81\u001b[0m     \u001b[1;32mraise\u001b[0m \u001b[0mTypeError\u001b[0m\u001b[1;33m(\u001b[0m\u001b[0mdefault_collate_err_msg_format\u001b[0m\u001b[1;33m.\u001b[0m\u001b[0mformat\u001b[0m\u001b[1;33m(\u001b[0m\u001b[0melem_type\u001b[0m\u001b[1;33m)\u001b[0m\u001b[1;33m)\u001b[0m\u001b[1;33m\u001b[0m\u001b[1;33m\u001b[0m\u001b[0m\n",
      "\u001b[1;32mD:\\0. PROGRAMMES SSD\\Anaconda\\envs\\ml-IM\\lib\\site-packages\\torch\\utils\\data\\_utils\\collate.py\u001b[0m in \u001b[0;36m<listcomp>\u001b[1;34m(.0)\u001b[0m\n\u001b[0;32m     77\u001b[0m     \u001b[1;32melif\u001b[0m \u001b[0misinstance\u001b[0m\u001b[1;33m(\u001b[0m\u001b[0melem\u001b[0m\u001b[1;33m,\u001b[0m \u001b[0mcontainer_abcs\u001b[0m\u001b[1;33m.\u001b[0m\u001b[0mSequence\u001b[0m\u001b[1;33m)\u001b[0m\u001b[1;33m:\u001b[0m\u001b[1;33m\u001b[0m\u001b[1;33m\u001b[0m\u001b[0m\n\u001b[0;32m     78\u001b[0m         \u001b[0mtransposed\u001b[0m \u001b[1;33m=\u001b[0m \u001b[0mzip\u001b[0m\u001b[1;33m(\u001b[0m\u001b[1;33m*\u001b[0m\u001b[0mbatch\u001b[0m\u001b[1;33m)\u001b[0m\u001b[1;33m\u001b[0m\u001b[1;33m\u001b[0m\u001b[0m\n\u001b[1;32m---> 79\u001b[1;33m         \u001b[1;32mreturn\u001b[0m \u001b[1;33m[\u001b[0m\u001b[0mdefault_collate\u001b[0m\u001b[1;33m(\u001b[0m\u001b[0msamples\u001b[0m\u001b[1;33m)\u001b[0m \u001b[1;32mfor\u001b[0m \u001b[0msamples\u001b[0m \u001b[1;32min\u001b[0m \u001b[0mtransposed\u001b[0m\u001b[1;33m]\u001b[0m\u001b[1;33m\u001b[0m\u001b[1;33m\u001b[0m\u001b[0m\n\u001b[0m\u001b[0;32m     80\u001b[0m \u001b[1;33m\u001b[0m\u001b[0m\n\u001b[0;32m     81\u001b[0m     \u001b[1;32mraise\u001b[0m \u001b[0mTypeError\u001b[0m\u001b[1;33m(\u001b[0m\u001b[0mdefault_collate_err_msg_format\u001b[0m\u001b[1;33m.\u001b[0m\u001b[0mformat\u001b[0m\u001b[1;33m(\u001b[0m\u001b[0melem_type\u001b[0m\u001b[1;33m)\u001b[0m\u001b[1;33m)\u001b[0m\u001b[1;33m\u001b[0m\u001b[1;33m\u001b[0m\u001b[0m\n",
      "\u001b[1;32mD:\\0. PROGRAMMES SSD\\Anaconda\\envs\\ml-IM\\lib\\site-packages\\torch\\utils\\data\\_utils\\collate.py\u001b[0m in \u001b[0;36mdefault_collate\u001b[1;34m(batch)\u001b[0m\n\u001b[0;32m     53\u001b[0m             \u001b[0mstorage\u001b[0m \u001b[1;33m=\u001b[0m \u001b[0melem\u001b[0m\u001b[1;33m.\u001b[0m\u001b[0mstorage\u001b[0m\u001b[1;33m(\u001b[0m\u001b[1;33m)\u001b[0m\u001b[1;33m.\u001b[0m\u001b[0m_new_shared\u001b[0m\u001b[1;33m(\u001b[0m\u001b[0mnumel\u001b[0m\u001b[1;33m)\u001b[0m\u001b[1;33m\u001b[0m\u001b[1;33m\u001b[0m\u001b[0m\n\u001b[0;32m     54\u001b[0m             \u001b[0mout\u001b[0m \u001b[1;33m=\u001b[0m \u001b[0melem\u001b[0m\u001b[1;33m.\u001b[0m\u001b[0mnew\u001b[0m\u001b[1;33m(\u001b[0m\u001b[0mstorage\u001b[0m\u001b[1;33m)\u001b[0m\u001b[1;33m\u001b[0m\u001b[1;33m\u001b[0m\u001b[0m\n\u001b[1;32m---> 55\u001b[1;33m         \u001b[1;32mreturn\u001b[0m \u001b[0mtorch\u001b[0m\u001b[1;33m.\u001b[0m\u001b[0mstack\u001b[0m\u001b[1;33m(\u001b[0m\u001b[0mbatch\u001b[0m\u001b[1;33m,\u001b[0m \u001b[1;36m0\u001b[0m\u001b[1;33m,\u001b[0m \u001b[0mout\u001b[0m\u001b[1;33m=\u001b[0m\u001b[0mout\u001b[0m\u001b[1;33m)\u001b[0m\u001b[1;33m\u001b[0m\u001b[1;33m\u001b[0m\u001b[0m\n\u001b[0m\u001b[0;32m     56\u001b[0m     \u001b[1;32melif\u001b[0m \u001b[0melem_type\u001b[0m\u001b[1;33m.\u001b[0m\u001b[0m__module__\u001b[0m \u001b[1;33m==\u001b[0m \u001b[1;34m'numpy'\u001b[0m \u001b[1;32mand\u001b[0m \u001b[0melem_type\u001b[0m\u001b[1;33m.\u001b[0m\u001b[0m__name__\u001b[0m \u001b[1;33m!=\u001b[0m \u001b[1;34m'str_'\u001b[0m\u001b[0;31m \u001b[0m\u001b[0;31m\\\u001b[0m\u001b[1;33m\u001b[0m\u001b[1;33m\u001b[0m\u001b[0m\n\u001b[0;32m     57\u001b[0m             \u001b[1;32mand\u001b[0m \u001b[0melem_type\u001b[0m\u001b[1;33m.\u001b[0m\u001b[0m__name__\u001b[0m \u001b[1;33m!=\u001b[0m \u001b[1;34m'string_'\u001b[0m\u001b[1;33m:\u001b[0m\u001b[1;33m\u001b[0m\u001b[1;33m\u001b[0m\u001b[0m\n",
      "\u001b[1;31mKeyboardInterrupt\u001b[0m: "
     ]
    }
   ],
   "source": [
    "%%time \n",
    "\n",
    "train_scores = []\n",
    "test_scores  = []\n",
    "loss_2 = []\n",
    "\n",
    "net = make_fc(N_FEATURES, num_layers, activation, intermediate_size)\n",
    "net.apply(init_weights)\n",
    "\n",
    "loss_fn = nn.MSELoss()\n",
    "optimizer = torch.optim.Adam(net.parameters(), lr = learning_rate)\n",
    "optfunc = partial(optimize_coverage_multilinear, w = w, k=k, c = 0.95)\n",
    "dgrad = partial(dgrad_coverage, w = w)\n",
    "hessian = partial(hessian_coverage, w = w)\n",
    "opt = ContinuousOptimizer(optfunc, dgrad, hessian, 0.95)\n",
    "opt.verbose = False\n",
    "\n",
    "print(\"epoch | loss | train_score | test_score \")\n",
    "\n",
    "for epoch in range(num_epochs):\n",
    "    data_loader = torch.utils.data.DataLoader(dataset, batch_size = batch_size, shuffle = True)\n",
    "    for X_batch, P_batch in data_loader:\n",
    "        loss = 0 \n",
    "        for X, P in zip(X_batch, P_batch):\n",
    "            pred = net(X).view_as(P)\n",
    "            loss += loss_fn(pred, P)\n",
    "        loss = loss / batch_size\n",
    "        print(loss)\n",
    "        optimizer.zero_grad()\n",
    "        loss.backward()\n",
    "        optimizer.step()\n",
    "        loss_2.append(loss.item())\n",
    "\n",
    "    def eval_two_stage(net, X, Y):\n",
    "        return np.mean([set_func(np.argsort(- opt(net(X[i]).view_as(Y_train[0])).detach().numpy())[:k], Y[i], w) for i in range(X.shape[0])])\n",
    "\n",
    "    train_score = eval_two_stage(net, X_train, Y_train)\n",
    "    test_score  = eval_two_stage(net, X_test, Y_test)\n",
    "\n",
    "    print(f\"{epoch} | {loss} | {train_score} | {test_score}\")\n",
    "\n",
    "    train_scores.append(train_score)\n",
    "    test_scores.append(test_score)\n",
    "\n",
    "x = list(range(num_epochs))\n",
    "sns.lineplot(x, train_scores, label=\"train_score\")\n",
    "sns.lineplot(x, test_scores, label=\"test_score\")\n",
    "plt.legend()\n",
    "plt.xlabel(\"epoch\")\n",
    "plt.show()\n"
   ]
  },
  {
   "cell_type": "markdown",
   "metadata": {},
   "source": [
    "### CNT"
   ]
  },
  {
   "cell_type": "code",
   "execution_count": 25,
   "metadata": {},
   "outputs": [
    {
     "name": "stdout",
     "output_type": "stream",
     "text": [
      "Epoch 0\n",
      " loss :-0.06213214993476868\n",
      "train_score : 0.06102807968854904\n",
      "test_score : 0.08804971873760223\n",
      "Epoch 1\n",
      " loss :-0.06167786568403244\n",
      "train_score : 0.0636550635099411\n",
      "test_score : 0.0738128662109375\n",
      "Epoch 2\n",
      " loss :-0.058610666543245316\n",
      "train_score : 0.05960375517606735\n",
      "test_score : 0.04713515043258667\n",
      "Epoch 3\n",
      " loss :-0.05928848311305046\n",
      "train_score : 0.054165881127119064\n",
      "test_score : 0.06885208487510681\n",
      "Epoch 4\n",
      " loss :-0.05707332491874695\n",
      "train_score : 0.050692237168550494\n",
      "test_score : 0.07039657235145569\n",
      "Epoch 5\n",
      " loss :-0.05721230059862137\n",
      "train_score : 0.053242101520299914\n",
      "test_score : 0.07202006578445434\n",
      "Epoch 6\n",
      " loss :-0.05746745690703392\n",
      "train_score : 0.053157521039247514\n",
      "test_score : 0.07156298458576202\n",
      "Epoch 7\n",
      " loss :-0.05741062015295029\n",
      "train_score : 0.05717485025525093\n",
      "test_score : 0.08369336128234864\n",
      "Epoch 8\n",
      " loss :-0.05851224437355995\n",
      "train_score : 0.0599472850561142\n",
      "test_score : 0.08202738463878631\n",
      "Epoch 9\n",
      " loss :-0.057411905378103256\n",
      "train_score : 0.058214130252599715\n",
      "test_score : 0.08405800759792328\n",
      "Epoch 10\n",
      " loss :-0.05780044570565224\n",
      "train_score : 0.05755201131105423\n",
      "test_score : 0.06622710824012756\n",
      "Epoch 11\n",
      " loss :-0.0587635263800621\n",
      "train_score : 0.06238459125161171\n",
      "test_score : 0.06214744746685028\n",
      "Epoch 12\n",
      " loss :-0.05857805162668228\n",
      "train_score : 0.059814703464508054\n",
      "test_score : 0.06414744853973389\n",
      "Epoch 13\n",
      " loss :-0.05840693786740303\n",
      "train_score : 0.05991775691509247\n",
      "test_score : 0.06465506553649902\n",
      "Epoch 14\n",
      " loss :-0.05861451476812363\n",
      "train_score : 0.059640735387802124\n",
      "test_score : 0.06231859624385834\n",
      "Epoch 15\n",
      " loss :-0.05852493271231651\n",
      "train_score : 0.0599518857896328\n",
      "test_score : 0.06011898517608642\n",
      "Epoch 16\n",
      " loss :-0.0583500973880291\n",
      "train_score : 0.059051214158535\n",
      "test_score : 0.0612338125705719\n",
      "Epoch 17\n",
      " loss :-0.058037787675857544\n",
      "train_score : 0.058816368132829665\n",
      "test_score : 0.0615933358669281\n",
      "Epoch 18\n",
      " loss :-0.057971056550741196\n",
      "train_score : 0.05888856425881386\n",
      "test_score : 0.0615933358669281\n",
      "Epoch 19\n",
      " loss :-0.05796976014971733\n",
      "train_score : 0.05888856425881386\n",
      "test_score : 0.0615933358669281\n"
     ]
    }
   ],
   "source": [
    "%%time\n",
    "\n",
    "train_scores = []\n",
    "test_scores  = []\n",
    "\n",
    "net = make_fc(N_FEATURES, num_layers, activation, intermediate_size)\n",
    "net.apply(init_weights)\n",
    "\n",
    "optfunc = partial(optimize_coverage_multilinear, w = w, k=k, c = 0.95)\n",
    "dgrad = partial(dgrad_coverage, w = w)\n",
    "hessian = partial(hessian_coverage, w = w)\n",
    "opt = ContinuousOptimizer(optfunc, dgrad, hessian, 0.95)\n",
    "opt.verbose = False\n",
    "                \n",
    "optimizer = torch.optim.Adam(net.parameters(), lr = learning_rate)\n",
    "\n",
    "print(\"epoch | loss | train_score | test_score \")\n",
    "\n",
    "for epoch in range(num_epochs):\n",
    "    data_loader = torch.utils.data.DataLoader(dataset, batch_size = batch_size, shuffle = True)\n",
    "    for X_batch, P_batch in data_loader:\n",
    "        loss = 0 \n",
    "        for X, P in zip(X_batch, P_batch):\n",
    "            true_cnt_func = CoverageInstanceMultilinear(P, w, True)\n",
    "            pred = net(X).view_as(P)\n",
    "            x = opt(pred)\n",
    "            loss -= true_cnt_func(x)\n",
    "        loss = loss / batch_size\n",
    "        print(f\" loss :{loss}\")\n",
    "        optimizer.zero_grad()\n",
    "        loss.backward()\n",
    "        optimizer.step()\n",
    "\n",
    "    def eval_cnt(net, X, Y):\n",
    "        return np.mean([set_func(np.argsort(-opt(net(X[i]).view_as(Y_train[0])).detach().numpy())[:k], Y[i], w) for i in range(X.shape[0])])\n",
    "\n",
    "    train_score = eval_cnt(net, X_train, Y_train)\n",
    "    test_score  = eval_cnt(net, X_test, Y_test)\n",
    "\n",
    "    print(f\"{epoch} | {loss} | {train_score} | {test_score}\")\n",
    "\n",
    "    train_scores.append(train_score)\n",
    "    test_scores.append(test_score)\n",
    "\n",
    "x = list(range(num_epochs))\n",
    "sns.lineplot(x, train_scores, label=\"train_score\")\n",
    "sns.lineplot(x, test_scores, label=\"test_score\")\n",
    "plt.legend()\n",
    "plt.xlabel(\"epoch\")\n",
    "plt.show()"
   ]
  },
  {
   "cell_type": "code",
   "execution_count": 28,
   "metadata": {},
   "outputs": [
    {
     "data": {
      "text/plain": [
       "<AxesSubplot:>"
      ]
     },
     "execution_count": 28,
     "metadata": {},
     "output_type": "execute_result"
    },
    {
     "data": {
      "image/png": "[encoded data removed]",
      "text/plain": [
       "<Figure size 432x288 with 1 Axes>"
      ]
     },
     "metadata": {
      "needs_background": "light"
     },
     "output_type": "display_data"
    }
   ],
   "source": [
    "sns.lineplot(list(range(20)), train_scores)\n",
    "sns.lineplot(list(range(20)), test_scores)"
   ]
  },
  {
   "cell_type": "code",
   "execution_count": null,
   "metadata": {},
   "outputs": [],
   "source": []
  }
 ],
 "metadata": {
  "interpreter": {
   "hash": "dc0f5465fe995d1bcad0eb0cccd8f49aa4a13151dec79867121107c7f441e047"
  },
  "kernelspec": {
   "display_name": "Python 3.8.12 ('ml-IM')",
   "language": "python",
   "name": "python3"
  },
  "language_info": {
   "codemirror_mode": {
    "name": "ipython",
    "version": 3
   },
   "file_extension": ".py",
   "mimetype": "text/x-python",
   "name": "python",
   "nbconvert_exporter": "python",
   "pygments_lexer": "ipython3",
   "version": "3.8.12"
  },
  "orig_nbformat": 4
 },
 "nbformat": 4,
 "nbformat_minor": 2
}
