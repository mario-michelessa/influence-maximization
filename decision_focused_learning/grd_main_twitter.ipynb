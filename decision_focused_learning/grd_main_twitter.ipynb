{
 "cells": [
  {
   "cell_type": "code",
   "execution_count": 1,
   "metadata": {},
   "outputs": [],
   "source": [
    "import os\n",
    "import warnings\n",
    "warnings.simplefilter('ignore')\n",
    "\n",
    "import numpy as np\n",
    "import random\n",
    "from functools import partial\n",
    "\n",
    "import torch\n",
    "import torch.nn as nn\n",
    "\n",
    "from predictive_model import make_fc\n",
    "\n",
    "from greedy_coverage import set_func, marginal_vec, greedy\n",
    "from greedy_submodular import GreedyOptimizer \n"
   ]
  },
  {
   "cell_type": "markdown",
   "metadata": {},
   "source": [
    "Parameters"
   ]
  },
  {
   "cell_type": "code",
   "execution_count": 2,
   "metadata": {},
   "outputs": [],
   "source": [
    "beta = 1\n",
    "sample_size = 10\n",
    "eps = 0.2\n",
    "k = 5\n",
    "\n",
    "num_items = 100\n",
    "num_targets = 500\n",
    "\n",
    "num_random_iter = 10\n",
    "num_instances = 100\n",
    "num_features = 43\n",
    "\n",
    "num_epochs = 5\n",
    "batch_size = 100\n",
    "learning_rate = 1e-3\n",
    "\n",
    "num_layers = 2\n",
    "activation = 'relu'\n",
    "intermediate_size = 200\n",
    "\n",
    "def init_weights(m):\n",
    "    if type(m) == nn.Linear:\n",
    "        m.weight.data.uniform_(.0, .01)\n",
    "\n"
   ]
  },
  {
   "cell_type": "markdown",
   "metadata": {},
   "source": [
    "Instances definition"
   ]
  },
  {
   "cell_type": "code",
   "execution_count": 3,
   "metadata": {},
   "outputs": [],
   "source": [
    "\n",
    "### instances ###\n",
    "path = 'instances/'\n",
    "Ps = torch.from_numpy(np.load(path + 'Ps.npz')['Ps']).float()      \n",
    "data = torch.from_numpy(np.load(path + 'data.npz')['data']).float()\n",
    "trains, tests = [], []\n",
    "for i in range(num_random_iter):\n",
    "    trains.append(np.load(path + '{}.npz'.format(i))['train'])\n",
    "    tests.append(np.load(path + '{}.npz'.format(i))['test'])\n",
    "w = np.ones(num_targets, dtype=np.float32)\n",
    "\n"
   ]
  },
  {
   "cell_type": "markdown",
   "metadata": {},
   "source": [
    "Training"
   ]
  },
  {
   "cell_type": "code",
   "execution_count": null,
   "metadata": {},
   "outputs": [],
   "source": [
    "\n",
    "### main ###\n",
    "train_scores = []\n",
    "test_scores  = []\n",
    "\n",
    "for idx in range(num_random_iter):\n",
    "    print(idx)\n",
    "    test  = tests[idx] \n",
    "    train = trains[idx]\n",
    "    dataset = torch.utils.data.TensorDataset(data[train], Ps[train]) \n",
    "    \n",
    "    net = make_fc(num_features, num_layers, activation, intermediate_size)\n",
    "    net.apply(init_weights)\n",
    "\n",
    "    optimizer = torch.optim.Adam(net.parameters(), lr = learning_rate)\n",
    "\n",
    "    for epoch in range(num_epochs):\n",
    "        print('epoch{}'.format(epoch))\n",
    "        data_loader = torch.utils.data.DataLoader(dataset, batch_size = batch_size, shuffle = True)\n",
    "        for X_batch, P_batch in data_loader:\n",
    "            loss = 0 \n",
    "            for X, P in zip(X_batch, P_batch):\n",
    "                true_set_func = partial(set_func, P = P, w = w)\n",
    "                marginal_vec_pred = partial(marginal_vec, w = w)\n",
    "                pred = net(X).view_as(P)                \n",
    "                fn = GreedyOptimizer(true_set_func, marginal_vec_pred, n = num_items, K = k, eps = eps, sample_size = sample_size, beta = beta)\n",
    "                loss -= fn(pred)\n",
    "            loss = loss / batch_size\n",
    "            print(loss)\n",
    "            optimizer.zero_grad()\n",
    "            loss.backward()\n",
    "            optimizer.step()\n",
    "        \n",
    "\n",
    "    def eval_grd(net, instances):\n",
    "        return np.mean([set_func(greedy(k, net(data[i]).view_as(Ps[0]), w)[1], Ps[i], w) for i in instances])\n",
    "\n",
    "    train_score = eval_grd(net, train)\n",
    "    test_score  = eval_grd(net, test)\n",
    "\n",
    "    print(train_score)\n",
    "    print(test_score)\n",
    "\n",
    "    train_scores.append(train_score)\n",
    "    test_scores.append(test_score)\n",
    "\n",
    "print(np.mean(train_scores))\n",
    "print(np.mean(test_scores))\n",
    "\n"
   ]
  },
  {
   "cell_type": "markdown",
   "metadata": {},
   "source": [
    "Export of model results\n"
   ]
  },
  {
   "cell_type": "code",
   "execution_count": null,
   "metadata": {},
   "outputs": [],
   "source": [
    "### save results ###\n",
    "path = 'results/'\n",
    "fname = 'k{}_grd_b{}_s{}.npz'.format(k, beta, sample_size)\n",
    "if os.path.exists(path + fname) == False:\n",
    "    idxs = range(num_random_iter)\n",
    "    train_scores = np.array(train_scores)\n",
    "    test_scores  = np.array(test_scores)\n",
    "    np.savez(path + fname, idxs = idxs, train_scores = train_scores, test_scores = test_scores)\n"
   ]
  }
 ],
 "metadata": {
  "interpreter": {
   "hash": "dc0f5465fe995d1bcad0eb0cccd8f49aa4a13151dec79867121107c7f441e047"
  },
  "kernelspec": {
   "display_name": "Python 3.8.12 ('ml-IM')",
   "language": "python",
   "name": "python3"
  },
  "language_info": {
   "codemirror_mode": {
    "name": "ipython",
    "version": 3
   },
   "file_extension": ".py",
   "mimetype": "text/x-python",
   "name": "python",
   "nbconvert_exporter": "python",
   "pygments_lexer": "ipython3",
   "version": "3.8.12"
  },
  "orig_nbformat": 4
 },
 "nbformat": 4,
 "nbformat_minor": 2
}
