{
 "cells": [
  {
   "cell_type": "markdown",
   "metadata": {},
   "source": [
    "Import"
   ]
  },
  {
   "cell_type": "code",
   "execution_count": 1,
   "metadata": {},
   "outputs": [],
   "source": [
    "import numpy as np\n",
    "import pandas as pd\n",
    "import seaborn as sns\n",
    "import matplotlib.pyplot as plt \n",
    "from collections import defaultdict\n",
    "\n",
    "import warnings\n",
    "warnings.filterwarnings('ignore')\n"
   ]
  },
  {
   "cell_type": "markdown",
   "metadata": {},
   "source": [
    "Path"
   ]
  },
  {
   "cell_type": "code",
   "execution_count": 2,
   "metadata": {},
   "outputs": [],
   "source": [
    "output_folder = \"data/twitter_preprocessed/\""
   ]
  },
  {
   "cell_type": "markdown",
   "metadata": {},
   "source": [
    "graph_twitter_full.csv : \n",
    "    \n",
    "    - 62293412 lines\n",
    "    - 12,15\n",
    "    - 12,17\n",
    "    - 12,18\n",
    "\n",
    "\n"
   ]
  },
  {
   "cell_type": "markdown",
   "metadata": {},
   "source": [
    "data/twitter/retweetsranked_full.csv\n",
    "\n",
    "    - 2332764 lines\n",
    "    - 3059561715;2009-08-01 00:25:33;21172954;21926959;3059313429\n",
    "    - 3096677654;2009-08-03 04:20:16;16103374;7516242;3090911707\n"
   ]
  },
  {
   "cell_type": "code",
   "execution_count": 47,
   "metadata": {},
   "outputs": [
    {
     "name": "stdout",
     "output_type": "stream",
     "text": [
      "df_retweets : \n",
      "|    |     mid_rt | date                |                v |           u |         mid |\n",
      "|---:|-----------:|:--------------------|-----------------:|------------:|------------:|\n",
      "|  0 | 3059561715 | 2009-08-01 00:25:33 |      2.1173e+07  | 2.1927e+07  | 3.05931e+09 |\n",
      "|  1 | 3096677654 | 2009-08-03 04:20:16 |      1.61034e+07 | 7.51624e+06 | 3.09091e+09 |\n",
      "|  2 | 3117573474 | 2009-08-04 05:27:05 |      2.1173e+07  | 1.93294e+07 | 3.1173e+09  |\n",
      "|  3 | 3131299653 | 2009-08-04 22:36:20 | 786741           | 1.51482e+07 | 3.13116e+09 |\n",
      "|  4 | 3147599284 | 2009-08-05 18:04:48 |      2.1173e+07  | 2.00788e+07 | 3.14647e+09 |\n",
      "shape : (2332764, 5)\n",
      "\n"
     ]
    }
   ],
   "source": [
    "df_retweets = pd.read_csv(\"data/twitter/retweetsranked_full.csv\", \n",
    "    sep = ';', \n",
    "    #chunksize=1000, \n",
    "    header=None, )\n",
    "df_retweets.columns = [\"mid_rt\", \"date\", \"v\", \"u\", \"mid\"]\n",
    "df_retweets.drop(columns=['mid_rt', 'date'])\n",
    "\n",
    "print(\"df_retweets : \\n\" + df_retweets.head(5).to_markdown())\n",
    "print(f\"shape : {df_retweets.shape}\\n\")\n"
   ]
  },
  {
   "cell_type": "code",
   "execution_count": 48,
   "metadata": {},
   "outputs": [],
   "source": [
    "def subsampling_twitter(n_min_cascade_per_u, n_min_cascade_per_v) :\n",
    "    \"\"\"\n",
    "    selects the row of df_retweets where u has more than u_min_cascade_per_u cascades and same with v\n",
    "    \"\"\"\n",
    "    n_cascades_per_u = df_retweets.groupby('u').agg({'mid' : 'count'})\n",
    "    n_cascades_per_v = df_retweets.groupby('v').agg({'mid' : 'count'})\n",
    "\n",
    "    influencers = list(n_cascades_per_u[n_cascades_per_u['mid'] > n_min_cascade_per_u].index)\n",
    "    targets = list(n_cascades_per_v[n_cascades_per_v['mid'] > n_min_cascade_per_v].index)\n",
    "\n",
    "    print(f\"i = {len(influencers)}, t = {len(targets)}\")\n",
    "\n",
    "    df_labels = df_retweets[df_retweets['u'].isin(influencers)][['u','v']]\n",
    "    df_labels = df_labels[df_labels['v'].isin(targets)][['u','v']]\n",
    "    Au = df_labels.groupby('u').count().v\n",
    "    Au.name = 'Au'\n",
    "    Av = df_labels.groupby('v').count().u\n",
    "    Av.name = 'Av'\n",
    "\n",
    "    df_labels = df_labels.merge(Au, on='u')\n",
    "    df_labels = df_labels.merge(Av, on='v')\n",
    "\n",
    "    Au2v = df_labels.groupby(['u', 'v']).count().Au.reset_index()\n",
    "    df_labels = df_labels.merge(Au2v, on=['u','v'])\n",
    "\n",
    "    df_labels.columns = ['u', 'v', 'Au', 'Av', 'Au2v']\n",
    "    df_labels = df_labels.drop_duplicates()\n",
    "    df_labels['u'] = df_labels['u'].astype(np.int64)\n",
    "    df_labels['v'] = df_labels['v'].astype(np.int64)\n",
    "    return df_labels\n",
    "\n"
   ]
  },
  {
   "cell_type": "code",
   "execution_count": 49,
   "metadata": {},
   "outputs": [
    {
     "name": "stdout",
     "output_type": "stream",
     "text": [
      "i = 1837, t = 2508\n",
      "db labels : \n",
      "|    |                u |          v |         BT |         JI |        LP |\n",
      "|---:|-----------------:|-----------:|-----------:|-----------:|----------:|\n",
      "|  0 |      1.93294e+07 | 2.1173e+07 | 0.0042735  | 0.00380228 | 0.0344828 |\n",
      "|  1 |     13           | 2.1173e+07 | 0.0909091  | 0.0392157  | 0.0689655 |\n",
      "|  3 | 428333           | 2.1173e+07 | 0.00131062 | 0.00126263 | 0.0344828 |\n",
      "|  4 | 783214           | 2.1173e+07 | 0.0681818  | 0.0512821  | 0.206897  |\n",
      "| 10 |      2.8706e+07  | 2.1173e+07 | 0.0645161  | 0.0333333  | 0.0689655 |\n",
      "shape : (31649, 5)\n",
      "\n",
      "Saved labels_100_100.pkl\n"
     ]
    }
   ],
   "source": [
    "def estimate_probabilities(df_labels, save=False, file_name=\"\") : \n",
    "    \"\"\"\n",
    "    input : edges dataframe \n",
    "    \"\"\"\n",
    "    df_labels['BT'] = df_labels['Au2v'] / df_labels['Au']\n",
    "    df_labels['JI'] = df_labels['Au2v'] / (df_labels['Au'] + df_labels['Av'])\n",
    "    df_labels['LP'] = df_labels['Au2v'] / df_labels['Av']\n",
    "\n",
    "    df_labels = df_labels[['u', 'v', 'BT', 'JI', 'LP']]\n",
    "    df_labels = df_labels.drop_duplicates()\n",
    "    print(\"db labels : \\n\" + df_labels.head(5).to_markdown())\n",
    "    print(f\"shape : {df_labels.shape}\\n\")\n",
    "\n",
    "    if save :\n",
    "        print(\"Saved \" + file_name)\n",
    "        pd.to_pickle(df_labels, output_folder+file_name)\n",
    "    \n",
    "    return df_labels\n",
    "\n",
    "df_labels = subsampling_twitter(100,100)\n",
    "df_labels = estimate_probabilities(df_labels, True, \"labels_100_100.pkl\")"
   ]
  },
  {
   "cell_type": "code",
   "execution_count": 68,
   "metadata": {},
   "outputs": [
    {
     "name": "stdout",
     "output_type": "stream",
     "text": [
      "1828 2432\n"
     ]
    }
   ],
   "source": [
    "influencers = list(df_labels.groupby('u').count().index)\n",
    "targets = list(df_labels.groupby('v').count().index)\n",
    "print(len(influencers), len(targets))"
   ]
  },
  {
   "cell_type": "code",
   "execution_count": 52,
   "metadata": {},
   "outputs": [],
   "source": [
    "u_to_userids = pd.read_csv(\"data/weibo/weibodata/diffusion/uidlist.txt\",header=None)\n",
    "u_to_userids.columns = ['userid']\n",
    "u_to_userids.index.name = 'uid'"
   ]
  },
  {
   "cell_type": "code",
   "execution_count": 8,
   "metadata": {},
   "outputs": [
    {
     "name": "stdout",
     "output_type": "stream",
     "text": [
      "17M lines processed : 31478 edges added\n",
      "34M lines processed : 47662 edges added\n",
      "51M lines processed : 60558 edges added\n"
     ]
    }
   ],
   "source": [
    "def create_edges(users_topology) : \n",
    "    \"\"\"\n",
    "    Creates weibo/edges_NB_CASCADES.pkl ---> |id|u|v|\n",
    "    2.4M edges for 1000 cascades\n",
    "    Takes 4min to extract\n",
    "    \"\"\"\n",
    "    \n",
    "    #Speeds up operation (v in users)\n",
    "    d_users = defaultdict(lambda : False)\n",
    "    for user in users_topology:\n",
    "        d_users[int(user)] = True\n",
    "\n",
    "    edges_topology = []                 \n",
    "\n",
    "    with open(\"data/twitter/graph_twitter_full.csv\", 'r') as file :\n",
    "        \n",
    "        u_previous = -1\n",
    "        u_in_table = False\n",
    "\n",
    "        n_lines = 0\n",
    "        \n",
    "        for line in file :\n",
    "            \n",
    "            n_lines += 1\n",
    "            # if n_lines > 10 : break\n",
    "            # print(line)\n",
    "            if n_lines % 17000000 == 0 :\n",
    "                print(f\"{n_lines//1000000}M lines processed : {len(edges_topology)} edges added\")\n",
    "\n",
    "            line = line.split(',')\n",
    "            if len(line) >= 2 :\n",
    "                u,v = int(line[0]), int(line[1])\n",
    "                # print(u)\n",
    "                if u != u_previous : \n",
    "                    u_previous = u\n",
    "                    u_in_table = (d_users[u])\n",
    "\n",
    "                if u_in_table: \n",
    "                    if d_users[v] : \n",
    "                        edges_topology.append((u,v))\n",
    "             \n",
    "    return edges_topology\n",
    "\n",
    "def process_edges(edges_topology, save = False, file_name = \"\"):\n",
    "    \"\"\"\n",
    "    replaces user id with the real ones \n",
    "    \"\"\"\n",
    "    df_edges = pd.DataFrame(edges_topology, columns=['u','v'])\n",
    "    print(\"df_edges : \\n\" + df_edges.head(5).to_markdown())\n",
    "    print(f\"shape : {df_edges.shape}\\n\")\n",
    "\n",
    "    if save :\n",
    "        df_edges.to_pickle(output_folder + file_name)\n",
    "    return df_edges\n",
    "\n",
    "users = list(set(influencers).union(targets))\n",
    "edges = create_edges(users)\n",
    "df_edges = process_edges(edges, True, \"edges_100_100.pkl\")"
   ]
  },
  {
   "cell_type": "markdown",
   "metadata": {},
   "source": [
    "### Feature Engineering"
   ]
  },
  {
   "cell_type": "code",
   "execution_count": 70,
   "metadata": {},
   "outputs": [],
   "source": [
    "\n",
    "import networkx as nx\n",
    "\n",
    "d_edges = defaultdict(lambda : 0)\n",
    "for (u,v) in zip(df_edges.u, df_edges.v) : d_edges[(u,v)] = 1\n",
    "\n",
    "deg_out = df_edges.groupby('u').count()\n",
    "d_deg_out = {u:0 for u in influencers} # some influencers will have 0 degrees\n",
    "for u in deg_out.index : d_deg_out[u] = deg_out.loc[u].v\n",
    "\n",
    "deg_in = df_edges.groupby('v').count()\n",
    "d_deg_in= {v : 0 for v in targets}\n",
    "for v in deg_in.index : d_deg_in[v] = deg_in.loc[v].u\n",
    "\n",
    "g = nx.DiGraph()\n",
    "g.add_nodes_from(users)\n",
    "g.add_edges_from(zip(df_edges.u, df_edges.v))\n",
    "\n",
    "pagerank = nx.pagerank(g)\n",
    "pagerank = pd.DataFrame.from_dict(pagerank, orient='index')\n",
    "pagerank.columns = ['pagerank']\n",
    "\n",
    "d_2g = {u : 0 for u in influencers}\n",
    "for i in influencers : \n",
    "    set_2neighboors = set()\n",
    "    for n in nx.DiGraph.neighbors(g,i) : \n",
    "        set_2neighboors = set_2neighboors.union(set([n2 for n2 in nx.DiGraph.neighbors(g,n)]))\n",
    "    d_2g[i] = len(set_2neighboors)\n",
    "    # print(len(set_2neighboors))\n",
    "df_2reachable = pd.DataFrame.from_dict(d_2g, orient='index')\n",
    "# df_2reachable = df_2reachable / 2500\n",
    "df_2reachable.columns = ['#2r']"
   ]
  },
  {
   "cell_type": "code",
   "execution_count": null,
   "metadata": {},
   "outputs": [],
   "source": []
  },
  {
   "cell_type": "code",
   "execution_count": null,
   "metadata": {},
   "outputs": [],
   "source": []
  },
  {
   "cell_type": "code",
   "execution_count": 76,
   "metadata": {},
   "outputs": [
    {
     "data": {
      "text/plain": [
       "array([0.00000000e+00, 0.00000000e+00, 0.00000000e+00, 0.00000000e+00,\n",
       "       0.00000000e+00, 0.00000000e+00, 2.00672351e-04, 0.00000000e+00,\n",
       "       0.00000000e+00, 0.00000000e+00, 0.00000000e+00, 0.00000000e+00,\n",
       "       0.00000000e+00, 0.00000000e+00, 0.00000000e+00, 0.00000000e+00,\n",
       "       6.00000000e+00, 2.02760823e-04, 0.00000000e+00, 0.00000000e+00,\n",
       "       0.00000000e+00, 0.00000000e+00])"
      ]
     },
     "execution_count": 76,
     "metadata": {},
     "output_type": "execute_result"
    }
   ],
   "source": [
    "def feature_twitter(u,v) :\n",
    "    \"\"\"\n",
    "    i:followers_count, 'i:friends_count', 'i:statuses_count', 'i:verified', 'i:gender', \n",
    "    'i:d_out', 'i:pagerank', 'i:#2r', \n",
    "    'i:high_topic', 'i:med_topic', 'i:low_topic', \n",
    "    't:followers_count', 't:friends_count', 't:statuses_count', 't:verified', 't:gender', \n",
    "    't:d_out', 't:pagerank', \n",
    "    't:high_topic', 't:med_topic', 't:low_topic', \n",
    "    'edge'\n",
    "    \"\"\"\n",
    "        \n",
    "    return np.concatenate([np.zeros(5), \n",
    "                                        d_deg_out[u],\n",
    "                                        pagerank.loc[u],\n",
    "                                        d_2g[u],\n",
    "                                        np.zeros(8),\n",
    "                                        d_deg_in[v],\n",
    "                                        pagerank.loc[v],\n",
    "                                        np.zeros(3),\n",
    "                                        d_edges[(u,v)]], axis = None)\n",
    "\n",
    "feature_twitter(19329393, 21172954)"
   ]
  },
  {
   "cell_type": "code",
   "execution_count": 83,
   "metadata": {},
   "outputs": [],
   "source": [
    "d_fu = {u:[d_deg_out[u], float(pagerank.loc[u]), float(df_2reachable.loc[u])] for u in influencers}\n",
    "features_influencers = pd.DataFrame.from_dict(d_fu, orient='index', columns=['deg_out', 'pagerank', '#2r'])\n",
    "d_fv = {v:[d_deg_in[v], float(pagerank.loc[v])] for v in targets}\n",
    "features_targets = pd.DataFrame.from_dict(d_fv, orient='index', columns=['deg_in', 'pagerank'])\n"
   ]
  },
  {
   "cell_type": "code",
   "execution_count": 84,
   "metadata": {},
   "outputs": [],
   "source": [
    "features_influencers['deg_out'] = features_influencers['deg_out'].apply(lambda x : np.log(1 + x) / 8)\n",
    "features_influencers['pagerank'] = features_influencers['pagerank'] / 0.00011\n",
    "features_influencers['#2r'] = features_influencers['#2r'] / 2500\n",
    "features_targets['deg_in'] = features_targets['deg_in'].apply(lambda x : np.log(1 + x) / 7)\n",
    "features_targets['pagerank'] = features_targets['pagerank'] / 0.00011  \n",
    "\n",
    "features_influencers.to_pickle(output_folder + 'features_influencers.pkl')\n",
    "features_targets.to_pickle(output_folder + 'features_targets.pkl')"
   ]
  },
  {
   "cell_type": "markdown",
   "metadata": {},
   "source": [
    "### PLOTS\n",
    "Generating the figure of influence of minimal number of targets / cascades"
   ]
  },
  {
   "cell_type": "code",
   "execution_count": null,
   "metadata": {},
   "outputs": [
    {
     "data": {
      "image/png": "[encoded data removed]",
      "text/plain": [
       "<Figure size 720x720 with 1 Axes>"
      ]
     },
     "metadata": {},
     "output_type": "display_data"
    }
   ],
   "source": [
    "n_cascades = []\n",
    "n_i = []\n",
    "n_t = []\n",
    "\n",
    "for i in range(50) : \n",
    "    cascades = user_cascades[user_cascades['#reposts'] > i]\n",
    "    n_i.append(cascades.groupby('u').count().shape[0])\n",
    "    n_t.append(cascades.explode('vs').groupby('vs').count().shape[0])\n",
    "    n_cascades.append(cascades.shape[0])\n",
    "\n",
    "fig, ax = plt.subplots(figsize = (10,10))\n",
    "ax.plot(n_cascades, label='#cascades')\n",
    "ax.plot(n_i, label = '#influencers')\n",
    "ax.plot(n_t, label='#targets')\n",
    "ax.set_yscale('log')\n",
    "ax.set_ylabel('count')\n",
    "ax.legend()\n",
    "ax.set_xlabel('min number of targets per cascade')\n",
    "fig.suptitle('influence of minimal number of targets per cascade on the number of cascades')\n",
    "plt.show()"
   ]
  },
  {
   "cell_type": "markdown",
   "metadata": {},
   "source": [
    "Cascades analysis : \n",
    "\n",
    "    - N_MIN_REAC | #cascades\n",
    "    - 1          | 1.947M\n",
    "    - 2          | 158 986\n",
    "    - 3          | 57 216\n",
    "    - 4          | 32 091\n",
    "    - 5          | 21 337\n",
    "    - 10         | 6 035\n",
    "    - 15         | 2 913\n",
    "    - 20         | 1 681"
   ]
  },
  {
   "cell_type": "code",
   "execution_count": null,
   "metadata": {},
   "outputs": [
    {
     "data": {
      "image/png": "[encoded data removed]",
      "text/plain": [
       "<Figure size 720x720 with 1 Axes>"
      ]
     },
     "metadata": {},
     "output_type": "display_data"
    }
   ],
   "source": [
    "ss2 = df_retweets.groupby('v').agg({\"mid\" : list, \"date\":'count','u' : list})\n",
    "ss2 = ss2.reset_index()\n",
    "ss2.columns = ['v', 'mids' , '#cascades', 'us']\n",
    "N_MIN_REAC = 5\n",
    "n_cascades = []\n",
    "n_i = []\n",
    "n_t = []\n",
    "\n",
    "for i in range(0,100, 5) : \n",
    "    ss = ss2[ss2['#cascades'] > i]\n",
    "    n_t.append(ss.groupby('v').count().shape[0])\n",
    "    n_cascades.append(ss.explode('mids').groupby('mids').count().shape[0])\n",
    "    n_i.append(ss.explode('us').groupby('us').count().shape[0])\n",
    "\n",
    "fig, ax = plt.subplots(figsize = (10,10))\n",
    "ax.plot(range(0,100, 5),n_cascades, label='#cascades')\n",
    "ax.plot(range(0,100, 5),n_i, label = '#influencers')\n",
    "ax.plot(range(0,100, 5),n_t, label='#targets')\n",
    "ax.set_yscale('log')\n",
    "ax.set_ylabel('count')\n",
    "ax.legend()\n",
    "ax.set_xlabel('min number of cascades per target')\n",
    "fig.suptitle('influence of minimal number of cascades per target')\n",
    "plt.show()"
   ]
  },
  {
   "cell_type": "markdown",
   "metadata": {},
   "source": [
    "min number "
   ]
  },
  {
   "cell_type": "markdown",
   "metadata": {},
   "source": [
    "end"
   ]
  },
  {
   "cell_type": "markdown",
   "metadata": {},
   "source": []
  }
 ],
 "metadata": {
  "interpreter": {
   "hash": "e7ea4e65ffb6255b684281256f6acd9d3a63de41c35d542089cc796fcc4db3b9"
  },
  "kernelspec": {
   "display_name": "Python 3.8.12 ('greedy')",
   "language": "python",
   "name": "python3"
  },
  "language_info": {
   "codemirror_mode": {
    "name": "ipython",
    "version": 3
   },
   "file_extension": ".py",
   "mimetype": "text/x-python",
   "name": "python",
   "nbconvert_exporter": "python",
   "pygments_lexer": "ipython3",
   "version": "3.8.12"
  },
  "orig_nbformat": 4
 },
 "nbformat": 4,
 "nbformat_minor": 2
}
