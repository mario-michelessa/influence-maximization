{
 "cells": [
  {
   "cell_type": "code",
   "execution_count": 1,
   "metadata": {},
   "outputs": [],
   "source": [
    "from IPython.lib.deepreload import reload\n",
    "%load_ext autoreload\n",
    "%autoreload 2\n",
    "\n",
    "import os\n",
    "import warnings\n",
    "warnings.simplefilter('ignore')\n",
    "\n",
    "import numpy as np\n",
    "import random\n",
    "from functools import partial\n",
    "\n",
    "import torch\n",
    "import torch.nn as nn\n",
    "\n",
    "from predictive_model_gpu import make_fc\n",
    "\n",
    "from greedy_coverage_gpu import set_func, marginal_vec, greedy\n",
    "from greedy_submodular_gpu import GreedyOptimizer \n",
    "\n",
    "import seaborn as sns\n",
    "import matplotlib.pyplot as plt\n",
    "\n",
    "from numba import jit\n"
   ]
  },
  {
   "cell_type": "markdown",
   "metadata": {},
   "source": [
    "Parameters"
   ]
  },
  {
   "cell_type": "code",
   "execution_count": 26,
   "metadata": {},
   "outputs": [],
   "source": [
    "beta = 1                #Parameter of greedy optimizer\n",
    "sample_size = 10        #Parameter of greedy optimizer\n",
    "eps = 0.2               #Parameter of greedy optimizer\n",
    "k = 10                  #Parameter of greedy optimizer\n",
    "\n",
    "num_epochs = 10         \n",
    "batch_size = 200\n",
    "learning_rate = 1e-3\n",
    "\n",
    "num_layers = 3\n",
    "activation = 'relu'\n",
    "intermediate_size = 200\n",
    "\n",
    "def init_weights(m):\n",
    "    if type(m) == nn.Linear:\n",
    "        m.weight.data.uniform_(.0, .01)"
   ]
  },
  {
   "cell_type": "code",
   "execution_count": 27,
   "metadata": {},
   "outputs": [
    {
     "name": "stdout",
     "output_type": "stream",
     "text": [
      "Using device: cuda\n",
      "\n",
      "GeForce GTX 1050 Ti\n",
      "Memory Usage:\n",
      "Allocated: 0.6 GB\n",
      "Cached:    0.7 GB\n"
     ]
    }
   ],
   "source": [
    "# setting device on GPU if available, else CPU\n",
    "device = torch.device('cuda' if torch.cuda.is_available() else 'cpu')\n",
    "print('Using device:', device)\n",
    "print()\n",
    "torch.cuda.empty_cache()\n",
    "#Additional Info when using cuda\n",
    "if device.type == 'cuda':\n",
    "    torch.set_default_tensor_type('torch.cuda.FloatTensor')\n",
    "    print(torch.cuda.get_device_name(0))\n",
    "    print('Memory Usage:')\n",
    "    print('Allocated:', round(torch.cuda.memory_allocated(0)/1024**3,1), 'GB')\n",
    "    print('Cached:   ', round(torch.cuda.memory_reserved(0)/1024**3,1), 'GB')"
   ]
  },
  {
   "cell_type": "code",
   "execution_count": 28,
   "metadata": {},
   "outputs": [],
   "source": [
    "N_INFLUENCERS = 100\n",
    "N_TARGETS = 1000\n",
    "N_FEATURES = 10\n",
    "N_INSTANCES = 10 \n",
    "N_TRAIN = int(0.8 * N_INSTANCES)"
   ]
  },
  {
   "cell_type": "markdown",
   "metadata": {},
   "source": [
    "##### Instances definition\n",
    "\n",
    "For each X,Y -> making X_train, X_test, Y_train, Y_test\n"
   ]
  },
  {
   "cell_type": "code",
   "execution_count": 29,
   "metadata": {},
   "outputs": [],
   "source": [
    "path = \"instances_weibo/\"\n",
    "\n",
    "@jit\n",
    "def create_train_test(train_id):\n",
    "    \"\"\"\n",
    "    input : train_id, test_id = partition of range(N_INSTANCES)\n",
    "    returns X_train, Y_train, X_test, Y_test\n",
    "    \"\"\"\n",
    "\n",
    "    X_train = np.zeros((N_TRAIN, N_INFLUENCERS, N_TARGETS, N_FEATURES))\n",
    "    Y_train = np.zeros((N_TRAIN, N_INFLUENCERS, N_TARGETS))\n",
    "    X_test = np.zeros((N_INSTANCES - N_TRAIN, N_INFLUENCERS, N_TARGETS, N_FEATURES))\n",
    "    Y_test = np.zeros((N_INSTANCES - N_TRAIN, N_INFLUENCERS, N_TARGETS))\n",
    "\n",
    "    c_train, c_test = 0, 0\n",
    "    for instance in range(N_INSTANCES) :\n",
    "        XY = np.load(path + f\"{instance}.npz\")['arr_0']\n",
    "        if instance in train_id :\n",
    "            X_train[c_train] = XY[:,:,:-1]\n",
    "            Y_train[c_train] = XY[:,:,-1]\n",
    "            c_train += 1\n",
    "        else : \n",
    "            X_test[c_test] == XY[:,:,:-1]\n",
    "            Y_test[c_test] == XY[:,:,-1]\n",
    "            c_test += 1\n",
    "    \n",
    "    X_train = torch.from_numpy(X_train).float()\n",
    "    Y_train = torch.from_numpy(Y_train).float()\n",
    "    \n",
    "    X_test = torch.from_numpy(X_test).float()\n",
    "    Y_test = torch.from_numpy(Y_test).float()\n",
    "    \n",
    "    # test on random dense labels \n",
    "    # Y_train = torch.from_numpy(np.random.uniform(low=0, high=1, size=(N_TRAIN, N_INFLUENCERS, N_TARGETS))).float()\n",
    "    # Y_test = torch.from_numpy(np.random.uniform(low=0, high=1, size=(N_INSTANCES - N_TRAIN, N_INFLUENCERS, N_TARGETS))).float()\n",
    "    \n",
    "    \n",
    "    return X_train, Y_train, X_test, Y_test\n",
    "\n"
   ]
  },
  {
   "cell_type": "code",
   "execution_count": 30,
   "metadata": {},
   "outputs": [
    {
     "name": "stdout",
     "output_type": "stream",
     "text": [
      "Wall time: 2.27 s\n"
     ]
    }
   ],
   "source": [
    "%%time\n",
    "def normalize_train(X) :\n",
    "    \"\"\"\n",
    "    The first 4 features are about influencers, which vary in dimension 1\n",
    "    The last 4 are about targets, which vary in dimension 2\n",
    "    \n",
    "    \"\"\" \n",
    "    X[:,:,:,:4] = torch.nn.functional.normalize(X[:,:,:,:4], dim=1)\n",
    "    X[:,:,:,4:] = torch.nn.functional.normalize(X[:,:,:,4:], dim=2)\n",
    "\n",
    "    return X\n",
    "\n",
    "w = np.ones(N_TARGETS, dtype=np.float32)\n",
    "train_id = random.sample(list(range(N_INSTANCES)), N_TRAIN)\n",
    "X_train, Y_train, X_test, Y_test = create_train_test(train_id)\n",
    "#X_train = normalize_train(X_train)\n",
    "dataset = torch.utils.data.TensorDataset(X_train, Y_train) \n"
   ]
  },
  {
   "cell_type": "markdown",
   "metadata": {},
   "source": [
    "### Decision focused"
   ]
  },
  {
   "cell_type": "code",
   "execution_count": 31,
   "metadata": {},
   "outputs": [],
   "source": [
    "#learning_rate=0.1\n",
    "\n",
    "train_scores = []\n",
    "test_scores  = []\n",
    "loss_f = []\n",
    "net = make_fc(N_FEATURES, num_layers, activation, intermediate_size)\n",
    "net.apply(init_weights)\n",
    "net = net.to(device)\n",
    "optimizer = torch.optim.Adam(net.parameters(), lr = learning_rate)\n",
    "\n",
    "def eval_grd(net, X, Y):\n",
    "    X = X.to(device)\n",
    "    Y = Y.to(device)\n",
    "    return np.mean([set_func(greedy(k, net(X[i,:,:,:]).view_as(Y_train[0]), w)[1], Y[i, :, :], w) for i in range(X.shape[0])])\n"
   ]
  },
  {
   "cell_type": "code",
   "execution_count": 32,
   "metadata": {},
   "outputs": [
    {
     "name": "stdout",
     "output_type": "stream",
     "text": [
      "epoch | loss | train_score | test_score \n",
      "0 | -0.0035378013271838427 | 0.006019964814186096 | 0.0\n",
      "1 | -0.003891624743118882 | 0.006019964814186096 | 0.0\n",
      "2 | -0.004462698474526405 | 0.006019964814186096 | 0.0\n",
      "3 | -0.0038801725022494793 | 0.006019964814186096 | 0.0\n",
      "4 | -0.0031351165380328894 | 0.006019964814186096 | 0.0\n",
      "5 | -0.0030341381207108498 | 0.006019964814186096 | 0.0\n",
      "6 | -0.003655067877843976 | 0.006019964814186096 | 0.0\n",
      "7 | -0.004501129500567913 | 0.006019964814186096 | 0.0\n",
      "8 | -0.0033438231330364943 | 0.006019964814186096 | 0.0\n",
      "9 | -0.003090057522058487 | 0.006019964814186096 | 0.0\n"
     ]
    },
    {
     "data": {
      "image/png": "[encoded data removed]",
      "text/plain": [
       "<Figure size 432x288 with 1 Axes>"
      ]
     },
     "metadata": {
      "needs_background": "light"
     },
     "output_type": "display_data"
    }
   ],
   "source": [
    "\n",
    "print(\"epoch | loss | train_score | test_score \")\n",
    "\n",
    "for epoch in range(num_epochs):\n",
    "\n",
    "    data_loader = torch.utils.data.DataLoader(dataset, batch_size = batch_size, shuffle = True)\n",
    "    for X_batch, P_batch in data_loader:\n",
    "        loss = 0 \n",
    "        for X, P in zip(X_batch, P_batch):\n",
    "            X = X.to(device)\n",
    "            P = P.to(device)\n",
    "            true_set_func = partial(set_func, P = P, w = w)\n",
    "            marginal_vec_pred = partial(marginal_vec, w = w)\n",
    "            pred = net(X).view_as(P)                \n",
    "            fn = GreedyOptimizer(true_set_func, marginal_vec_pred, n = N_INFLUENCERS, K = k, eps = eps, sample_size = sample_size, beta = beta)\n",
    "            loss -= fn(pred)\n",
    "        loss = loss / batch_size\n",
    "        optimizer.zero_grad()\n",
    "        loss.backward()\n",
    "        optimizer.step()\n",
    "        loss_f.append(loss.item())\n",
    "    \n",
    "    train_score = eval_grd(net, X_train, Y_train)\n",
    "    test_score  = eval_grd(net, X_test, Y_test)\n",
    "\n",
    "    print(f\"{epoch} | {loss} | {train_score} | {test_score}\")\n",
    "\n",
    "    train_scores.append(train_score)\n",
    "    test_scores.append(test_score)\n",
    "\n",
    "x = list(range(num_epochs))\n",
    "sns.lineplot(x, train_scores, label=\"train_score\")\n",
    "sns.lineplot(x, test_scores, label=\"test_score\")\n",
    "plt.legend()\n",
    "plt.xlabel(\"epoch\")\n",
    "plt.show()\n"
   ]
  },
  {
   "cell_type": "code",
   "execution_count": 17,
   "metadata": {},
   "outputs": [
    {
     "data": {
      "text/plain": [
       "[<matplotlib.lines.Line2D at 0x163432a34f0>]"
      ]
     },
     "execution_count": 17,
     "metadata": {},
     "output_type": "execute_result"
    },
    {
     "data": {
      "image/png": "[encoded data removed]",
      "text/plain": [
       "<Figure size 432x288 with 1 Axes>"
      ]
     },
     "metadata": {
      "needs_background": "light"
     },
     "output_type": "display_data"
    }
   ],
   "source": [
    "plt.plot([-0.00597064,\n",
    "-0.00888663996011018,\n",
    "-0.00853857863694429,\n",
    "-0.00955985486507415,\n",
    "-0.00925436336547136,\n",
    "-0.00954477675259113,\n",
    "-0.00828347820788621,\n",
    "-0.00747065478935837,\n",
    "-0.00735847279429435,\n",
    "-0.00680229626595974\n",
    " ])"
   ]
  },
  {
   "cell_type": "markdown",
   "metadata": {},
   "source": [
    "The model does not seem to learn anything. The loss does not decrease."
   ]
  },
  {
   "cell_type": "markdown",
   "metadata": {},
   "source": [
    "### 2 Stage"
   ]
  },
  {
   "cell_type": "code",
   "execution_count": 45,
   "metadata": {},
   "outputs": [
    {
     "name": "stdout",
     "output_type": "stream",
     "text": [
      "epoch | loss | train_score | test_score \n",
      "0 | 5.370184953790158e-05 | 0.042716942727565765 | 0.0\n",
      "1 | 3.664355745058856e-06 | 0.0037878751754760742 | 0.0\n",
      "2 | 1.7528719808979076e-07 | 0.0037878751754760742 | 0.0\n",
      "3 | 1.7528718387893605e-07 | 0.0037878751754760742 | 0.0\n",
      "4 | 1.7528718387893605e-07 | 0.0037878751754760742 | 0.0\n",
      "5 | 1.7528718387893605e-07 | 0.0037878751754760742 | 0.0\n",
      "6 | 1.7528718387893605e-07 | 0.0037878751754760742 | 0.0\n",
      "7 | 1.7528718387893605e-07 | 0.0037878751754760742 | 0.0\n",
      "8 | 1.7528718387893605e-07 | 0.0037878751754760742 | 0.0\n",
      "9 | 1.7528718387893605e-07 | 0.0037878751754760742 | 0.0\n",
      "10 | 1.7528719808979076e-07 | 0.0037878751754760742 | 0.0\n",
      "11 | 1.7528718387893605e-07 | 0.0037878751754760742 | 0.0\n",
      "12 | 1.7528718387893605e-07 | 0.0037878751754760742 | 0.0\n",
      "13 | 1.7528718387893605e-07 | 0.0037878751754760742 | 0.0\n",
      "14 | 1.7528718387893605e-07 | 0.0037878751754760742 | 0.0\n"
     ]
    },
    {
     "data": {
      "image/png": "[encoded data removed]",
      "text/plain": [
       "<Figure size 432x288 with 1 Axes>"
      ]
     },
     "metadata": {
      "needs_background": "light"
     },
     "output_type": "display_data"
    }
   ],
   "source": [
    "\n",
    "num_epochs = 15\n",
    "train_scores = []\n",
    "test_scores  = []\n",
    "loss_2 = []\n",
    "\n",
    "net = make_fc(N_FEATURES, num_layers, activation, intermediate_size)\n",
    "net.apply(init_weights)\n",
    "net = net.to(device)\n",
    "\n",
    "loss_fn = nn.MSELoss()\n",
    "optimizer = torch.optim.Adam(net.parameters(), lr = learning_rate)\n",
    "\n",
    "print(\"epoch | loss | train_score | test_score \")\n",
    "\n",
    "for epoch in range(num_epochs):\n",
    "    data_loader = torch.utils.data.DataLoader(dataset, batch_size = batch_size, shuffle = True)\n",
    "    for X_batch, P_batch in data_loader:\n",
    "        loss = 0 \n",
    "        for X, P in zip(X_batch, P_batch):\n",
    "            X, P = X.to(device), P.to(device)\n",
    "            pred = net(X).view_as(P)\n",
    "            loss += loss_fn(pred, P)\n",
    "        loss = loss / batch_size\n",
    "        optimizer.zero_grad()\n",
    "        loss.backward()\n",
    "        optimizer.step()\n",
    "        loss_2.append(loss.item())\n",
    "\n",
    "    \n",
    "    train_score = eval_grd(net, X_train, Y_train)\n",
    "    test_score  = eval_grd(net, X_test, Y_test)\n",
    "    print(f\"{epoch} | {loss} | {train_score} | {test_score}\")    \n",
    "    train_scores.append(train_score)\n",
    "    test_scores.append(test_score)     \n",
    "    \n",
    "x = list(range(num_epochs))\n",
    "sns.lineplot(x, train_scores, label=\"train_score\")\n",
    "sns.lineplot(x, test_scores, label=\"test_score\")\n",
    "plt.legend()\n",
    "plt.xlabel(\"epoch\")\n",
    "plt.show()\n"
   ]
  },
  {
   "cell_type": "markdown",
   "metadata": {},
   "source": [
    "### Random"
   ]
  },
  {
   "cell_type": "code",
   "execution_count": 53,
   "metadata": {},
   "outputs": [
    {
     "name": "stdout",
     "output_type": "stream",
     "text": [
      "Average score X_train : 0.08614075250923633\n",
      "Average score X_test : 0.0\n"
     ]
    },
    {
     "data": {
      "image/png": "[encoded data removed]",
      "text/plain": [
       "<Figure size 432x288 with 1 Axes>"
      ]
     },
     "metadata": {
      "needs_background": "light"
     },
     "output_type": "display_data"
    }
   ],
   "source": [
    "\n",
    "### main ###\n",
    "train_scores = []\n",
    "test_scores  = []\n",
    "    \n",
    "\n",
    "def eval_rnd(X, Y):\n",
    "    Y = Y.to(device)\n",
    "    sol = random.sample(range(N_INFLUENCERS),k)   \n",
    "    return np.mean([set_func(sol, Y[i,:,:], w) for i in range(X.shape[0])])\n",
    "\n",
    "for _ in range(100) : \n",
    "\n",
    "    train_score = eval_rnd(X_train, Y_train)\n",
    "    test_score  = eval_rnd(X_test, Y_test)\n",
    "\n",
    "    train_scores.append(train_score)\n",
    "    test_scores.append(test_score)\n",
    "\n",
    "print(f\"Average score X_train : {np.mean(train_scores)}\")\n",
    "print(f\"Average score X_test : {np.mean(test_scores)}\")\n",
    "\n",
    "x = list(range(len(train_scores)))\n",
    "sns.lineplot(x, train_scores, label=\"train_score\")\n",
    "sns.lineplot(x, test_scores, label=\"test_score\")\n",
    "plt.legend()\n",
    "plt.xlabel(\"epoch\")\n",
    "plt.show()\n",
    "\n"
   ]
  },
  {
   "cell_type": "code",
   "execution_count": null,
   "metadata": {},
   "outputs": [],
   "source": []
  }
 ],
 "metadata": {
  "interpreter": {
   "hash": "dc0f5465fe995d1bcad0eb0cccd8f49aa4a13151dec79867121107c7f441e047"
  },
  "kernelspec": {
   "display_name": "Python 3 (ipykernel)",
   "language": "python",
   "name": "python3"
  },
  "language_info": {
   "codemirror_mode": {
    "name": "ipython",
    "version": 3
   },
   "file_extension": ".py",
   "mimetype": "text/x-python",
   "name": "python",
   "nbconvert_exporter": "python",
   "pygments_lexer": "ipython3",
   "version": "3.8.12"
  },
  "orig_nbformat": 4
 },
 "nbformat": 4,
 "nbformat_minor": 2
}
