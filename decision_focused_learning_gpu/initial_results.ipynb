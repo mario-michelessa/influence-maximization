{
 "cells": [
  {
   "cell_type": "code",
   "execution_count": 1,
   "metadata": {},
   "outputs": [],
   "source": [
    "import os\n",
    "import warnings\n",
    "warnings.simplefilter('ignore')\n",
    "\n",
    "import numpy as np\n",
    "import random\n",
    "from functools import partial\n",
    "\n",
    "import torch\n",
    "import torch.nn as nn\n",
    "\n",
    "from predictive_model_gpu import make_fc\n",
    "\n",
    "from greedy_coverage_gpu import set_func, marginal_vec, greedy\n",
    "from greedy_submodular_new import GreedyOptimizer, GreedyContext\n",
    "\n",
    "from IPython.lib.deepreload import reload\n",
    "%load_ext autoreload\n"
   ]
  },
  {
   "cell_type": "markdown",
   "metadata": {},
   "source": [
    "beginning"
   ]
  },
  {
   "cell_type": "code",
   "execution_count": 2,
   "metadata": {},
   "outputs": [],
   "source": [
    "\n",
    "beta = 1\n",
    "sample_size = 10\n",
    "eps = 0.2\n",
    "k = 5\n",
    "\n",
    "num_items = 100\n",
    "num_targets = 500\n",
    "\n",
    "num_random_iter = 1\n",
    "num_instances = 30\n",
    "num_features = 43\n",
    "\n",
    "num_epochs = 5\n",
    "batch_size = 100\n",
    "learning_rate = 1e-3\n",
    "\n",
    "num_layers = 2\n",
    "activation = 'relu'\n",
    "intermediate_size = 200\n",
    "\n",
    "def init_weights(m):\n",
    "    if type(m) == nn.Linear:\n",
    "        m.weight.data.uniform_(.0, .01)\n",
    "\n"
   ]
  },
  {
   "cell_type": "code",
   "execution_count": 3,
   "metadata": {},
   "outputs": [
    {
     "name": "stdout",
     "output_type": "stream",
     "text": [
      "Using device: cpu\n",
      "\n"
     ]
    }
   ],
   "source": [
    "# setting device on GPU if available, else CPU\n",
    "device = torch.device('cpu' if torch.cuda.is_available() else 'cpu')\n",
    "print('Using device:', device)\n",
    "print()\n",
    "torch.cuda.empty_cache()\n",
    "#Additional Info when using cuda\n",
    "if device.type == 'cuda':\n",
    "    \n",
    "    print(torch.cuda.get_device_name(0))\n",
    "    print('Memory Usage:')\n",
    "    print('Allocated:', round(torch.cuda.memory_allocated(0)/1024**3,1), 'GB')\n",
    "    print('Cached:   ', round(torch.cuda.memory_reserved(0)/1024**3,1), 'GB')"
   ]
  },
  {
   "cell_type": "code",
   "execution_count": 4,
   "metadata": {},
   "outputs": [],
   "source": [
    "\n",
    "### instances ###\n",
    "path = 'instances/'\n",
    "Ps = torch.from_numpy(np.load(path + 'Ps.npz')['Ps']).float().to(device)      \n",
    "data = torch.from_numpy(np.load(path + 'data.npz')['data']).float().to(device)\n",
    "trains, tests = [], []\n",
    "for i in range(num_random_iter):\n",
    "    trains.append(np.load(path + '{}.npz'.format(i))['train'])\n",
    "    tests.append(np.load(path + '{}.npz'.format(i))['test'])\n",
    "w = np.ones(num_targets, dtype=np.float32)\n",
    "\n"
   ]
  },
  {
   "cell_type": "code",
   "execution_count": 5,
   "metadata": {},
   "outputs": [
    {
     "name": "stdout",
     "output_type": "stream",
     "text": [
      "0\n",
      "epoch0\n"
     ]
    }
   ],
   "source": [
    "\n",
    "### main ###\n",
    "train_scores = []\n",
    "test_scores  = []\n",
    "\n",
    "for idx in range(num_random_iter):\n",
    "    print(idx)\n",
    "    test  = tests[idx] \n",
    "    train = trains[idx]\n",
    "    dataset = torch.utils.data.TensorDataset(data[train], Ps[train])\n",
    "    \n",
    "    net = make_fc(num_features, num_layers, activation, intermediate_size)\n",
    "    net.apply(init_weights)\n",
    "    net = net.to(device)\n",
    "\n",
    "    optimizer = torch.optim.Adam(net.parameters(), lr = learning_rate)\n",
    "\n",
    "    for epoch in range(num_epochs):\n",
    "        print('epoch{}'.format(epoch))\n",
    "        data_loader = torch.utils.data.DataLoader(dataset, batch_size = batch_size, shuffle = True)\n",
    "        \n",
    "        for X_batch, P_batch in data_loader:\n",
    "            loss = 0 \n",
    "            for X, P in zip(X_batch, P_batch):\n",
    "                X, P = X.to(device), P.to(device)\n",
    "                true_set_func = partial(set_func, P = P, w = w)\n",
    "                marginal_vec_pred = partial(marginal_vec, w = w)\n",
    "                pred = net(X).view_as(P)  \n",
    "                               \n",
    "                \n",
    "                loss -= GreedyOptimizer.apply(pred, true_set_func, marginal_vec_pred, num_items, k, eps,sample_size, beta)\n",
    "            loss = loss / batch_size\n",
    "            print(loss)\n",
    "            optimizer.zero_grad()\n",
    "            loss.backward()\n",
    "            optimizer.step()\n",
    "        \n",
    "\n",
    "    def eval_grd(net, instances):\n",
    "        return np.mean([set_func(greedy(k, net(data[i]).view_as(Ps[0]), w)[1], Ps[i], w) for i in instances])\n",
    "\n",
    "    train_score = eval_grd(net, train)\n",
    "    test_score  = eval_grd(net, test)\n",
    "\n",
    "    print(train_score)\n",
    "    print(test_score)\n",
    "\n",
    "    train_scores.append(train_score)\n",
    "    test_scores.append(test_score)\n",
    "\n",
    "print(np.mean(train_scores))\n",
    "print(np.mean(test_scores))\n",
    "\n"
   ]
  },
  {
   "cell_type": "code",
   "execution_count": 7,
   "metadata": {},
   "outputs": [],
   "source": [
    "%reset"
   ]
  },
  {
   "cell_type": "code",
   "execution_count": null,
   "metadata": {},
   "outputs": [],
   "source": []
  },
  {
   "cell_type": "markdown",
   "metadata": {},
   "source": [
    "end\n"
   ]
  },
  {
   "cell_type": "markdown",
   "metadata": {},
   "source": []
  }
 ],
 "metadata": {
  "interpreter": {
   "hash": "dc0f5465fe995d1bcad0eb0cccd8f49aa4a13151dec79867121107c7f441e047"
  },
  "kernelspec": {
   "display_name": "Python 3.8.12 ('ml-IM')",
   "language": "python",
   "name": "python3"
  },
  "language_info": {
   "codemirror_mode": {
    "name": "ipython",
    "version": 3
   },
   "file_extension": ".py",
   "mimetype": "text/x-python",
   "name": "python",
   "nbconvert_exporter": "python",
   "pygments_lexer": "ipython3",
   "version": "3.8.12"
  },
  "orig_nbformat": 4
 },
 "nbformat": 4,
 "nbformat_minor": 2
}
