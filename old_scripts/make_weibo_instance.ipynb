{
 "cells": [
  {
   "cell_type": "code",
   "execution_count": 21,
   "metadata": {},
   "outputs": [],
   "source": [
    "import os\n",
    "import numpy as np\n",
    "import random\n",
    "import pandas as pd\n",
    "from numba import jit\n",
    "\n",
    "import os \n",
    "import warnings\n",
    "warnings.simplefilter('ignore')\n",
    "\n",
    "import matplotlib.pyplot as plt\n",
    "import seaborn as sns\n",
    "\n",
    "from collections import defaultdict\n"
   ]
  },
  {
   "cell_type": "code",
   "execution_count": 22,
   "metadata": {},
   "outputs": [],
   "source": [
    "file_user = \"../data/weibo/userProfile.pkl\"\n",
    "file_labels = \"../data/weibo/labels_1000.pkl\"\n",
    "file_edges = \"../data/weibo/edges_1000.pkl\"\n",
    "file_topics = \"../data/weibo/topics_8.pkl\""
   ]
  },
  {
   "cell_type": "markdown",
   "metadata": {},
   "source": [
    "#### Parameters"
   ]
  },
  {
   "cell_type": "code",
   "execution_count": 5,
   "metadata": {},
   "outputs": [],
   "source": [
    "DATE_VAR = ['created_at']\n",
    "NUM_VAR = ['bi_followers_count', 'followers_count', 'friends_count', 'statuses_count']\n",
    "CAT_VAR = ['city', 'verified', 'province', 'verified_type', 'gender']\n",
    "\n",
    "FEATURES = ['followers_count', 'friends_count', 'statuses_count', 'verified', 'gender']\n",
    "\n",
    "N_INFLUENCERS = 100\n",
    "N_TARGETS = 1000\n",
    "N_FEATURES = 2 * len(FEATURES)\n",
    "N_INSTANCES = 10\n",
    "N_TOPICS = 8\n",
    "PROB_TYPE = 'LP'"
   ]
  },
  {
   "cell_type": "markdown",
   "metadata": {},
   "source": [
    "#### Imports"
   ]
  },
  {
   "cell_type": "markdown",
   "metadata": {},
   "source": [
    "User data"
   ]
  },
  {
   "cell_type": "code",
   "execution_count": 6,
   "metadata": {},
   "outputs": [
    {
     "name": "stdout",
     "output_type": "stream",
     "text": [
      "df_user_orig : \n",
      "|         id |         id |   bi_followers_count |   city | verified   |   followers_count |   province |   friends_count | gender   | created_at          |   verified_type |   statuses_count |\n",
      "|-----------:|-----------:|---------------------:|-------:|:-----------|------------------:|-----------:|----------------:|:---------|:--------------------|----------------:|-----------------:|\n",
      "| 1657151084 | 1657151084 |                    0 |      5 | False      |                33 |         31 |             162 | m        | 2009-10-29 22:20:41 |              -1 |                0 |\n",
      "| 1657149732 | 1657149732 |                    0 |      9 | False      |                16 |         62 |              27 | m        | 2009-10-29 20:48:01 |              -1 |               11 |\n",
      "| 1657148500 | 1657148500 |                    4 |     20 | False      |                79 |         31 |              29 | m        | 2009-12-12 18:10:42 |              -1 |               25 |\n",
      "| 1657146942 | 1657146942 |                    1 |   1000 | False      |                14 |         11 |              11 | m        | 2009-10-29 20:36:25 |              -1 |                3 |\n",
      "| 1657150271 | 1657150271 |                   73 |      1 | False      |               390 |         52 |             151 | f        | 2011-06-14 22:37:07 |             200 |               24 |\n",
      "shape : (1681085, 11)\n",
      "\n"
     ]
    }
   ],
   "source": [
    "df_user_orig = pd.read_pickle(file_user)\n",
    "df_user_orig.index = df_user_orig['id'].astype(np.int64)\n",
    "\n",
    "print(\"df_user_orig : \\n\" + df_user_orig.head(5).to_markdown())\n",
    "print(f\"shape : {df_user_orig.shape}\\n\" )\n"
   ]
  },
  {
   "cell_type": "markdown",
   "metadata": {},
   "source": [
    "Transformation of user data"
   ]
  },
  {
   "cell_type": "code",
   "execution_count": 7,
   "metadata": {},
   "outputs": [
    {
     "name": "stdout",
     "output_type": "stream",
     "text": [
      "df_user : \n",
      "|    id |   followers_count |   friends_count |   statuses_count |   verified |   gender |\n",
      "|------:|------------------:|----------------:|-----------------:|-----------:|---------:|\n",
      "| 10029 |          0.935652 |        0.742192 |         0.711233 |          1 |        1 |\n",
      "| 10057 |          0.536129 |        0.719468 |         0.572359 |          0 |        0 |\n",
      "| 10111 |          0.577765 |        0.691674 |         0.642972 |          0 |        1 |\n",
      "| 10145 |          0.809102 |        0.786677 |         0.730317 |          1 |        0 |\n",
      "shape : (1655678, 5)\n",
      "\n"
     ]
    }
   ],
   "source": [
    "#FE\n",
    "df_user = df_user_orig[FEATURES]\n",
    "df_user['followers_count'] = df_user['followers_count'].apply(lambda x : np.log(max(x, 0) + 1)) / 10\n",
    "df_user['friends_count'] = df_user['friends_count'].apply(lambda x : np.log(max(x, 0) + 1)) / 8\n",
    "df_user['statuses_count'] = df_user['statuses_count'].apply(lambda x : np.log(max(x, 0) + 1)) / 10\n",
    "df_user['verified'] = df_user.verified.apply(lambda x : 1 if x =='True' else 0)\n",
    "df_user['gender'] = df_user.gender.cat.codes\n",
    "df_user = df_user.groupby(df_user.index).max() #some userid were 2 time in the dataset 1681085 rows -> 1655678 rows\n",
    "\n",
    "print(\"df_user : \\n\" + df_user.head(4).to_markdown())\n",
    "print(f\"shape : {df_user.shape}\\n\" )\n",
    "\n"
   ]
  },
  {
   "cell_type": "markdown",
   "metadata": {},
   "source": [
    "Import of ground truths previously estimated"
   ]
  },
  {
   "cell_type": "code",
   "execution_count": 1,
   "metadata": {},
   "outputs": [
    {
     "ename": "NameError",
     "evalue": "name 'pd' is not defined",
     "output_type": "error",
     "traceback": [
      "\u001b[1;31m---------------------------------------------------------------------------\u001b[0m",
      "\u001b[1;31mNameError\u001b[0m                                 Traceback (most recent call last)",
      "\u001b[1;32md:\\Mario\\notebooks\\IM_smoothed_greedy\\make_weibo_instance.ipynb Cell 11'\u001b[0m in \u001b[0;36m<module>\u001b[1;34m\u001b[0m\n\u001b[1;32m----> <a href='vscode-notebook-cell:/d%3A/Mario/notebooks/IM_smoothed_greedy/make_weibo_instance.ipynb#ch0000010?line=0'>1</a>\u001b[0m labels \u001b[39m=\u001b[39m pd\u001b[39m.\u001b[39mread_pickle(file_labels)\n\u001b[0;32m      <a href='vscode-notebook-cell:/d%3A/Mario/notebooks/IM_smoothed_greedy/make_weibo_instance.ipynb#ch0000010?line=1'>2</a>\u001b[0m labels\u001b[39m.\u001b[39mu \u001b[39m=\u001b[39m labels\u001b[39m.\u001b[39mu\u001b[39m.\u001b[39mastype(np\u001b[39m.\u001b[39mint64)\n\u001b[0;32m      <a href='vscode-notebook-cell:/d%3A/Mario/notebooks/IM_smoothed_greedy/make_weibo_instance.ipynb#ch0000010?line=2'>3</a>\u001b[0m labels\u001b[39m.\u001b[39mv \u001b[39m=\u001b[39m labels\u001b[39m.\u001b[39mv\u001b[39m.\u001b[39mastype(np\u001b[39m.\u001b[39mint64)\n",
      "\u001b[1;31mNameError\u001b[0m: name 'pd' is not defined"
     ]
    }
   ],
   "source": [
    "labels = pd.read_pickle(file_labels)\n",
    "labels.u = labels.u.astype(np.int64)\n",
    "labels.v = labels.v.astype(np.int64)\n",
    "labels.index = pd.MultiIndex.from_tuples(zip(labels['u'],labels['v'])) #important to do .loc[(u,v)]\n",
    "labels = labels.sort_index() # infos are retreived faster\n",
    "labels = labels.drop_duplicates()\n",
    "labels = labels.drop((1637712471, 279405)) #1637712471 is not present in df_user_num (why ?)\n",
    "\n",
    "print(\"labels : \\n\" + labels.head(5).to_markdown())\n",
    "print(f\"shape : {labels.shape}\\n\" )"
   ]
  },
  {
   "cell_type": "markdown",
   "metadata": {},
   "source": [
    "It is not possible to create a matrix of #influencers x #targets x #features (=1.6Billions entries for only 158048 positive influences)\n",
    "\n",
    "So to create one instance we randomly sample 100 influencers and 1000 influencers"
   ]
  },
  {
   "cell_type": "code",
   "execution_count": 9,
   "metadata": {},
   "outputs": [
    {
     "name": "stdout",
     "output_type": "stream",
     "text": [
      "Total influencers : 823\n",
      "Total targets : 133678\n"
     ]
    }
   ],
   "source": [
    "influencers = list(labels.groupby('u').count().index)\n",
    "targets = list(labels.groupby('v').count().index)\n",
    "\n",
    "print(f\"Total influencers : {len(influencers)}\")\n",
    "print(f\"Total targets : {len(targets)}\")"
   ]
  },
  {
   "cell_type": "code",
   "execution_count": 11,
   "metadata": {},
   "outputs": [],
   "source": [
    "#Uniform sampling of I and T\n",
    "sampled_influencers = random.sample(influencers, N_INFLUENCERS)\n",
    "sampled_targets = random.sample(targets, N_TARGETS)"
   ]
  },
  {
   "cell_type": "code",
   "execution_count": 12,
   "metadata": {},
   "outputs": [],
   "source": [
    "def fill_y(u,v) : \n",
    "    if (u,v) in labels.index : \n",
    "        return labels.loc[(u,v)][PROB_TYPE]\n",
    "    else : \n",
    "        return 0\n",
    "\n",
    "def create_XY(sampled_influencers, sampled_targets) :\n",
    "    \"\"\"\n",
    "    from 2 sets of influencers and targets, creates features and labels according to the paper format\n",
    "    \"\"\"\n",
    "    nI = len(sampled_influencers)\n",
    "    nT = len(sampled_targets)\n",
    "    X = np.zeros((nI, nT, N_FEATURES))\n",
    "\n",
    "    for target in range(nT):\n",
    "        X[:, target, :] = np.c_[np.array(df_user.loc[sampled_influencers]), np.tile(df_user.loc[sampled_targets[target]],(nI, 1))]\n",
    "\n",
    "    Y = np.zeros((nI, nT))\n",
    "\n",
    "    for i in range(nI):\n",
    "        for j in range(nT):\n",
    "            Y[i,j] = fill_y(sampled_influencers[i], sampled_targets[j])\n",
    "\n",
    "    Y = np.reshape(Y, (nI, nT,1))\n",
    "\n",
    "    return np.concatenate((X,Y), axis = 2)\n"
   ]
  },
  {
   "cell_type": "code",
   "execution_count": 13,
   "metadata": {},
   "outputs": [
    {
     "name": "stdout",
     "output_type": "stream",
     "text": [
      "Saving instance 0/10...\n",
      "Instance already created\n",
      "Saving instance 1/10...\n",
      "Instance already created\n",
      "Saving instance 2/10...\n",
      "Instance already created\n",
      "Saving instance 3/10...\n",
      "Instance already created\n",
      "Saving instance 4/10...\n",
      "Instance already created\n",
      "Saving instance 5/10...\n",
      "Instance already created\n",
      "Saving instance 6/10...\n",
      "Instance already created\n",
      "Saving instance 7/10...\n",
      "Instance already created\n",
      "Saving instance 8/10...\n",
      "Instance already created\n",
      "Saving instance 9/10...\n",
      "Instance already created\n",
      "End\n"
     ]
    }
   ],
   "source": [
    "path = '../decision_focused_learning_gpu/instances_weibo/'\n",
    "\n",
    "for instance in range(N_INSTANCES) : \n",
    "    if instance % (N_INSTANCES // 10) == 0 : print(f\"Saving instance {instance}/{N_INSTANCES}...\")\n",
    "    if os.path.exists(path + f'{instance}.npz'):\n",
    "        print(\"Instance already created\")\n",
    "    else : \n",
    "    \n",
    "        sampled_influencers = random.sample(influencers, N_INFLUENCERS)\n",
    "        sampled_targets = random.sample(targets, N_TARGETS)\n",
    "        XY = create_XY(sampled_influencers, sampled_targets)\n",
    "\n",
    "        \n",
    "        np.savez(path + f'{instance}.npz', XY)\n",
    "\n",
    "        del(XY)    \n",
    "    \n",
    "print(\"End\")"
   ]
  },
  {
   "cell_type": "markdown",
   "metadata": {},
   "source": [
    "### Reducing the sparsity of the labels"
   ]
  },
  {
   "cell_type": "markdown",
   "metadata": {},
   "source": [
    "First approach : We extract the I and T having the most degree\n",
    "\n",
    "It gives the upper bound of the positive labels we can obtain by sampling I and T separately"
   ]
  },
  {
   "cell_type": "code",
   "execution_count": 14,
   "metadata": {},
   "outputs": [
    {
     "name": "stdout",
     "output_type": "stream",
     "text": [
      "Ratio : 2.571%\n"
     ]
    }
   ],
   "source": [
    "max_sampled_influencers = list(labels.groupby('u').count().sort_values(ascending=False, by='v')[:N_INFLUENCERS].index)\n",
    "max_sampled_targets = list(labels.groupby('v').count().sort_values(ascending=False, by='u')[:N_TARGETS].index)\n",
    "maxXY = create_XY(max_sampled_influencers, max_sampled_targets)\n",
    "print(f\"Ratio : {(maxXY[:,:,10] > 0).sum() / (maxXY.shape[0] * maxXY.shape[1]) * 100}%\")"
   ]
  },
  {
   "cell_type": "markdown",
   "metadata": {},
   "source": [
    "Second approach : We draw the influencers and the targets with probability proportional to the degree"
   ]
  },
  {
   "cell_type": "code",
   "execution_count": 15,
   "metadata": {},
   "outputs": [],
   "source": [
    "gbu = labels.groupby('u').count().v\n",
    "influencers = list(gbu.index)\n",
    "p_influencers = list(gbu.values / sum(gbu)) \n",
    "\n",
    "gbv = labels.groupby('v').count().u\n",
    "targets = list(gbv.index)\n",
    "p_targets = list(gbv.values / sum(gbv))"
   ]
  },
  {
   "cell_type": "code",
   "execution_count": 15,
   "metadata": {},
   "outputs": [
    {
     "data": {
      "image/png": "[encoded data removed]",
      "text/plain": [
       "<Figure size 720x360 with 2 Axes>"
      ]
     },
     "metadata": {
      "needs_background": "light"
     },
     "output_type": "display_data"
    }
   ],
   "source": [
    "averages = []\n",
    "\n",
    "for k in range(0, len(influencers), 10) :\n",
    "    values = []\n",
    "    for _ in range(10):\n",
    "        Iprob = np.random.choice(influencers, k, p = p_influencers, replace=False) \n",
    "        values.append( gbu.loc[Iprob].mean() )\n",
    "    m = sum(values) / len(values)\n",
    "    s = np.std(values)\n",
    "    averages.append([m - 2*s, m, m + 2*s])\n",
    "\n",
    "df = pd.DataFrame(averages)\n",
    "del(averages)\n",
    "\n",
    "df.index = df.index / df.index.max()\n",
    "\n",
    "fig, ax = plt.subplots(1,2, figsize=(10,5))\n",
    "\n",
    "ax[0].plot(df[1])\n",
    "ax[0].fill_between(df.index, df[0],df[2], alpha = 0.5)\n",
    "del(df)\n",
    "\n",
    "ax[0].set_title(\"Average degree of influencer wrt \\n the proportion of influencers sampled\")\n",
    "ax[0].set_xlabel('influencers sampled / total influencers')\n",
    "ax[0].set_ylabel('mean degree')\n",
    "\n",
    "# same for targets\n",
    "\n",
    "l = []\n",
    "\n",
    "for k in range(0, len(targets), 10000) :\n",
    "    ll = []\n",
    "    for _ in range(5):\n",
    "        Tprob = np.random.choice(targets, k, p = p_targets, replace=False) \n",
    "        ll.append( gbv.loc[Tprob].mean() )\n",
    "    m = sum(ll) / len(ll)\n",
    "    s = np.std(ll)\n",
    "    l.append([m - 2*s, m, m + 2*s])\n",
    "\n",
    "df = pd.DataFrame(l)\n",
    "del(l)\n",
    "df.index = df.index / df.index.max()\n",
    "\n",
    "ax[1].plot(df[1])\n",
    "ax[1].fill_between(df.index, df[0],df[2], alpha = 0.5)\n",
    "del(df)\n",
    "\n",
    "ax[1].set_title(\"Average degree of targets wrt \\n the proportion of targets sampled\")\n",
    "ax[1].set_xlabel('targets sampled / total targets')\n",
    "ax[1].set_ylabel('mean degree')\n",
    "plt.show()"
   ]
  },
  {
   "cell_type": "code",
   "execution_count": 16,
   "metadata": {},
   "outputs": [
    {
     "name": "stdout",
     "output_type": "stream",
     "text": [
      "Number of positive labels with uniform distribution : 168.4\n",
      "Number of positive labels with this distribution : 820.4\n"
     ]
    }
   ],
   "source": [
    "nI, nT = 100, 1000\n",
    "n_iter = 5\n",
    "\n",
    "l1, l2 = [], []\n",
    "for _ in range(n_iter) : \n",
    "    Irand = np.random.choice(influencers, nI, replace=False)\n",
    "    Trand = np.random.choice(targets, nT, replace=False)\n",
    "    XYrand = create_XY(Irand, Trand)\n",
    "    l1.append((XYrand[:,:,10] > 0).sum())\n",
    "\n",
    "    Iprob = np.random.choice(influencers, nI, p = p_influencers, replace=False)\n",
    "    Tprob = np.random.choice(targets, nT, p = p_targets, replace=False)\n",
    "    XYprob = create_XY(Iprob, Tprob)\n",
    "    l2.append((XYprob[:,:,10] > 0).sum())\n",
    "\n",
    "print(f\"Number of positive labels with uniform distribution : {sum(l1)/n_iter}\")\n",
    "print(f\"Number of positive labels with this distribution : {sum(l2)/n_iter}\")"
   ]
  },
  {
   "cell_type": "markdown",
   "metadata": {},
   "source": [
    "Third approach : We fix a proportion of positive labels to fill XY matrix"
   ]
  },
  {
   "cell_type": "code",
   "execution_count": 16,
   "metadata": {},
   "outputs": [],
   "source": [
    "\n",
    "def fill_with_positive(XY, p) :\n",
    "    \"\"\"\n",
    "    input : XY -> output of createXY, p -> proportion of positive examples needed in XY\n",
    "    output : XY with the positive examples added\n",
    "    \"\"\"\n",
    "    nI, nT, _ = XY.shape\n",
    "    n_pos = int(p * nI * nT)\n",
    "\n",
    "    labels_to_add = labels.sample(n = n_pos)\n",
    "    for l in range(n_pos) :\n",
    "    \n",
    "        i = np.random.randint(0,nI)\n",
    "        t = np.random.randint(0, nT)\n",
    "    \n",
    "        label = labels_to_add.iloc[l]\n",
    "        fu = df_user.loc[label.u]\n",
    "        fv = df_user.loc[label.v]\n",
    "    \n",
    "        XY[i, t, :] = np.concatenate([fu, fv, label[PROB_TYPE]], axis=None)\n",
    "    \n",
    "    return XY\n"
   ]
  },
  {
   "cell_type": "code",
   "execution_count": 17,
   "metadata": {},
   "outputs": [
    {
     "name": "stdout",
     "output_type": "stream",
     "text": [
      "p = 0.2 : Ratio of positive examples = 18.185000000000002%\n"
     ]
    }
   ],
   "source": [
    "XY_filled = fill_with_positive(create_XY(sampled_influencers, sampled_targets), 0.2)\n",
    "print(f\"p = {0.2} : Ratio of positive examples = {(XY_filled[:,:,10] > 0).sum() / (XY_filled.shape[0] * XY_filled.shape[1]) * 100}%\")"
   ]
  },
  {
   "cell_type": "markdown",
   "metadata": {},
   "source": [
    "### Export of resampled data"
   ]
  },
  {
   "cell_type": "code",
   "execution_count": 18,
   "metadata": {},
   "outputs": [],
   "source": [
    "gbu = labels.groupby('u').count().v\n",
    "influencers = list(gbu.index)\n",
    "p_influencers = list(gbu.values / sum(gbu)) \n",
    "del(gbu)\n",
    "\n",
    "gbv = labels.groupby('v').count().u\n",
    "targets = list(gbv.index)\n",
    "p_targets = list(gbv.values / sum(gbv))\n",
    "del(gbv)"
   ]
  },
  {
   "cell_type": "code",
   "execution_count": 19,
   "metadata": {},
   "outputs": [
    {
     "name": "stdout",
     "output_type": "stream",
     "text": [
      "Saving instance 0/10...\n",
      "Instance already created\n",
      "Saving instance 1/10...\n",
      "Instance already created\n",
      "Saving instance 2/10...\n",
      "Instance already created\n",
      "Saving instance 3/10...\n",
      "Instance already created\n",
      "Saving instance 4/10...\n",
      "Instance already created\n",
      "Saving instance 5/10...\n",
      "Instance already created\n",
      "Saving instance 6/10...\n",
      "Instance already created\n",
      "Saving instance 7/10...\n",
      "Instance already created\n",
      "Saving instance 8/10...\n",
      "Instance already created\n",
      "Saving instance 9/10...\n",
      "Instance already created\n",
      "End\n"
     ]
    }
   ],
   "source": [
    "path = '../decision_focused_learning_gpu/instances_weibo/oversampled_FE_LP/'\n",
    "PROP_POS = 0.1\n",
    "\n",
    "for instance in range(N_INSTANCES) : \n",
    "\n",
    "    if instance % (N_INSTANCES // 10) == 0 : print(f\"Saving instance {instance}/{N_INSTANCES}...\")\n",
    "\n",
    "    if os.path.exists(path + f'{instance}.npz') :\n",
    "        print(\"Instance already created\")\n",
    "    else :\n",
    "        sampled_influencers = np.random.choice(influencers, N_INFLUENCERS, p = p_influencers, replace=False)\n",
    "        sampled_targets = np.random.choice(targets, N_TARGETS, p = p_targets, replace=False)\n",
    "\n",
    "        XY = create_XY(sampled_influencers, sampled_targets)\n",
    "        XY = fill_with_positive(XY, PROP_POS)\n",
    "\n",
    "        np.savez(path + f'{instance}.npz', XY)    \n",
    "        del(XY)\n",
    "    \n",
    "print(\"End\")"
   ]
  },
  {
   "cell_type": "markdown",
   "metadata": {},
   "source": [
    "### Adding the topology edges info to instances"
   ]
  },
  {
   "cell_type": "code",
   "execution_count": 35,
   "metadata": {},
   "outputs": [],
   "source": [
    " \n",
    "edges = pd.read_pickle(file_edges)\n",
    "\n",
    "def f(): return 0\n",
    "d_edges = defaultdict(f)\n",
    "for (u,v) in zip(edges.u, edges.v) :\n",
    "    d_edges[(u,v)] = 1\n",
    "del(edges)\n",
    "\n",
    "def feature_vector(u,v) : \n",
    "    \"\"\"\n",
    "    Creates vector with\n",
    "    - Influencers features\n",
    "    - Target features\n",
    "    - Topology link\n",
    "    \"\"\"\n",
    "    fu = df_user.loc[u]\n",
    "    fv = df_user.loc[v]\n",
    "    \n",
    "    return np.concatenate([fu, fv, d_edges[(u,v)]], axis = None)\n",
    "\n",
    "d_labels = defaultdict(lambda : False)\n",
    "for (u,v) in zip(labels.u, labels.v) :\n",
    "    d_labels[(u,v)] = True\n",
    "\n",
    "def fill_y_2(u,v) : \n",
    "    if d_labels[(u,v)] : \n",
    "        return labels.loc[(u,v)][PROB_TYPE]\n",
    "    else : \n",
    "        return 0\n",
    "@jit\n",
    "def create_XY_2(sampled_influencers, sampled_targets) :\n",
    "    \"\"\"\n",
    "    from 2 sets of influencers and targets, creates features and labels according to the paper format\n",
    "    \"\"\"\n",
    "    nI = len(sampled_influencers)\n",
    "    nT = len(sampled_targets)\n",
    "    X = np.zeros((nI, nT, N_FEATURES + 1)) #adds the topology link\n",
    "\n",
    "    Y = np.zeros((nI, nT))\n",
    "\n",
    "    for i in range(nI):\n",
    "        for j in range(nT):\n",
    "            X[i,j, :] = feature_vector(sampled_influencers[i], sampled_targets[j])\n",
    "            Y[i,j] = fill_y_2(sampled_influencers[i], sampled_targets[j])\n",
    "\n",
    "    Y = np.reshape(Y, (nI, nT,1))\n",
    "\n",
    "    return np.concatenate((X,Y), axis = 2)\n",
    "\n",
    "def fill_with_positive_2(XY, p) :\n",
    "    \"\"\"\n",
    "    input : XY -> output of createXY, p -> proportion of positive examples needed in XY\n",
    "    output : XY with the positive examples added\n",
    "    \"\"\"\n",
    "    nI, nT, _ = XY.shape\n",
    "    n_pos = int(p * nI * nT)\n",
    "\n",
    "    labels_to_add = labels.sample(n = n_pos)\n",
    "    for l in range(n_pos) :\n",
    "    \n",
    "        i = np.random.randint(0,nI)\n",
    "        t = np.random.randint(0, nT)\n",
    "    \n",
    "        label = labels_to_add.iloc[l]\n",
    "        f = feature_vector(label.u, label.v)\n",
    "\n",
    "        XY[i, t, :] = np.concatenate([f, label[PROB_TYPE]], axis=None)\n",
    "    \n",
    "    return XY"
   ]
  },
  {
   "cell_type": "code",
   "execution_count": 37,
   "metadata": {},
   "outputs": [
    {
     "name": "stdout",
     "output_type": "stream",
     "text": [
      "Saving instance 0/10...\n",
      "Saving instance 1/10...\n",
      "Saving instance 2/10...\n",
      "Saving instance 3/10...\n",
      "Saving instance 4/10...\n",
      "Saving instance 5/10...\n",
      "Saving instance 6/10...\n",
      "Saving instance 7/10...\n",
      "Saving instance 8/10...\n",
      "Saving instance 9/10...\n",
      "End\n"
     ]
    }
   ],
   "source": [
    "path = '../decision_focused_learning_gpu/instances_weibo/oversampled_FE_LP_2/'\n",
    "PROP_POS = 0.1\n",
    "\n",
    "for instance in range(N_INSTANCES) : \n",
    "\n",
    "    if instance % (N_INSTANCES // 10) == 0 : print(f\"Saving instance {instance}/{N_INSTANCES}...\")\n",
    "\n",
    "    if os.path.exists(path + f'{instance}.npz') :\n",
    "        print(\"Instance already created\")\n",
    "    else :\n",
    "        sampled_influencers = np.random.choice(influencers, N_INFLUENCERS, p = p_influencers, replace=False)\n",
    "        sampled_targets = np.random.choice(targets, N_TARGETS, p = p_targets, replace=False)\n",
    "\n",
    "        XY = create_XY_2(sampled_influencers, sampled_targets)\n",
    "        XY = fill_with_positive_2(XY, PROP_POS)\n",
    "\n",
    "        np.savez(path + f'{instance}.npz', XY)    \n",
    "        del(XY)\n",
    "    \n",
    "print(\"End\")"
   ]
  },
  {
   "cell_type": "markdown",
   "metadata": {},
   "source": [
    "Plots"
   ]
  }
 ],
 "metadata": {
  "interpreter": {
   "hash": "dc0f5465fe995d1bcad0eb0cccd8f49aa4a13151dec79867121107c7f441e047"
  },
  "kernelspec": {
   "display_name": "Python 3.8.12 ('ml-IM')",
   "language": "python",
   "name": "python3"
  },
  "language_info": {
   "codemirror_mode": {
    "name": "ipython",
    "version": 3
   },
   "file_extension": ".py",
   "mimetype": "text/x-python",
   "name": "python",
   "nbconvert_exporter": "python",
   "pygments_lexer": "ipython3",
   "version": "3.8.12"
  },
  "orig_nbformat": 4
 },
 "nbformat": 4,
 "nbformat_minor": 2
}
