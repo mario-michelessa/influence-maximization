{
 "cells": [
  {
   "cell_type": "code",
   "execution_count": 2,
   "metadata": {},
   "outputs": [],
   "source": [
    "import numpy as np\n",
    "import pandas as pd\n",
    "import seaborn as sns\n",
    "import matplotlib.pyplot as plt \n",
    "import networkx as nx\n",
    "import math \n",
    "\n",
    "import warnings\n",
    "warnings.filterwarnings('ignore')"
   ]
  },
  {
   "cell_type": "markdown",
   "metadata": {},
   "source": [
    "Loading the data : "
   ]
  },
  {
   "cell_type": "code",
   "execution_count": 3,
   "metadata": {},
   "outputs": [
    {
     "name": "stdout",
     "output_type": "stream",
     "text": [
      "CPU times: total: 1.72 s\n",
      "Wall time: 2.41 s\n"
     ]
    }
   ],
   "source": [
    "%%time\n",
    "\n",
    "df_retweets = pd.read_csv(\"data/retweetsranked_full.csv\", \n",
    "    sep = ';', \n",
    "    #chunksize=1000, \n",
    "    nrows=  1000000,\n",
    "    header=None, \n",
    "    names=[\"RT\", \"Date\", \"User1\", \"User2\", \"Orig\"], \n",
    "    parse_dates=[\"Date\"], \n",
    "    dtype={\"User1\" : np.int32, \"User2\": np.int32})\n",
    "\n",
    "\n",
    "df_texts = pd.read_csv(\"data/retweetstext.csv\", \n",
    "    sep = \"#1#8#3#\", \n",
    "    nrows= 1000, \n",
    "    header=None, \n",
    "    names = ['RT', 'Text', \"Date\", \"User1\", \"User2\", \"Orig\"],\n",
    "    parse_dates=['Date'],\n",
    "    dtype={\"User1\" : np.int32, \"User2\": np.int32})\n",
    "\n",
    "#contains 301M edges\n",
    "df_graph = pd.read_csv(\"data/graph_twitter_full.csv\", \n",
    "    nrows=1000000,\n",
    "    #nrows=10, \n",
    "    header=None, \n",
    "    names = ['u', 'v'],\n",
    "    dtype={\"u\": np.int32, \"v\":np.int32})\n"
   ]
  },
  {
   "cell_type": "markdown",
   "metadata": {},
   "source": [
    "Distribution of number of rts : power law"
   ]
  },
  {
   "cell_type": "code",
   "execution_count": 3,
   "metadata": {},
   "outputs": [
    {
     "name": "stdout",
     "output_type": "stream",
     "text": [
      "CPU times: total: 9.86 s\n",
      "Wall time: 9.85 s\n"
     ]
    }
   ],
   "source": [
    "%%time\n",
    "df_gb_User1 = df_retweets[['User1','User2']]\\\n",
    "    .groupby('User1')\\\n",
    "        .agg({'User2': [list, 'count']})\\\n",
    "            .reset_index()\n",
    "df_gb_User1.sort_values((\"User2\",'count'), ascending=False)"
   ]
  },
  {
   "cell_type": "code",
   "execution_count": 28,
   "metadata": {},
   "outputs": [
    {
     "data": {
      "image/png": "[encoded data removed]",
      "text/plain": [
       "<Figure size 432x288 with 1 Axes>"
      ]
     },
     "metadata": {
      "needs_background": "light"
     },
     "output_type": "display_data"
    }
   ],
   "source": [
    "sns.histplot(df_gb_User1[('User2','count')], log_scale=(10,10))\n",
    "plt.Line2D(xdata=[1, 1000], ydata=[5000, 0])\n",
    "\n",
    "plt.title(\"Distribution of outgoing degree in twitter_graph\")\n",
    "plt.xlabel(\"Outgoing degree\")\n",
    "plt.show()"
   ]
  },
  {
   "cell_type": "code",
   "execution_count": 7,
   "metadata": {},
   "outputs": [],
   "source": [
    "\n",
    "def export_graph_first_k_users(k):\n",
    "    \"\"\"\n",
    "    creates the graph containing all retweets of k first users (if k < 6900, the first 1M rows of df_retweets are enough)\n",
    "    and exports it in graph/firstkuser.gexf\n",
    "    \"\"\"\n",
    "    df = df_graph[df_graph['u'] < k]\n",
    "    G=nx.DiGraph()\n",
    "    for (u,v) in zip(df['u'], df['v']) :\n",
    "        G.add_edge(u,v)\n",
    "        G.nodes[u]['Role'] = 'Influencer'\n",
    "        \n",
    "    nx.write_gexf(G, f\"graphs/first{k}user.gexf\")\n",
    "#export_graph_first_k_users(100)"
   ]
  },
  {
   "cell_type": "markdown",
   "metadata": {},
   "source": [
    "Experiences on Independent Cascades"
   ]
  },
  {
   "cell_type": "code",
   "execution_count": 9,
   "metadata": {},
   "outputs": [],
   "source": [
    "nV = 30\n",
    "nT = 30\n",
    "pEdge = 0.1\n",
    "theta_ex = np.random.uniform(0,1,(nV,nT))\n",
    "mask = np.random.binomial(1,pEdge,(nV,nT))\n",
    "theta_ex = theta_ex * mask"
   ]
  },
  {
   "cell_type": "code",
   "execution_count": 10,
   "metadata": {},
   "outputs": [],
   "source": [
    "def createIndependentCascade(S, nb_cascade, theta):\n",
    "    \"\"\"creates multiple independent cascades following theta probability \n",
    "    input : \n",
    "        S seeds\n",
    "    output : \n",
    "        \"parents\" array(nb_cascade, V) representing the DAG of each cascades\n",
    "    \"\"\"\n",
    "    nb_V = theta.shape[0]\n",
    "\n",
    "    parent = np.empty(shape=(nb_cascade,nb_V))\n",
    "    parent[:] = np.nan\n",
    "    for s in S : \n",
    "        parent[:, s] = s\n",
    "\n",
    "    vertices = np.arange(0,nb_V)\n",
    "    \n",
    "    for c in range(nb_cascade):\n",
    "        \n",
    "        to_process = S.copy() #list assignments in python are only assigning pointers\n",
    "\n",
    "        while len(to_process) > 0 :\n",
    "            s = to_process.pop(0) #Queue\n",
    "            activations = np.random.uniform(high = 1, size = nb_V) < theta[s, :]\n",
    "            activated = vertices[activations]\n",
    "            \n",
    "            for v in activated :\n",
    "                if parent[c,v] != parent[c,v] :\n",
    "                    parent[c,v] = s\n",
    "                    to_process.append(v)\n",
    "\n",
    "\n",
    "    return parent\n",
    "\n",
    "parents = createIndependentCascade([0, 7], 3, theta_ex)"
   ]
  },
  {
   "cell_type": "code",
   "execution_count": 11,
   "metadata": {},
   "outputs": [
    {
     "data": {
      "application/vnd.jupyter.widget-view+json": {
       "model_id": "eec64e6b6aec4599adbc9f8845324ba5",
       "version_major": 2,
       "version_minor": 0
      },
      "image/png": "[encoded data removed]",
      "text/html": [
       "\n",
       "            <div style=\"display: inline-block;\">\n",
       "                <div class=\"jupyter-widgets widget-label\" style=\"text-align: center;\">\n",
       "                    Figure\n",
       "                </div>\n",
       "                <img src='data:image/png;base64,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' width=100.0/>\n",
       "            </div>\n",
       "        "
      ],
      "text/plain": [
       "Canvas(toolbar=Toolbar(toolitems=[('Home', 'Reset original view', 'home', 'home'), ('Back', 'Back to previous …"
      ]
     },
     "metadata": {},
     "output_type": "display_data"
    }
   ],
   "source": [
    "%matplotlib widget\n",
    "def graphCascade(parents, k) :\n",
    "    \"\"\"Returns the DAG associated with the kth line of parents\"\"\"\n",
    "    \n",
    "    nbV = parents.shape[1]\n",
    "\n",
    "    G = nx.DiGraph()\n",
    "    G.add_nodes_from(list(range(nbV)))\n",
    "\n",
    "    for i in range(nbV) :\n",
    "        if parents[k, i] == parents[k, i] : \n",
    "            G.add_edge(parents[k,i], i)\n",
    "    \n",
    "    return G\n",
    "\n",
    "def drawCascades(parents, nrows, ncols ) :\n",
    "    fig, axes = plt.subplots(nrows, ncols, figsize = (nrows, ncols))\n",
    "    color_map = np.vectorize(lambda x : 'red' if math.isnan(x) else 'green' )(parents)\n",
    "\n",
    "    G = graphCascade(parents, 0)\n",
    "    pos = nx.spring_layout(G)#graphviz_layout(G, prog=\"twopi\")\n",
    "    \n",
    "    nx.draw(G,with_labels = True, pos = pos, ax=axes[0], node_color= list(color_map[0]))\n",
    "\n",
    "    for k in range(1,parents.shape[0]):\n",
    "        \n",
    "        G = graphCascade(parents, k)\n",
    "        nx.draw(G,with_labels = True, pos = pos, ax=axes[k], node_color = list(color_map[k]))\n",
    "\n",
    "    plt.show()\n",
    "\n",
    "drawCascades(parents, 1,3)"
   ]
  },
  {
   "cell_type": "code",
   "execution_count": 6,
   "metadata": {},
   "outputs": [
    {
     "name": "stdout",
     "output_type": "stream",
     "text": [
      "CPU times: total: 0 ns\n",
      "Wall time: 0 ns\n"
     ]
    }
   ],
   "source": [
    "%%time\n",
    "\n",
    "def createStatisticsPickle() :\n",
    "    \"\"\"\n",
    "    loads the data of statistics.txt in a pandas dataframe\n",
    "    and stores it in data/statistics.pkl\n",
    "\n",
    "    Normally runs in 20s for 8M lines \n",
    "    \"\"\"\n",
    "    with open('results/statistics.txt', 'r') as file :\n",
    "\n",
    "        headers = file.readline().split()\n",
    "        d = {}\n",
    "        for header in headers :\n",
    "            d[header] = []\n",
    "        i=0\n",
    "        for line in file.readlines() :\n",
    "            if i%500000 == 0 :\n",
    "                print(f\"{i}th line. \")\n",
    "            line = line.split()\n",
    "\n",
    "            d[headers[0]].append(int(line[0]))\n",
    "            d[headers[1]].append(int(line[1]))\n",
    "            d[headers[2]].append(int(line[2]))\n",
    "            if len(line) > 3 :\n",
    "                d[headers[3]].append(line[3])\n",
    "            else : \n",
    "                d[headers[3]].append('')\n",
    "\n",
    "            i += 1\n",
    "        df_stat = pd.DataFrame(d)\n",
    "        df_stat.to_pickle(\"data/statistics.pkl\")"
   ]
  },
  {
   "cell_type": "code",
   "execution_count": 12,
   "metadata": {},
   "outputs": [],
   "source": [
    "def exports_graph_power_law() :\n",
    "    \"\"\"\n",
    "    exports a dense graph with edge weights following a power law\n",
    "    \"\"\"\n",
    "    A = np.random.uniform(0,1,(100,100))\n",
    "    weights = -np.log(A)\n",
    "\n",
    "    G = nx.DiGraph(weights)\n",
    "    nx.write_gexf(G, \"graphs/weighted_100.gexf\")\n"
   ]
  },
  {
   "cell_type": "markdown",
   "metadata": {},
   "source": [
    "Subsampling of RTs with tweets having more than n RTs"
   ]
  },
  {
   "cell_type": "code",
   "execution_count": 4,
   "metadata": {},
   "outputs": [
    {
     "name": "stdout",
     "output_type": "stream",
     "text": [
      "CPU times: total: 56.9 s\n",
      "Wall time: 57 s\n"
     ]
    }
   ],
   "source": [
    "%%time\n",
    "\"\"\"\n",
    "df_orig : Counts the number of rts each original tweet has\n",
    "\"\"\"\n",
    "df_orig = df_retweets.groupby('Orig').agg({'RT' : 'count', 'User1' : list, 'User2' : 'first'})\n",
    "df_orig = df_orig.sort_values('RT')\n"
   ]
  },
  {
   "cell_type": "code",
   "execution_count": 13,
   "metadata": {},
   "outputs": [
    {
     "name": "stdout",
     "output_type": "stream",
     "text": [
      "Summary : \n",
      " - 1000000 retweets processed \n",
      "- Concerning 846139 original tweets \n",
      "- Among which 6145 have more than 5 retweets\n",
      "- Only considering these tweets : There are 1435 influencers and 38778 targets \n",
      "- which represent 0.503069248270809% of influencers and 26.96718290367671% of targets\n"
     ]
    }
   ],
   "source": [
    "n_min_retweets = 5\n",
    "df_orig_k = df_orig[df_orig['RT']>n_min_retweets]\n",
    "\n",
    "list_target = list(set(df_orig_k.User1.sum()))\n",
    "list_infl = list(df_orig_k.User2.unique())\n",
    "\n",
    "print(f\"\"\"Summary : \\n - {df_retweets.shape[0]} retweets processed \n",
    "- Concerning {df_orig.shape[0]} original tweets \n",
    "- Among which {df_orig_k.shape[0]} have more than {n_min_retweets} retweets\n",
    "- Only considering these tweets : There are {len(list_infl)} influencers and {len(list_target)} targets \n",
    "- which represent {len(list_infl) / len(list(df_retweets.User2.unique())) * 100}% of influencers and {len(list_target) / len(list(df_retweets.User1.unique())) * 100}% of targets\"\"\")"
   ]
  },
  {
   "cell_type": "code",
   "execution_count": 14,
   "metadata": {},
   "outputs": [
    {
     "name": "stdout",
     "output_type": "stream",
     "text": [
      "df_retweets_filtered : contains only the retweets with original tweet having more than n rts, the number of rt it has, the list of the rts it provoqued\n"
     ]
    }
   ],
   "source": [
    "df_retweets_filtered = df_retweets.merge(df_orig_k, on=['Orig', 'User2'], how='inner')\n",
    "df_retweets_filtered.drop(columns=['User1_y'], inplace = True, ) # access this info in df_orig_k\n",
    "df_retweets_filtered.columns = ['RT', 'Date','User1','User2','Orig', 'nRtOrig']\n",
    "\n",
    "df_User12 = df_retweets_filtered.groupby(['User1','User2']).agg({'RT': 'count'}).reset_index()\n",
    "df_User12.columns = ['User1','User2','weightEdge']\n",
    "\n",
    "df_retweets_filtered = df_retweets_filtered.merge(df_User12, on = ['User1','User2'])\n",
    "\n",
    "print(\"df_retweets_filtered : contains only the retweets with original tweet having more than n rts, the number of rt it has, the list of the rts it provoqued\")\n",
    "df_retweets_filtered\n",
    "#df_retweets_filtered.to_pickle(\"data/df_retweets_filtered.pkl\")\n"
   ]
  },
  {
   "cell_type": "code",
   "execution_count": 77,
   "metadata": {},
   "outputs": [],
   "source": [
    "def export_filtered() :\n",
    "    \n",
    "    \"\"\"\n",
    "    Export the weighted graph of users with edge weight = nb of User1's retweets of tweets of user 2\n",
    "    only considers tweets with more than n_min_retweets rts\n",
    "    \"\"\"\n",
    "\n",
    "    G = nx.DiGraph()\n",
    "    G.add_weighted_edges_from(zip(df_User12['User1'], df_User12['User2'], df_User12['weightEdge']))\n",
    "    nx.write_gexf(G, f\"graphs/ssRT{n_min_retweets}.gexf\")\n",
    "\n",
    "#export_filtered()\n"
   ]
  },
  {
   "cell_type": "code",
   "execution_count": null,
   "metadata": {},
   "outputs": [],
   "source": []
  }
 ],
 "metadata": {
  "file_extension": ".py",
  "kernelspec": {
   "display_name": "Python 3 (ipykernel)",
   "name": "python3"
  },
  "language_info": {
   "codemirror_mode": {
    "name": "ipython",
    "version": 3
   },
   "file_extension": ".py",
   "mimetype": "text/x-python",
   "name": "python",
   "nbconvert_exporter": "python",
   "pygments_lexer": "ipython3",
   "version": "3.8.12"
  },
  "mimetype": "text/x-python",
  "name": "python",
  "npconvert_exporter": "python",
  "orig_nbformat": 2,
  "pygments_lexer": "ipython3",
  "version": 3
 },
 "nbformat": 4,
 "nbformat_minor": 2
}
