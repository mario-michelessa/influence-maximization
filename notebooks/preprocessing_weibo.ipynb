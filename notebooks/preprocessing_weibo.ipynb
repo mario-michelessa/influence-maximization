{
 "cells": [
  {
   "cell_type": "markdown",
   "metadata": {},
   "source": [
    "Import"
   ]
  },
  {
   "cell_type": "code",
   "execution_count": 1,
   "metadata": {},
   "outputs": [],
   "source": [
    "import numpy as np\n",
    "import pandas as pd\n",
    "import seaborn as sns\n",
    "import matplotlib.pyplot as plt \n",
    "from collections import defaultdict\n",
    "\n",
    "import warnings\n",
    "warnings.filterwarnings('ignore')"
   ]
  },
  {
   "cell_type": "markdown",
   "metadata": {},
   "source": [
    "Path"
   ]
  },
  {
   "cell_type": "code",
   "execution_count": 2,
   "metadata": {},
   "outputs": [],
   "source": [
    "output_folder = \"data/weibo_preprocessed/\""
   ]
  },
  {
   "cell_type": "markdown",
   "metadata": {},
   "source": [
    "uidlist.txt, repost_idlist.txt"
   ]
  },
  {
   "cell_type": "code",
   "execution_count": 3,
   "metadata": {},
   "outputs": [
    {
     "name": "stdout",
     "output_type": "stream",
     "text": [
      "u_to_userids : \n",
      "|   uid |   userid |\n",
      "|------:|---------:|\n",
      "|     0 |    10029 |\n",
      "|     1 |    10057 |\n",
      "shape : (1787443, 1)\n",
      "\n",
      "cascade_to_mids : \n",
      "|   cascade |         mid |\n",
      "|----------:|------------:|\n",
      "|         0 | 3.50952e+15 |\n",
      "|         1 | 3.49137e+15 |\n",
      "shape : (300000, 1)\n",
      "\n"
     ]
    }
   ],
   "source": [
    "u_to_userids = pd.read_csv(\"data/weibo/weibodata/diffusion/uidlist.txt\",header=None)\n",
    "u_to_userids.columns = ['userid']\n",
    "u_to_userids.index.name = 'uid'\n",
    "\n",
    "cascade_to_mids = pd.read_csv(\"data/weibo/weibodata/diffusion/repost_idlist.txt\", header=None,)\n",
    "cascade_to_mids.columns = ['mid']\n",
    "cascade_to_mids.index.name = 'cascade'\n",
    "cascade_to_mids.mid = cascade_to_mids.mid.astype(np.int64)\n",
    "\n",
    "print(\"u_to_userids : \\n\" + u_to_userids.head(2).to_markdown())\n",
    "print(f\"shape : {u_to_userids.shape}\\n\")\n",
    "print(\"cascade_to_mids : \\n\" + cascade_to_mids.head(2).to_markdown())\n",
    "print(f\"shape : {cascade_to_mids.shape}\\n\")"
   ]
  },
  {
   "cell_type": "markdown",
   "metadata": {},
   "source": [
    "userProfile"
   ]
  },
  {
   "cell_type": "markdown",
   "metadata": {},
   "source": [
    "Extract : \n",
    "\n",
    "     id\n",
    "     bi_followers_count\n",
    "     city\n",
    "     verified\n",
    "     followers_count\n",
    "     location\n",
    "     province\n",
    "     friends_count\n",
    "     name\n",
    "     gender\n",
    "     created_at\n",
    "     verified_type\n",
    "     statuses_count\n",
    "     description\n",
    "    \n",
    "     1657151084\n",
    "     0\n",
    "     5\n",
    "     False\n",
    "     33\n",
    "     �Ϻ� ������\n",
    "     31\n",
    "     162\n",
    "     JACKJONES\n",
    "     m\n",
    "     2009-10-29-22:20:41\n",
    "     -1\n",
    "     0"
   ]
  },
  {
   "cell_type": "code",
   "execution_count": 4,
   "metadata": {},
   "outputs": [
    {
     "name": "stdout",
     "output_type": "stream",
     "text": [
      "\n",
      "user_profile : \n",
      "uid                      int64\n",
      "bi_followers_count       int32\n",
      "city                  category\n",
      "verified              category\n",
      "followers_count          int32\n",
      "location                object\n",
      "province              category\n",
      "friends_count            int32\n",
      "name                    object\n",
      "gender                category\n",
      "created_at              object\n",
      "verified_type         category\n",
      "statuses_count           int32\n",
      "description             object\n",
      "dtype: object\n",
      "shape : (1681085, 14)\n",
      "\n"
     ]
    }
   ],
   "source": [
    "\"\"\"\n",
    "creates the dataframe of user data and saves it in userProfile.pkl\n",
    "\"\"\"\n",
    "def convert_userProfile(save) : \n",
    "    \n",
    "    df = [[] for _ in range(15)]\n",
    "    with open(\"data/weibo/weibodata/userProfile/user_profile1.txt\", mode='r', encoding='gbk') as file : \n",
    "        c = 0\n",
    "        for line in file : \n",
    "            if c >= 15 : #not adding the first 15 lines : headers\n",
    "                df[c%15].append(line.replace('\\n',''))\n",
    "            c += 1\n",
    "    \n",
    "    with open(\"data/weibo/weibodata/userProfile/user_profile2.txt\", mode='r', encoding='gbk') as file : \n",
    "        c = 0\n",
    "        for line in file : \n",
    "            if c >= 15 :\n",
    "                df[c%15].append(line.replace('\\n',''))\n",
    "            c += 1\n",
    "    d = {}\n",
    "    for i in range(14) :\n",
    "        d[i] = df[i]\n",
    "    df = pd.DataFrame.from_dict(d, orient='columns')\n",
    "    df.columns = ['uid', 'bi_followers_count', 'city', \n",
    "                 'verified', 'followers_count', 'location', \n",
    "                 'province', 'friends_count', 'name', \n",
    "                 'gender', 'created_at', 'verified_type', \n",
    "                 'statuses_count', 'description']\n",
    "    df = df.astype({    'uid':np.int64, \n",
    "                        'bi_followers_count':np.int32, \n",
    "                        'city':'category', \n",
    "                        'verified':'category', \n",
    "                        'followers_count':np.int32, \n",
    "                        'province':'category', \n",
    "                        'friends_count':np.int32, \n",
    "                        'gender':'category', \n",
    "                        'verified_type':'category', \n",
    "                        'statuses_count': np.int32})\n",
    "    print(f\"\\nuser_profile : \\n{df.dtypes}\")\n",
    "    print(f\"shape : {df.shape}\\n\")\n",
    "    \n",
    "    if save : \n",
    "        df.to_pickle(output_folder + \"userProfile.pkl\")\n",
    "    return df\n",
    "    \n",
    "df = convert_userProfile(True)\n",
    "\n",
    "#user_profile = pd.read_pickle(output_folder + \"userProfile.pkl\")"
   ]
  },
  {
   "cell_type": "markdown",
   "metadata": {},
   "source": [
    "### total.txt"
   ]
  },
  {
   "cell_type": "markdown",
   "metadata": {},
   "source": [
    "extract : \n",
    "\n",
    "    3479380645050771 2012-08-15-20:07:32 1500872 3\n",
    "    1500872 2012-08-15-20:41:02 1500872 2012-08-15-20:41:20\n",
    "    3464585309142627 2012-07-06-00:16:10 153602 595\n",
    "    1598909 2012-07-06-00:17:29 1727898 2012-07-06-00:24:20 1460582 2012-07-06-00:25:07"
   ]
  },
  {
   "cell_type": "markdown",
   "metadata": {},
   "source": [
    "create infos_cascades/user_cascades"
   ]
  },
  {
   "cell_type": "code",
   "execution_count": 4,
   "metadata": {},
   "outputs": [],
   "source": [
    "def extract_info_cascades(save = False) :\n",
    "    \"\"\"\n",
    "    creates 2 files with information about all the cascades : \n",
    "        - infos_cascades : \n",
    "            i:n_cascades - mid(int64) - date(pd.DateTime) - u(int32) - n_likes(int32) - n_reposts(int32) - users2(list(int32))\n",
    "        - user_cascades : \n",
    "            i:v(int32) - mids(list(int64)) - Av(int32)\n",
    "\n",
    "    \"\"\"\n",
    "\n",
    "    d_user_cascade = defaultdict(lambda : [[]]) # d_user_cascade[userid] = list of cascades in which user appears\n",
    "    infos_cascades = []\n",
    "\n",
    "    with open(\"data/weibo/weibodata/total.txt\", 'r') as file :\n",
    "        count_line = 0 \n",
    "        mid_cascade = None\n",
    "\n",
    "        for line in file:\n",
    "        \n",
    "            if count_line % 60000 == 0 : print(f\"{count_line//2000}K cascades processed\")\n",
    "        \n",
    "            if count_line%2 == 0 : #mid - date - user1 - #likes\n",
    "                mid_cascade = np.int64(line.replace('\\n', '').split()[0])\n",
    "                infos_cascades.append(line.replace('\\n', '').split())\n",
    "        \n",
    "            else : # (uid timestamp )*\n",
    "                curr_cascade = line.replace('\\n', '').split()\n",
    "                users2 = []\n",
    "                for i in range(0, len(curr_cascade), 2) :\n",
    "                    u = np.int32(curr_cascade[i])\n",
    "                    d_user_cascade[u][0].append(mid_cascade)\n",
    "                    users2.append(u)\n",
    "                    \n",
    "                infos_cascades[-1].append(len(curr_cascade)//2) #adds the number of reposts\n",
    "                infos_cascades[-1].append(users2) \n",
    "                \n",
    "            count_line+= 1\n",
    "    print(f\"{count_line//2000}K cascades processed\")\n",
    "    user_cascades = pd.DataFrame.from_dict(d_user_cascade, orient='index', columns = ['mids'])\n",
    "    user_cascades['#cascades'] = user_cascades.mids.apply(len)\n",
    "    \n",
    "    print(f\"\\nuser_cascades : \\n{user_cascades.dtypes}\")\n",
    "    print(f\"shape : {user_cascades.shape}\\n\")\n",
    "    \n",
    "    infos_cascades = pd.DataFrame(infos_cascades, columns = ['mid', 'date', 'User1', '#likes', '#reposts', 'users2'],)\n",
    "    infos_cascades = infos_cascades.astype(dtype={'mid' : np.int64, 'User1' : np.int32, '#likes' : np.int32, '#reposts' : np.int32})\n",
    "    infos_cascades['date'] = pd.to_datetime(infos_cascades.date)\n",
    "\n",
    "    print(f\"\\ninfos_cascades : \\n{infos_cascades.dtypes}\" )\n",
    "    print(f\"shape : {infos_cascades.shape}\\n\")\n",
    "\n",
    "    if save:\n",
    "        user_cascades.to_pickle(output_folder + \"user_cascades.pkl\")\n",
    "        infos_cascades.to_pickle(output_folder + \"infos_cascades.pkl\")\n",
    "\n",
    "    return user_cascades, infos_cascades\n",
    "\n",
    "#user_cascades, infos_cascades = extract_info_cascades(True)\n",
    "\n",
    "user_cascades = pd.read_pickle(output_folder + \"user_cascades.pkl\")\n",
    "infos_cascades = pd.read_pickle(output_folder + \"infos_cascades.pkl\")\n"
   ]
  },
  {
   "cell_type": "markdown",
   "metadata": {},
   "source": [
    "subsampling 1  "
   ]
  },
  {
   "cell_type": "code",
   "execution_count": 6,
   "metadata": {},
   "outputs": [],
   "source": [
    "def subsampling_1(n_cascades, n_influences_max):\n",
    "    \"\"\"\n",
    "    Only extracts the n_cascades first cascades and only the n_influences_max first reposts of each cascade\n",
    "    \n",
    "    \"\"\"\n",
    "    edges = pd.DataFrame.copy(infos_cascades.iloc[:n_cascades][['User1','users2']])\n",
    "    edges.users2 = edges.users2.apply(lambda x : x[:n_influences_max])\n",
    "    edges = edges.explode('users2')\n",
    "    edges.columns = ['u','v']\n",
    "\n",
    "    Au = edges.groupby('u').count().v\n",
    "    Au.name = 'Au'\n",
    "    Av = edges.groupby('v').count().u\n",
    "    Av.name = 'Av'\n",
    "    edges = edges.merge(Au, on='u')\n",
    "    edges = edges.merge(Av, on='v')\n",
    "\n",
    "    Au2v = edges.groupby(['u', 'v']).count().Au.reset_index()\n",
    "    edges = edges.merge(Au2v, on=['u','v'])\n",
    "    \n",
    "    edges.columns = ['u', 'v', 'Au', 'Av', 'Au2v']\n",
    "    return edges\n"
   ]
  },
  {
   "cell_type": "markdown",
   "metadata": {},
   "source": [
    "subsampling 2 "
   ]
  },
  {
   "cell_type": "code",
   "execution_count": 7,
   "metadata": {},
   "outputs": [],
   "source": [
    "def subsampling_2(n_cascades_max, n_min_reposts) : \n",
    "    \"\"\"\n",
    "    Only selects edges between influencers and targets having more than n_min_reposts globally\n",
    "    \"\"\"\n",
    "    targets = list(user_cascades[user_cascades['#cascades'] > n_min_reposts].index)\n",
    "    d_targets = defaultdict(lambda : False)\n",
    "    for t in targets : \n",
    "        d_targets[t] = True\n",
    "\n",
    "    edges = pd.DataFrame.copy(infos_cascades.iloc[:n_cascades_max][['User1','users2']])\n",
    "    edges.users2 = edges.users2.apply(lambda vs : [v for v in vs if d_targets[v]])\n",
    "    \n",
    "    edges = edges.explode('users2')\n",
    "    edges.columns = ['u','v']\n",
    "\n",
    "    Au = edges.groupby('u').count().v\n",
    "    Au.name = 'Au'\n",
    "    Av = edges.groupby('v').count().u\n",
    "    Av.name = 'Av'\n",
    "\n",
    "    edges = edges.merge(Au, on='u')\n",
    "    edges = edges.merge(Av, on='v')\n",
    "\n",
    "    Au2v = edges.groupby(['u', 'v']).count().Au.reset_index()\n",
    "    edges = edges.merge(Au2v, on=['u','v'])\n",
    "    \n",
    "    edges.columns = ['u', 'v', 'Au', 'Av', 'Au2v']\n",
    "    edges = edges.drop_duplicates()\n",
    "\n",
    "    return edges\n"
   ]
  },
  {
   "cell_type": "markdown",
   "metadata": {},
   "source": [
    "subsampling 3 "
   ]
  },
  {
   "cell_type": "code",
   "execution_count": 8,
   "metadata": {},
   "outputs": [],
   "source": [
    "def subsampling_3():\n",
    "    \"\"\"\n",
    "    Selects randomly X targets from the cascade, with higher chance for short reaction time (tu-tv)^-1/sum(tu-tv)^-1\n",
    "    \"\"\""
   ]
  },
  {
   "cell_type": "markdown",
   "metadata": {},
   "source": [
    "DP estimations"
   ]
  },
  {
   "cell_type": "code",
   "execution_count": 9,
   "metadata": {},
   "outputs": [],
   "source": [
    "def estimate_probabilities(edges, save=False, file_name=\"\") : \n",
    "    \"\"\"\n",
    "    input : edges dataframe \n",
    "    \"\"\"\n",
    "    edges['BT'] = edges['Au2v'] / edges['Au']\n",
    "    edges['JI'] = edges['Au2v'] / (edges['Au'] + edges['Av'])\n",
    "    edges['LP'] = edges['Au2v'] / edges['Av']\n",
    "\n",
    "    edges = edges.merge(u_to_userids, left_on='u', right_on = 'uid',)\n",
    "    edges = edges.merge(u_to_userids, left_on='v', right_on = 'uid',)\n",
    "    edges['u'] = edges['userid_x']\n",
    "    edges['v'] = edges['userid_y']\n",
    "\n",
    "\n",
    "    edges = edges[['u', 'v', 'BT', 'JI', 'LP']]\n",
    "    edges = edges.drop_duplicates()\n",
    "    print(\"edges_probabilities : \\n\" + edges.head(5).to_markdown())\n",
    "    print(f\"shape : {edges.shape}\\n\")\n",
    "\n",
    "    if save :\n",
    "        print(\"Saved \" + file_name)\n",
    "        pd.to_pickle(edges, output_folder+file_name)\n",
    "    \n",
    "    return edges\n"
   ]
  },
  {
   "cell_type": "code",
   "execution_count": 22,
   "metadata": {},
   "outputs": [
    {
     "name": "stdout",
     "output_type": "stream",
     "text": [
      "(39529, 5) 3156 36410\n",
      "edges_probabilities : \n",
      "|    |           u |           v |        BT |        JI |   LP |\n",
      "|---:|------------:|------------:|----------:|----------:|-----:|\n",
      "|  0 | 1.67892e+09 | 1.67892e+09 | 1         | 0.5       |  1   |\n",
      "|  3 | 2.30505e+09 | 1.8462e+09  | 0.025     | 0.0238095 |  0.5 |\n",
      "|  4 | 1.8938e+09  | 1.8462e+09  | 0.0196078 | 0.0188679 |  0.5 |\n",
      "|  5 | 2.30505e+09 | 2.17002e+09 | 0.025     | 0.0243902 |  1   |\n",
      "|  6 | 2.30505e+09 | 1.4391e+09  | 0.025     | 0.0243902 |  1   |\n",
      "shape : (37918, 5)\n",
      "\n",
      "Saved labels1_5K_10.pkl\n"
     ]
    }
   ],
   "source": [
    "n = 100\n",
    "\n",
    "# edges = subsampling_2(-1, n)\n",
    "edges = subsampling_1(5000, 10)\n",
    "i = len(edges.groupby('u').count().index)\n",
    "t = len(edges.groupby('v').count().index)\n",
    "print(edges.shape, i, t)\n",
    "labels = estimate_probabilities(edges, True, f\"labels1_5K_10.pkl\")"
   ]
  },
  {
   "cell_type": "markdown",
   "metadata": {},
   "source": [
    "\n",
    "- 100 | (1839405, 5) 27626 22297\n",
    "- 150 | (380010, 5) 14280 3998\n",
    "- 200 | (111575, 5) 8000 1161"
   ]
  },
  {
   "cell_type": "markdown",
   "metadata": {},
   "source": [
    "### doc.txt"
   ]
  },
  {
   "cell_type": "markdown",
   "metadata": {},
   "source": [
    "Extract : \n",
    "\n",
    "    #doc name topic proportion ...\n",
    "    0\t3515638699605834\t70\t0.025423728813559324\t52\t0.025423728813559324 ...\n",
    "    1\t3421815211220296\t7\t0.0873015873015873\t84\t0.03968253968253968\t87\t ... "
   ]
  },
  {
   "cell_type": "markdown",
   "metadata": {},
   "source": [
    "create topic.pkl"
   ]
  },
  {
   "cell_type": "code",
   "execution_count": 6,
   "metadata": {},
   "outputs": [],
   "source": [
    "def create_topic_file(save=False):\n",
    "    \n",
    "    d = {'mid' : []}\n",
    "    for i in range(100) :\n",
    "        d[i] = []\n",
    "\n",
    "    with open('data/weibo/weibodata/topic-100/doc', 'r') as file : \n",
    "        i = 0\n",
    "        for line in file :\n",
    "            line = line.split('\\t')\n",
    "            if len(line) < 2 : continue\n",
    "            \n",
    "            d['mid'].append(np.int64(line[1]))\n",
    "            for t in range(100) :\n",
    "                d[int(line[2*t+2])].append(float(line[2*t+3]))\n",
    "\n",
    "            i += 1\n",
    "        df_topic = pd.DataFrame.from_dict(d)\n",
    "        df_topic.index = df_topic.mid\n",
    "        df_topic = df_topic.drop(columns='mid')\n",
    "        del(d)\n",
    "    \n",
    "    print(\"df_topics : \\n\")\n",
    "    print(f\"shape : {df_topic.shape}\\n\")\n",
    "    \n",
    "    if save : \n",
    "        df_topic.to_pickle(output_folder + \"topic.pkl\")       \n",
    "    return df_topic\n",
    "\n",
    "#df_topic = create_topic_file(True)\n",
    "df_topic = pd.read_pickle(output_folder + \"topic.pkl\")"
   ]
  },
  {
   "cell_type": "markdown",
   "metadata": {},
   "source": [
    "Clustering  new topics"
   ]
  },
  {
   "cell_type": "code",
   "execution_count": 7,
   "metadata": {},
   "outputs": [],
   "source": [
    "import scipy.cluster.hierarchy as spc\n",
    "N_TOPICS = 8\n",
    "\n",
    "def convert_new_topic(df_topic, save=False) : \n",
    "    \"\"\"\n",
    "    input : df_topic \n",
    "    output : df with N_TOPICS columns \n",
    "    \"\"\"\n",
    "    df_topic_sample = df_topic.sample(n = 10000)\n",
    "    corr = df_topic_sample.corr().values\n",
    "\n",
    "    pdist = spc.distance.pdist(corr, metric='euclidean')\n",
    "    linkage = spc.linkage(pdist, method='complete')\n",
    "    idx = spc.fcluster(linkage, N_TOPICS, 'maxclust')\n",
    "\n",
    "    df_new = pd.DataFrame(np.zeros((df_topic.shape[0], N_TOPICS)), columns=[str(k) for k in range(N_TOPICS)])\n",
    "    df_new.index = df_topic.index\n",
    "    for i in range(100) : \n",
    "        new_i = idx[i] -1\n",
    "        df_new[str(new_i)] += df_topic[i]\n",
    "    \n",
    "    if save : \n",
    "        df_new.to_pickle(output_folder + f\"topics_{N_TOPICS}.pkl\")\n",
    "    return df_new\n",
    "\n",
    "def convert_new_topic2(df_topic, save=False):\n",
    "    LOW = [0, 49, 26, 13, 47, 73, 97, 80, 66, 55, 17, 68, 58, 59, 8, 92, 65, 15, 70, 61]\n",
    "    MID = [45, 54, 85, 24, 96, 22, 32, 40, 77, 4, 74, 67, 41, 79, 71, 60, 95, 28, 38, 33, 20, 81, 63, 46, 27, 52, 34, 94, 18, 16, 53, 9, 10, 50, 91, 89, 48, 25, 19, 43, 93, 82, 83, 31, 30, 56, 69, 29, 88, 1, 84, 51, 12, 11, 62, 57, 3, 37, 78, 76]\n",
    "    HIGH = [86, 64, 98, 35, 23, 72, 44, 21, 75, 90, 5, 87, 6, 2, 39, 14, 7, 99, 42, 36]\n",
    "    df_new = pd.DataFrame(np.zeros((df_topic.shape[0], 3)), columns=['LowT', 'MidT', 'HighT'])\n",
    "    df_new.index = df_topic.index\n",
    "    for i in range(100) : \n",
    "        if i in LOW : \n",
    "            df_new['LowT'] += df_topic[i]\n",
    "        elif i in MID :\n",
    "            df_new['MidT'] += df_topic[i]\n",
    "        elif i in HIGH : \n",
    "            df_new['HighT'] += df_topic[i]\n",
    "    if save : \n",
    "        df_new.to_pickle(output_folder + f\"topics_infl.pkl\")\n",
    "    return df_new\n",
    "\n",
    "df_new_topic = convert_new_topic2(df_topic, True)\n",
    "#df_new_topic = pd.read_pickle(output_folder + f\"topics_{N_TOPICS}.pkl\")\n"
   ]
  },
  {
   "cell_type": "markdown",
   "metadata": {},
   "source": [
    "Estimating the average topic representation of a list of mids"
   ]
  },
  {
   "cell_type": "code",
   "execution_count": 8,
   "metadata": {},
   "outputs": [],
   "source": [
    "N_TOPICS = 3\n",
    "\n",
    "d_new_topic = defaultdict(lambda : 1/N_TOPICS * np.ones(N_TOPICS))\n",
    "for mid in df_new_topic.index : \n",
    "    d_new_topic[mid] = np.array(df_new_topic.loc[mid])\n",
    "\n",
    "def create_topic_vector(mids) :\n",
    "    \"\"\"\n",
    "    given a list of mids, estimates the average topic representation \n",
    "    \"\"\"\n",
    "    n = len(mids)\n",
    "    s = np.zeros((3,))\n",
    "    for mid in mids :\n",
    "        s += np.array(d_new_topic[mid])\n",
    "    return 1/n * s\n"
   ]
  },
  {
   "cell_type": "markdown",
   "metadata": {},
   "source": [
    "Create topic per target"
   ]
  },
  {
   "cell_type": "code",
   "execution_count": 21,
   "metadata": {},
   "outputs": [
    {
     "name": "stdout",
     "output_type": "stream",
     "text": [
      "infos_targets : \n",
      "|     userid |        0 |        1 |        2 |\n",
      "|-----------:|---------:|---------:|---------:|\n",
      "| 1678921627 | 0.199416 | 0.569909 | 0.230674 |\n",
      "| 1846200282 | 0.177129 | 0.59947  | 0.223402 |\n",
      "shape : (1334887, 3)\n",
      "\n",
      "Saving...\n"
     ]
    }
   ],
   "source": [
    "\n",
    "def create_topic_per_target(save=False):\n",
    "    \"\"\"\n",
    "    creates a df linking the uids of targets to the average topic representation of the reposted posts\n",
    "    input : user_cascades\n",
    "    \"\"\"\n",
    "    infos_targets = pd.DataFrame.copy(user_cascades[['mids']])\n",
    "    infos_targets = infos_targets.merge(u_to_userids, left_on=infos_targets.index, right_on=u_to_userids.index)[['mids','userid']]\n",
    "    \n",
    "    \n",
    "    # topics_users = infos_targets.mids.apply(create_topic_vector)\n",
    "    # topics_users = pd.DataFrame(topics_users.to_list(), index = topics_users.index,)\n",
    "    # topics_users.to_pickle(output_folder + \"backup_topics_users_3.pkl\")\n",
    "    topics_users = pd.read_pickle(output_folder + \"backup_topics_users.pkl\")\n",
    "    \n",
    "    infos_targets = pd.concat([infos_targets, topics_users], axis=1)\n",
    "    infos_targets = infos_targets.drop(columns=\"mids\")\n",
    "    infos_targets = infos_targets.set_index('userid')\n",
    "\n",
    "    print(\"infos_targets : \\n\" + infos_targets.head(2).to_markdown())\n",
    "    print(f\"shape : {infos_targets.shape}\\n\")\n",
    "\n",
    "    if save :\n",
    "        print('Saving...')\n",
    "        infos_targets.to_pickle(output_folder + \"infos_targets_3.pkl\")\n",
    "\n",
    "    return infos_targets\n",
    "\n",
    "infos_targets = create_topic_per_target(True)"
   ]
  },
  {
   "cell_type": "markdown",
   "metadata": {},
   "source": [
    "Create topic per influencer"
   ]
  },
  {
   "cell_type": "code",
   "execution_count": 10,
   "metadata": {},
   "outputs": [
    {
     "name": "stdout",
     "output_type": "stream",
     "text": [
      "infos_influencers : \n",
      "|   userid |   total_likes |   total_reposts |   n_cascades |        0 |        1 |        2 |\n",
      "|---------:|--------------:|----------------:|-------------:|---------:|---------:|---------:|\n",
      "|    10029 |            10 |               5 |            1 | 0.222222 | 0.619048 | 0.15873  |\n",
      "|    10111 |             2 |               1 |            1 | 0.183333 | 0.633333 | 0.183333 |\n",
      "shape : (47555, 6)\n",
      "\n",
      "Saving...\n"
     ]
    }
   ],
   "source": [
    "def create_topic_per_influencer(save=False):\n",
    "    \"\"\"\n",
    "    creates a df linking the uids of influencers to the average topic representation of the created posts\n",
    "    \"\"\"\n",
    "    infos_influencers = infos_cascades.groupby('User1').agg({'mid' : list, \n",
    "                                                            '#likes' : 'sum', \n",
    "                                                            '#reposts' : 'sum', \n",
    "                                                            'users2' : 'count'})\n",
    "    infos_influencers = infos_influencers.merge(u_to_userids, left_on = infos_influencers.index, right_on=u_to_userids.index)\n",
    "    infos_influencers = infos_influencers.drop(columns='key_0')\n",
    "    infos_influencers = infos_influencers.set_index('userid')\n",
    "    infos_influencers.columns = ['mids','total_likes', 'total_reposts', 'n_cascades']\n",
    "\n",
    "    df2 = infos_influencers.mids.apply(create_topic_vector) \n",
    "    df2 = pd.DataFrame(df2.to_list(), index = df2.index,)\n",
    "    \n",
    "    infos_influencers = pd.concat([infos_influencers, df2], axis=1)\n",
    "    infos_influencers = infos_influencers.drop(columns=\"mids\")\n",
    "\n",
    "    print(\"infos_influencers : \\n\" + infos_influencers.head(2).to_markdown())\n",
    "    print(f\"shape : {infos_influencers.shape}\\n\")\n",
    "\n",
    "    if save :\n",
    "        print(\"Saving...\")\n",
    "        infos_influencers.to_pickle(output_folder + \"infos_influencers_3.pkl\")\n",
    "\n",
    "    return infos_influencers\n",
    "\n",
    "infos_influencers = create_topic_per_influencer(True)"
   ]
  },
  {
   "cell_type": "markdown",
   "metadata": {},
   "source": [
    "### graph_170w_1month.txt"
   ]
  },
  {
   "cell_type": "markdown",
   "metadata": {},
   "source": [
    "Extract : \n",
    "\n",
    "    0 1 1\n",
    "    0 2 1\n",
    "    0 15 1\n",
    "    ...\n",
    "    1 5 1\n",
    "    1 14 12"
   ]
  },
  {
   "cell_type": "code",
   "execution_count": 23,
   "metadata": {},
   "outputs": [
    {
     "name": "stdout",
     "output_type": "stream",
     "text": [
      "I = 3156, T = 36410\n",
      "users_topology : must be <1.8M \n",
      " [1785013, 1785560, 1785599, 1786130, 1786162, 1786321, 1786597, 1786755, 1786763, 1786764] ...\n",
      "length : 39098\n",
      "\n"
     ]
    }
   ],
   "source": [
    "influencers = list(edges.groupby('u').count().index) #with uid\n",
    "targets = list(edges.groupby('v').count().index)\n",
    "\n",
    "users_topology = list(set(influencers + targets))\n",
    "users_topology = sorted(users_topology)\n",
    "\n",
    "print(f\"I = {len(influencers)}, T = {len(targets)}\")\n",
    "print(f\"users_topology : must be <1.8M \\n {users_topology[-10:]} ...\" )\n",
    "print(f\"length : {len(users_topology)}\\n\")"
   ]
  },
  {
   "cell_type": "markdown",
   "metadata": {},
   "source": [
    "Creates edges"
   ]
  },
  {
   "cell_type": "code",
   "execution_count": 24,
   "metadata": {},
   "outputs": [
    {
     "name": "stdout",
     "output_type": "stream",
     "text": [
      "17M lines processed : 132899 edges added\n",
      "34M lines processed : 237261 edges added\n",
      "51M lines processed : 280877 edges added\n",
      "68M lines processed : 394408 edges added\n",
      "85M lines processed : 513114 edges added\n",
      "102M lines processed : 602082 edges added\n",
      "119M lines processed : 724361 edges added\n",
      "136M lines processed : 837217 edges added\n",
      "153M lines processed : 956586 edges added\n",
      "170M lines processed : 1039668 edges added\n",
      "187M lines processed : 1097541 edges added\n",
      "204M lines processed : 1193765 edges added\n",
      "221M lines processed : 1307547 edges added\n",
      "238M lines processed : 1442467 edges added\n",
      "255M lines processed : 1550755 edges added\n",
      "272M lines processed : 1625779 edges added\n",
      "289M lines processed : 1682062 edges added\n",
      "306M lines processed : 1794122 edges added\n",
      "323M lines processed : 1870592 edges added\n",
      "340M lines processed : 1910907 edges added\n",
      "357M lines processed : 1994332 edges added\n",
      "374M lines processed : 2123575 edges added\n",
      "391M lines processed : 2225076 edges added\n",
      "408M lines processed : 2297879 edges added\n",
      "Saved edges1_5K_10.pkl\n"
     ]
    }
   ],
   "source": [
    "def create_edges(users_topology) : \n",
    "    \"\"\"\n",
    "    Creates weibo/edges_NB_CASCADES.pkl ---> |id|u|v|\n",
    "    2.4M edges for 1000 cascades\n",
    "    Takes 4min to extract\n",
    "    \"\"\"\n",
    "    \n",
    "    #Speeds up operation (v in users)\n",
    "    d_users = defaultdict(lambda : False)\n",
    "    for user in users_topology:\n",
    "        d_users[int(user)] = True\n",
    "\n",
    "    edges_topology = []                 \n",
    "\n",
    "    with open(\"data/weibo/weibodata/graph_170w_1month.txt\", 'r') as file :\n",
    "        \n",
    "        u_previous = -1\n",
    "        u_in_table = False\n",
    "\n",
    "        n_lines = 0\n",
    "        \n",
    "        for line in file :\n",
    "            \n",
    "            n_lines += 1\n",
    "            if n_lines % 17000000 == 0 :\n",
    "                print(f\"{n_lines//1000000}M lines processed : {len(edges_topology)} edges added\")\n",
    "\n",
    "            line = line.split(' ')\n",
    "            if len(line) >= 2 :\n",
    "                u,v = int(line[0]), int(line[1])\n",
    "\n",
    "                if u != u_previous : \n",
    "                    u_previous = u\n",
    "                    u_in_table = (d_users[u])\n",
    "\n",
    "                if u_in_table: \n",
    "                    if d_users[v] : \n",
    "                        edges_topology.append((u,v))\n",
    "             \n",
    "    return edges_topology\n",
    "\n",
    "def process_edges(edges_topology, save = False, file_name = \"\"):\n",
    "    \"\"\"\n",
    "    replaces user id with the real ones \n",
    "    \"\"\"\n",
    "    df_edges = pd.DataFrame(edges_topology, columns=['u','v'])\n",
    "    df_edges = df_edges.merge(u_to_userids, how='inner', left_on='u', right_on='uid')\\\n",
    "                        .merge(u_to_userids, how='inner', left_on='v', right_on='uid')\\\n",
    "                        .drop(columns = ['u','v'])\n",
    "    df_edges = df_edges.rename(columns = { 'userid_y' : 'u', 'userid_x' : 'v'})\n",
    "    \n",
    "    if save :\n",
    "        print(f\"Saved {file_name}\")\n",
    "        df_edges.to_pickle(output_folder + file_name)\n",
    "    \n",
    "    return df_edges\n",
    "\n",
    "edges_topology = create_edges(users_topology)\n",
    "df_edges = process_edges(edges_topology, True, f\"edges1_5K_10.pkl\")"
   ]
  },
  {
   "cell_type": "markdown",
   "metadata": {},
   "source": [
    "### IMINFECTOR embeddings"
   ]
  },
  {
   "cell_type": "markdown",
   "metadata": {},
   "source": [
    "Example : \n",
    "\n",
    "    378466:[[-0.33543903 -0.34327558 -0.99156916  0.17543791 -1.1597859   0.62841564\n",
    "    1.0802213  -1.1643004   0.17708263 -1.5982181   0.08002795  1.439778\n",
    "    -0.18871987  0.07738146 -0.40249282 -1.4272877   1.0847903   0.7083911\n",
    "    0.11897249 -0.82501847  0.07072636 -0.8887081  -0.90862906  0.5801698\n",
    "    -0.04055832  0.7963939   0.7347262   0.63257265  0.88813674  0.01559831\n",
    "    0.38137203  0.20726131  0.08162224  0.33317327  0.48780873  0.83368325\n",
    "    -0.5089358  -0.18972501 -0.50727546 -0.5938133  -1.3149095  -0.5530932\n",
    "    -0.20405641  0.5140792  -1.1838571   0.00181923 -0.67174435 -0.54573345\n",
    "    0.3464684   1.2554152 ]]\n",
    "    1583072 : ..."
   ]
  },
  {
   "cell_type": "markdown",
   "metadata": {},
   "source": [
    "Extract embeddings"
   ]
  },
  {
   "cell_type": "code",
   "execution_count": 4,
   "metadata": {},
   "outputs": [],
   "source": [
    "# load target embedding -- code from Yuting\n",
    "import re \n",
    "\n",
    "def extract_embeddings(file_path) : \n",
    "    \"\"\"\n",
    "    creates dict target2emb and influencer2emb\n",
    "    \"\"\"\n",
    "\n",
    "    match_number = re.compile('-?\\ *[0-9]+\\.?[0-9]*(?:[Ee]\\ *[-+]?\\ *[0-9]+)?')\n",
    "    d_emb = {}\n",
    "    emb = ''\n",
    "    with open(file_path, \"r\", encoding=\"utf-8\") as file:\n",
    "        for line in file :\n",
    "            emb += line\n",
    "            if line.endswith(']]\\n'):\n",
    "                l_temp = re.findall(match_number, emb)\n",
    "                assert len(l_temp)==51\n",
    "                number = [float(x) for x in l_temp[1:]]\n",
    "                d_emb[l_temp[0]] =  number\n",
    "                emb = '' \n",
    "\n",
    "    print(\"Embeddings extracted.\")\n",
    "    return d_emb\n"
   ]
  },
  {
   "cell_type": "markdown",
   "metadata": {},
   "source": [
    "Process embeddings"
   ]
  },
  {
   "cell_type": "code",
   "execution_count": 5,
   "metadata": {},
   "outputs": [
    {
     "name": "stdout",
     "output_type": "stream",
     "text": [
      "Embeddings extracted.\n",
      "Embeddings extracted.\n",
      "shape : (1170688, 50)\n",
      "shape : (1170688, 50)\n"
     ]
    }
   ],
   "source": [
    "def process_embeddings(d, save=False, filename = \"\") : \n",
    "    df = pd.DataFrame.from_dict(d, orient='index')\n",
    "    \n",
    "    df.index = df.index.astype(np.int64)\n",
    "    df = df.merge(u_to_userids, left_on = df.index, right_on=u_to_userids.index)\n",
    "    df.index = df.userid\n",
    "    df = df.drop(columns=['key_0', 'userid'])\n",
    "\n",
    "    print(\"shape : \" + str(df.shape))\n",
    "    if save : \n",
    "        df.to_pickle(output_folder + filename)\n",
    "    return df\n",
    "\n",
    "\n",
    "target2emb = extract_embeddings(\"papers\\IMINFECTOR\\data\\Embeddings\\inf2vec_target_embeddings_7.txt\")\n",
    "influencer2emb = extract_embeddings(\"papers\\IMINFECTOR\\data\\Embeddings\\inf2vec_source_embeddings_7.txt\")\n",
    "target2emb = process_embeddings(target2emb, True, \"target_inf2vec.pkl\")\n",
    "influencer2emb = process_embeddings(influencer2emb, True, \"influencers_inf2vec.pkl\")\n",
    "\n",
    "# target2emb = extract_embeddings(\"data\\weibo\\weibo_embedding\\mtl_n_target_embeddings_p.txt\")\n",
    "# influencer2emb = extract_embeddings(\"data\\weibo\\weibo_embedding\\mtl_n_source_embeddings_p.txt\")\n",
    "# target2emb = process_embeddings(target2emb, True, \"target_embeddings.pkl\")\n",
    "# influencer2emb = process_embeddings(influencer2emb, True, \"influencers_embeddings.pkl\")\n"
   ]
  },
  {
   "cell_type": "markdown",
   "metadata": {},
   "source": [
    "end"
   ]
  },
  {
   "cell_type": "markdown",
   "metadata": {},
   "source": [
    "### Analysis"
   ]
  },
  {
   "cell_type": "markdown",
   "metadata": {},
   "source": [
    "#### subsampling_2"
   ]
  },
  {
   "cell_type": "code",
   "execution_count": null,
   "metadata": {},
   "outputs": [],
   "source": [
    "tests_n = [50,75,100,125,150,200,250,300]\n",
    "for n_min_repost in tests_n :\n",
    "    edges2 = subsampling_2(10000, n_min_repost)\n",
    "    print(f\"{n_min_repost}, {edges2.shape[0]}, I = {edges2.groupby('u').count().shape[0]}, T = {edges2.groupby('v').count().shape[0]}\")"
   ]
  },
  {
   "cell_type": "markdown",
   "metadata": {},
   "source": [
    "    100K cascades                       10K cascades\n",
    "    50, 4533008, I = 24870, T = 179760  50, 559835, I = 4898, T = 168815\n",
    "    75, 1983886, I = 21144, T = 61029   75, 252581, I = 4282, T = 59253\n",
    "    100, 856969, I = 16573, T = 22268   100, 112370, I = 3428, T = 21682\n",
    "    125, 377285, I = 12030, T = 8830    125, 50754, I = 2465, T = 8519\n",
    "    150, 179932, I = 8469, T = 3976     150, 24808, I = 1747, T = 3767\n",
    "    200, 53679, I = 4639, T = 1147      200, 7757, I = 908, T = 1031\n",
    "    250, 21460, I = 3045, T = 467       250, 3218, I = 589, T = 403\n",
    "    300, 7497, I = 1915, T = 203        300, 1115, I = 353, T = 160"
   ]
  },
  {
   "cell_type": "code",
   "execution_count": 24,
   "metadata": {},
   "outputs": [
    {
     "data": {
      "image/png": "[encoded data removed]",
      "text/plain": [
       "<Figure size 1080x216 with 3 Axes>"
      ]
     },
     "metadata": {
      "needs_background": "light"
     },
     "output_type": "display_data"
    }
   ],
   "source": [
    "#edges = subsampling_2(100000, 150)\n",
    "#estimate_probabilities(edges)\n",
    "\n",
    "fig, ax = plt.subplots(1,3,figsize = (15,3), sharey= True)\n",
    "sns.histplot(labels.BT.apply(np.log), bins=10, ax = ax[0])\n",
    "ax[0].set_title(\"BT distribution\")\n",
    "sns.histplot(labels.JI.apply(np.log), bins=10, ax = ax[1])\n",
    "ax[1].set_title(\"JI distribution\")\n",
    "sns.histplot(labels.LP.apply(np.log), bins=10, ax = ax[2])\n",
    "ax[2].set_title(\"LP distribution\")\n",
    "plt.show()"
   ]
  },
  {
   "cell_type": "markdown",
   "metadata": {},
   "source": [
    "end"
   ]
  },
  {
   "cell_type": "markdown",
   "metadata": {},
   "source": []
  }
 ],
 "metadata": {
  "kernelspec": {
   "display_name": "Python 3.8.12 ('greedy')",
   "language": "python",
   "name": "python3"
  },
  "language_info": {
   "codemirror_mode": {
    "name": "ipython",
    "version": 3
   },
   "file_extension": ".py",
   "mimetype": "text/x-python",
   "name": "python",
   "nbconvert_exporter": "python",
   "pygments_lexer": "ipython3",
   "version": "3.8.12"
  },
  "orig_nbformat": 4,
  "vscode": {
   "interpreter": {
    "hash": "e383b0081ac07cdf99c82edde9d4d37193c485cac9bae96a2b2d84a49f1aefca"
   }
  }
 },
 "nbformat": 4,
 "nbformat_minor": 2
}
