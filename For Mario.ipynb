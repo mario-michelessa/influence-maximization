{
 "cells": [
  {
   "cell_type": "code",
   "execution_count": 3,
   "metadata": {},
   "outputs": [],
   "source": [
    "import pandas as pd\n",
    "import numpy as np\n",
    "import random\n",
    "import pickle\n",
    "from random import randint, sample\n",
    "import os\n",
    "import re\n",
    "import time"
   ]
  },
  {
   "cell_type": "markdown",
   "metadata": {},
   "source": [
    "# load node embedding"
   ]
  },
  {
   "cell_type": "code",
   "execution_count": null,
   "metadata": {},
   "outputs": [],
   "source": [
    "# load target embedding\n",
    "path = '/media/yuting/TOSHIBA EXT/weibo_new/mtl_n_target_embeddings_p.txt'\n",
    "with open(path, \"r\", encoding=\"utf-8\") as f:\n",
    "    lines = f.readlines()\n",
    "match_number = re.compile('-?\\ *[0-9]+\\.?[0-9]*(?:[Ee]\\ *[-+]?\\ *[0-9]+)?')\n",
    "node2emb = {}\n",
    "emb = ''\n",
    "for i in range(len(lines)):\n",
    "    \n",
    "    if not lines[i].endswith(']]\\n'):\n",
    "        emb = emb + lines[i]\n",
    "        continue\n",
    "    else:\n",
    "        emb = emb + lines[i]\n",
    "        l_temp = re.findall(match_number,emb)\n",
    "        assert len(l_temp)==51\n",
    "        number = [float(x) for x in l_temp[1:]]\n",
    "        node2emb[l_temp[0]] =  number\n",
    "        emb = '' "
   ]
  },
  {
   "cell_type": "code",
   "execution_count": null,
   "metadata": {},
   "outputs": [],
   "source": [
    "# load source embedding\n",
    "path = '/media/yuting/TOSHIBA EXT/weibo_new/mtl_n_source_embeddings_p.txt'\n",
    "with open(path, \"r\", encoding=\"utf-8\") as f:\n",
    "    lines2 = f.readlines()\n",
    "node2emb_source = {}\n",
    "emb_source = ''\n",
    "for i in range(len(lines2)):\n",
    "    if not lines2[i].endswith(']]\\n'):\n",
    "        emb_source = emb_source + lines2[i]\n",
    "        continue\n",
    "    else:\n",
    "        emb_source = emb_source + lines2[i]\n",
    "        l_temp = re.findall(match_number,emb_source)\n",
    "        assert len(l_temp)==51\n",
    "        number = [float(x) for x in l_temp[1:]]\n",
    "        node2emb_source[l_temp[0]] =  number\n",
    "        emb_source = ''"
   ]
  },
  {
   "cell_type": "markdown",
   "metadata": {},
   "source": [
    "# get topic embedding"
   ]
  },
  {
   "cell_type": "raw",
   "metadata": {},
   "source": [
    "Here I only filter out the tweet of news(with news_index)"
   ]
  },
  {
   "cell_type": "code",
   "execution_count": null,
   "metadata": {},
   "outputs": [],
   "source": [
    "# /media/yuting/TOSHIBA EXT/weibo_new/doc\n",
    "def get_topic_emb(news_index):\n",
    "    topic_emb_dict = {}\n",
    "    cnt = 0\n",
    "    with open('/media/yuting/TOSHIBA EXT/weibo_new/doc', 'rb')as f:\n",
    "        next(f)\n",
    "        while True:\n",
    "            line = f.readline()\n",
    "            if len(line) == 0:\n",
    "                break\n",
    "                \n",
    "            line = line.split()\n",
    "            assert len(line) == 202\n",
    "            if int(line[1]) in news_index.keys(): # you can get rid of this condition if you want all the topic embedding\n",
    "                new_line = [(int(line[i]),float(line[i+1])) for i in range(2,202,2)]\n",
    "                new_line.sort(key=lambda x:x[0])\n",
    "                vec = [new_line[i][1] for i in range(len(new_line))]\n",
    "                topic_emb_dict[news_index[int(line[1])]] = vec\n",
    "                cnt += 1\n",
    "                if cnt%1000==0:\n",
    "                    print(cnt,line[1])\n",
    "    topic_emb_mat = [0]*len(news_index)\n",
    "    for i in topic_emb_dict:\n",
    "        topic_emb_mat[int(i)] = np.array(topic_emb_dict[i],dtype='float32')\n",
    "    topic_emb_mat[0] = np.zeros(100, dtype='float32')\n",
    "    topic_emb_mat = np.array(topic_emb_mat, dtype='float32')\n",
    "    print(topic_emb_mat.shape)\n",
    "    return topic_emb_mat"
   ]
  },
  {
   "cell_type": "markdown",
   "metadata": {},
   "source": [
    "# load repost data"
   ]
  },
  {
   "cell_type": "code",
   "execution_count": null,
   "metadata": {},
   "outputs": [],
   "source": [
    "file_path ='/media/yuting/TOSHIBA EXT/weibo_new/repost_data.txt'\n",
    "with open(file_path, \"r\", encoding=\"gbk\") as f:\n",
    "    lines_repost = f.readlines()\n",
    "    \n",
    "postid_reuid_dict = {}\n",
    "i = 0\n",
    "while i < (len(lines_repost)):\n",
    "    A = lines_repost[i].split()[0] # A post_id\n",
    "    B = int(lines_repost[i].split()[1]) # B num of repost\n",
    "    for j in range(B):\n",
    "        postid_reuid_dict.setdefault(A,[]).append(lines_repost[i+1+j].split())\n",
    "    i = i+1+B"
   ]
  },
  {
   "cell_type": "markdown",
   "metadata": {},
   "source": [
    "Here again I only used the tweets of news, so I filtered them in a new dict mid_history. You can use postid_reuid_dict directly."
   ]
  },
  {
   "cell_type": "code",
   "execution_count": null,
   "metadata": {},
   "outputs": [],
   "source": [
    "# filter out useful news\n",
    "mid_history = {}\n",
    "for mid in postid_mid_map.keys():\n",
    "    if int(mid) in news_dict.keys():\n",
    "        mid_history[mid] = postid_reuid_dict[str(postid_mid_map[mid])]\n",
    "print(len(postid_reuid_dict))\n",
    "print(len(mid_history))"
   ]
  },
  {
   "cell_type": "code",
   "execution_count": null,
   "metadata": {},
   "outputs": [],
   "source": [
    "user_history = {}\n",
    "for k,v in mid_history.items():\n",
    "#     diffusion_list = mid_history[k]\n",
    "    for i in range(len(v)):\n",
    "        if v[i][1] not in user_history:\n",
    "            user_history.setdefault(v[i][1],[]).append([k,v[i][0]])\n",
    "        else:\n",
    "            user_history[v[i][1]].append([k,v[i][0]])"
   ]
  },
  {
   "cell_type": "code",
   "execution_count": null,
   "metadata": {},
   "outputs": [],
   "source": [
    "# set time order\n",
    "user_history = dict([k,sorted(v,key=lambda x: x[1])] for k,v in user_history.items())\n",
    "mid_history = dict([k,sorted(v,key=lambda x: x[0])] for k,v in mid_history.items())"
   ]
  }
 ],
 "metadata": {
  "kernelspec": {
   "display_name": "PyCharm (shap)",
   "language": "python",
   "name": "pycharm-81b7abe8"
  },
  "language_info": {
   "codemirror_mode": {
    "name": "ipython",
    "version": 3
   },
   "file_extension": ".py",
   "mimetype": "text/x-python",
   "name": "python",
   "nbconvert_exporter": "python",
   "pygments_lexer": "ipython3",
   "version": "3.7.4"
  }
 },
 "nbformat": 4,
 "nbformat_minor": 2
}
